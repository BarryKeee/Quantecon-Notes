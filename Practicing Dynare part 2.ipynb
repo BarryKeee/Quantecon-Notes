{
 "cells": [
  {
   "cell_type": "markdown",
   "metadata": {},
   "source": [
    "# Practicing Dynare\n",
    "\n",
    "This notebook replicates the examples in *Practicing Dynare* by Barillas, Bhandari, Colacito, Kitao, Matthes, Sargent, and Shin. "
   ]
  },
  {
   "cell_type": "code",
   "execution_count": 1,
   "metadata": {
    "ExecuteTime": {
     "end_time": "2019-09-28T00:52:34.158891Z",
     "start_time": "2019-09-28T00:51:46.478988Z"
    }
   },
   "outputs": [
    {
     "name": "stdout",
     "output_type": "stream",
     "text": [
      "\n"
     ]
    }
   ],
   "source": [
    "addpath('C:\\dynare\\4.5.7\\matlab')\n",
    "base_path = 'C:\\Users\\barry\\Documents\\Academics\\Quantecon-Notes';\n",
    "cd 'C:\\Users\\barry\\Documents\\Academics\\Quantecon-Notes\\Dynare_model'"
   ]
  },
  {
   "cell_type": "markdown",
   "metadata": {},
   "source": [
    "## Permanent Income Model\n",
    "\n",
    "Hall (1988)\n",
    "\n",
    "### Model\n",
    "\n",
    "A consumer faces the following problem\n",
    "$$\n",
    "\\max_{c_t, k_t} -\\frac{1}{2} \\sum_{t=0}^\\infty \\beta^t (c_t -b_t)^2\n",
    "$$\n",
    "subject to \n",
    "$$\n",
    "c_t + k_t = Rk_{t-1} +d_t\n",
    "$$\n",
    "$$\n",
    "d_t = \\rho d_{t-1} + (1-\\rho)\\mu_d + \\epsilon_d\n",
    "$$\n",
    "$$\n",
    "b_t = \\rho_b b_{t-1} + (1-\\rho_b)\\mu_b + \\epsilon_b\n",
    "$$\n",
    "Assume $\\beta R = 1$ and no depreciation, which leads to $i_t = k_t -k_{t-1}$\n",
    "The Euler equation requires $\\mu_{ct} = \\mu_{ct+1}, \\mu_{c_t} = b_t - c_t$ where $\\mu_{ct}$ is the marginal utility of consumption or Lagrange multiplier"
   ]
  },
  {
   "cell_type": "code",
   "execution_count": 8,
   "metadata": {
    "ExecuteTime": {
     "end_time": "2019-09-28T01:05:00.938156Z",
     "start_time": "2019-09-28T01:05:00.926222Z"
    }
   },
   "outputs": [
    {
     "name": "stdout",
     "output_type": "stream",
     "text": [
      "Created file 'C:\\Users\\barry\\Documents\\Academics\\Quantecon-Notes\\Dynare_model\\permanent_income\\permanent_income.mod'.\n"
     ]
    }
   ],
   "source": [
    "%%file Dynare_model\\permanent_income\\permanent_income.mod\n",
    "\n",
    "periods = 1000;\n",
    "var c k mu_c b d ian;\n",
    "varexo e_d e_b;\n",
    "\n",
    "parameters R rho rho_b mu_b mu_d;\n",
    "R = 1.05;\n",
    "\n",
    "rho = 0;\n",
    "mu_b = 30;\n",
    "mu_d = 5;\n",
    "rho_b = 0;\n",
    "\n",
    "model(linear);\n",
    "c+k = R*k(-1) + d;\n",
    "mu_c = b-c;\n",
    "mu_c = mu_c(+1);\n",
    "d = rho*d(-1)+mu_d*(1-rho)+e_d;\n",
    "b = (1-rho_b)*mu_b + rho_b*b(-1)+e_b;\n",
    "in = k - k(-1);\n",
    "end;\n",
    "\n",
    "initval;\n",
    "d= mu_d;\n",
    "k= 100;\n",
    "c = (R-1)*k+d;\n",
    "mu_c = mu_b-c;\n",
    "b = mu_b;\n",
    "end;\n",
    "\n",
    "shocks;\n",
    "var e_d;\n",
    "stderr 1;\n",
    "var e_b;\n",
    "stderr 1;\n",
    "end;\n",
    "\n",
    "steady;\n",
    "\n",
    "stoch_simul(dr_algo = 0, order = 1, periods = 1000, irf = 10);\n",
    "\n"
   ]
  },
  {
   "cell_type": "code",
   "execution_count": 9,
   "metadata": {
    "ExecuteTime": {
     "end_time": "2019-09-28T01:05:01.712133Z",
     "start_time": "2019-09-28T01:05:01.693181Z"
    }
   },
   "outputs": [
    {
     "name": "stdout",
     "output_type": "stream",
     "text": [
      "\n"
     ]
    }
   ],
   "source": [
    "cd 'C:\\Users\\barry\\Documents\\Academics\\Quantecon-Notes\\Dynare_model'\n",
    "cd 'permanent_income'"
   ]
  },
  {
   "cell_type": "code",
   "execution_count": 10,
   "metadata": {
    "ExecuteTime": {
     "end_time": "2019-09-28T01:05:10.644500Z",
     "start_time": "2019-09-28T01:05:02.228819Z"
    },
    "scrolled": true
   },
   "outputs": [
    {
     "name": "stdout",
     "output_type": "stream",
     "text": [
      "\n",
      "Configuring Dynare ...\n",
      "[mex] Generalized QZ.\n",
      "[mex] Sylvester equation solution.\n",
      "[mex] Kronecker products.\n",
      "[mex] Sparse kronecker products.\n",
      "[mex] Local state space iteration (second order).\n",
      "[mex] Bytecode evaluation.\n",
      "[mex] k-order perturbation solver.\n",
      "[mex] k-order solution simulation.\n",
      "[mex] Quasi Monte-Carlo sequence (Sobol).\n",
      "[mex] Markov Switching SBVAR.\n",
      "\n",
      "Using 64-bit preprocessor\n",
      "Starting Dynare (version 4.5.7).\n",
      "Starting preprocessing of the model file ...\n",
      "WARNING: permanent_income.mod:2.1-15: periods: this command is now deprecated and may be removed in a future version of Dynare. Please use the ''periods'' option of the ''simul'' command instead.\n",
      "WARNING: permanent_income.mod:40.13-23: dr_algo option is now deprecated, and may be removed in a future version of Dynare\n",
      "Found 6 equation(s).\n",
      "Evaluating expressions...done\n",
      "Computing static model derivatives:\n",
      " - order 1\n",
      "Computing dynamic model derivatives:\n",
      " - order 1\n",
      " - order 2\n",
      "Processing outputs ...\n",
      "done\n",
      "Preprocessing completed.\n",
      "\n",
      "\n",
      "STEADY-STATE RESULTS:\n",
      "\n",
      "c    \t\t 10\n",
      "k    \t\t 100\n",
      "mu_c \t\t 20\n",
      "b    \t\t 30\n",
      "d    \t\t 5\n",
      "in   \t\t 0\n",
      "\n",
      "MODEL SUMMARY\n",
      "\n",
      "  Number of variables:         6\n",
      "  Number of stochastic shocks: 2\n",
      "  Number of state variables:   3\n",
      "  Number of jumpers:           1\n",
      "  Number of static variables:  2\n",
      "\n",
      "\n",
      "MATRIX OF COVARIANCE OF EXOGENOUS SHOCKS\n",
      "Variables         e_d       e_b\n",
      "e_d          1.000000  0.000000\n",
      "e_b          0.000000  1.000000\n",
      "\n",
      "POLICY AND TRANSITION FUNCTIONS\n",
      "                                   c               k            mu_c               b               d              in\n",
      "Constant                   10.000000      100.000000       20.000000       30.000000        5.000000               0\n",
      "k(-1)                       0.050000        1.000000       -0.050000               0               0               0\n",
      "e_d                         0.047619        0.952381       -0.047619               0        1.000000        0.952381\n",
      "e_b                         0.952381       -0.952381        0.047619        1.000000               0       -0.952381\n",
      "\n",
      "\n",
      "MOMENTS OF SIMULATED VARIABLES\n",
      "VARIABLE              MEAN       STD. DEV.        VARIANCE        SKEWNESS        KURTOSIS\n",
      "c                11.211898        1.709717        2.923132       -0.065119       -0.713162\n",
      "k               125.064032       27.710961      767.897387       -0.149162       -1.561661\n",
      "mu_c             18.746798        1.385548        1.919743        0.149162       -1.561661\n",
      "b                29.958697        0.973232        0.947180        0.028633        0.231899\n",
      "d                 5.040443        1.002374        1.004753        0.157525        0.173943\n",
      "in                0.077854        1.283084        1.646306        0.064787        0.024318\n",
      "\n",
      "\n",
      "CORRELATION OF SIMULATED VARIABLES\n",
      "VARIABLE         c       k    mu_c       b       d      in\n",
      "c           1.0000  0.8223 -0.8223  0.5861  0.0694 -0.3718\n",
      "k           0.8223  1.0000 -1.0000  0.0208  0.0363  0.0120\n",
      "mu_c       -0.8223 -1.0000  1.0000 -0.0208 -0.0363 -0.0120\n",
      "b           0.5861  0.0208 -0.0208  1.0000  0.0702 -0.6702\n",
      "d           0.0694  0.0363 -0.0363  0.0702  1.0000  0.6933\n",
      "in         -0.3718  0.0120 -0.0120 -0.6702  0.6933  1.0000\n",
      "\n",
      "\n",
      "AUTOCORRELATION OF SIMULATED VARIABLES\n",
      "VARIABLE         1       2       3       4       5\n",
      "c           0.6914  0.6693  0.7053  0.6969  0.6797\n",
      "k           0.9978  0.9967  0.9958  0.9947  0.9937\n",
      "mu_c        0.9978  0.9967  0.9958  0.9947  0.9937\n",
      "b           0.0120 -0.0592  0.0598  0.0311 -0.0221\n",
      "d           0.0381 -0.0438  0.0052 -0.0012  0.0236\n",
      "in          0.0080 -0.0661  0.0393 -0.0332  0.0018\n",
      "\n",
      "\n",
      "\n",
      "VARIANCE DECOMPOSITION SIMULATING ONE SHOCK AT A TIME (in percent)\n",
      "                     e_d               e_b  Tot. lin. contr.\n",
      "c                  27.11             46.65             73.76\n",
      "k                  41.28             21.99             63.27\n",
      "mu_c               41.28             21.99             63.27\n",
      "b                   0.00            100.11            100.11\n",
      "d                 100.11              0.00            100.11\n",
      "in                 55.42             52.24            107.66\n",
      "Note: numbers do not add up to 100 due to non-zero correlation of simulated shocks in small samples\n",
      "\n",
      "Total computing time : 0h00m06s\n",
      "Note: 2 warning(s) encountered in the preprocessor\n",
      "\n"
     ]
    },
    {
     "data": {
      "image/png": "[encoded data removed]",
      "text/plain": [
       "<IPython.core.display.Image object>"
      ]
     },
     "metadata": {},
     "output_type": "display_data"
    },
    {
     "data": {
      "image/png": "[encoded data removed]",
      "text/plain": [
       "<IPython.core.display.Image object>"
      ]
     },
     "metadata": {},
     "output_type": "display_data"
    }
   ],
   "source": [
    "dynare permanent_income.mod"
   ]
  },
  {
   "cell_type": "markdown",
   "metadata": {},
   "source": [
    "## Labor market for engineers\n",
    "\n",
    "Ryoo and Rosen (2004)\n",
    "\n",
    "### Model\n",
    "Number of engineers: $N_t$. Number of new enterants into engineering school $s_t$. Wage level $w_t$. It takes $k$ periods of schooling to become an engineer. \n",
    "\n",
    "The present value of the engineer is \n",
    "$$\n",
    "P_t = (1-\\delta)\\beta P_{t+1} + (1-\\delta)^k \\beta^k w_{t+k}\n",
    "$$\n",
    "The supply of new engineering students \n",
    "$$\n",
    "s_t = a_0 + a_1 P_t + \\epsilon_t\n",
    "$$\n",
    "A time-to-build structure of education process\n",
    "$$\n",
    "N_t = (1-\\delta)N_{t-1} + s_{t-k}\n",
    "$$\n",
    "A demand curve for engineers \n",
    "$$\n",
    "N_t = d_0 - d_1 w_t + e_{dt}\n",
    "$$"
   ]
  },
  {
   "cell_type": "code",
   "execution_count": 15,
   "metadata": {
    "ExecuteTime": {
     "end_time": "2019-09-28T01:13:21.838551Z",
     "start_time": "2019-09-28T01:13:21.822595Z"
    }
   },
   "outputs": [
    {
     "name": "stdout",
     "output_type": "stream",
     "text": [
      "Created file 'C:\\Users\\barry\\Documents\\Academics\\Quantecon-Notes\\Dynare_model\\engineer_market\\engineer_market.mod'.\n"
     ]
    }
   ],
   "source": [
    "%%file Dynare_model\\engineer_market\\engineer_market.mod\n",
    "\n",
    "periods 500;\n",
    "var s N P W;\n",
    "varexo e_s e_d;\n",
    "parameters a0 a1 delta d0 d1 bet k;\n",
    "a0=10;\n",
    "a1=1;\n",
    "d0=1000;\n",
    "d1=1;\n",
    "bet=.99;\n",
    "delta=.02;\n",
    "model(linear);\n",
    "s=a0+a1*P+e_s; // flow supply of new entrants\n",
    "N=(1-delta)*N(-1) + s(-4); // evolution of the stock\n",
    "N=d0-d1*W+e_d; // stock demand equation\n",
    "P=bet*(1-delta)*P(+1)+bet^4*(1-delta)^4*W(+4); // present value of\n",
    "//wages\n",
    "\n",
    "end;\n",
    "initval;\n",
    "s=0;\n",
    "N=0;\n",
    "P=0;\n",
    "W=0;\n",
    "end;\n",
    "shocks;\n",
    "var e_d;\n",
    "stderr 1;\n",
    "var e_s;\n",
    "stderr 1;\n",
    "end;\n",
    "steady;\n",
    "check;\n",
    "stoch_simul(dr_algo=0, order=1, periods=500, irf=10);"
   ]
  },
  {
   "cell_type": "code",
   "execution_count": 16,
   "metadata": {
    "ExecuteTime": {
     "end_time": "2019-09-28T01:13:22.948279Z",
     "start_time": "2019-09-28T01:13:22.925340Z"
    }
   },
   "outputs": [
    {
     "name": "stdout",
     "output_type": "stream",
     "text": [
      "\n"
     ]
    }
   ],
   "source": [
    "cd 'C:\\Users\\barry\\Documents\\Academics\\Quantecon-Notes\\Dynare_model'\n",
    "cd 'engineer_market'"
   ]
  },
  {
   "cell_type": "code",
   "execution_count": 17,
   "metadata": {
    "ExecuteTime": {
     "end_time": "2019-09-28T01:13:26.648479Z",
     "start_time": "2019-09-28T01:13:23.509657Z"
    },
    "scrolled": false
   },
   "outputs": [
    {
     "name": "stdout",
     "output_type": "stream",
     "text": [
      "\n",
      "Configuring Dynare ...\n",
      "[mex] Generalized QZ.\n",
      "[mex] Sylvester equation solution.\n",
      "[mex] Kronecker products.\n",
      "[mex] Sparse kronecker products.\n",
      "[mex] Local state space iteration (second order).\n",
      "[mex] Bytecode evaluation.\n",
      "[mex] k-order perturbation solver.\n",
      "[mex] k-order solution simulation.\n",
      "[mex] Quasi Monte-Carlo sequence (Sobol).\n",
      "[mex] Markov Switching SBVAR.\n",
      "\n",
      "Using 64-bit preprocessor\n",
      "Starting Dynare (version 4.5.7).\n",
      "Starting preprocessing of the model file ...\n",
      "WARNING: engineer_market.mod:2.1-12: periods: this command is now deprecated and may be removed in a future version of Dynare. Please use the ''periods'' option of the ''simul'' command instead.\n",
      "WARNING: engineer_market.mod:34.13-21: dr_algo option is now deprecated, and may be removed in a future version of Dynare\n",
      "Substitution of endo leads >= 2: added 3 auxiliary variables and equations.\n",
      "Substitution of endo lags >= 2: added 3 auxiliary variables and equations.\n",
      "Found 10 equation(s).\n",
      "Evaluating expressions...done\n",
      "Computing static model derivatives:\n",
      " - order 1\n",
      "Computing dynamic model derivatives:\n",
      " - order 1\n",
      " - order 2\n",
      "Processing outputs ...\n",
      "done\n",
      "Preprocessing completed.\n",
      "\n",
      "Warning: Some of the parameters have no value (k) when using steady. If these parameters are not initialized in a steadystate file or a steady_state_model-block, Dynare may not be able to solve the model...\n",
      "\n",
      "STEADY-STATE RESULTS:\n",
      "\n",
      "s                \t\t 19.9933\n",
      "N                \t\t 999.664\n",
      "P                \t\t 9.99328\n",
      "W                \t\t 0.336108\n",
      "\n",
      "EIGENVALUES:\n",
      "         Modulus             Real        Imaginary\n",
      "\n",
      "        1.87e-05         1.87e-05                0\n",
      "       1.899e-05        2.827e-07        1.899e-05\n",
      "       1.899e-05        2.827e-07       -1.899e-05\n",
      "       1.927e-05       -1.927e-05                0\n",
      "          0.4002           0.4002                0\n",
      "           2.524            2.524                0\n",
      "             Inf              Inf                0\n",
      "             Inf              Inf                0\n",
      "             Inf              Inf                0\n",
      "             Inf              Inf                0\n",
      "\n",
      "\n",
      "There are 5 eigenvalue(s) larger than 1 in modulus \n",
      "for 5 forward-looking variable(s)\n",
      "\n",
      "The rank condition is verified.\n",
      "\n",
      "Warning: Some of the parameters have no value (k) when using stoch_simul. If these parameters are not initialized in a steadystate file or a steady_state_model-block, Dynare may not be able to solve the model...\n",
      "\n",
      "MODEL SUMMARY\n",
      "\n",
      "  Number of variables:         10\n",
      "  Number of stochastic shocks: 2\n",
      "  Number of state variables:   5\n",
      "  Number of jumpers:           5\n",
      "  Number of static variables:  0\n",
      "\n",
      "\n",
      "MATRIX OF COVARIANCE OF EXOGENOUS SHOCKS\n",
      "Variables         e_s       e_d\n",
      "e_s          1.000000  0.000000\n",
      "e_d          0.000000  1.000000\n",
      "\n",
      "POLICY AND TRANSITION FUNCTIONS\n",
      "                                   s               N               P               W\n",
      "Constant                   19.993278      999.663892        9.993278        0.336108\n",
      "s(-1)                      -0.579755               0       -0.579755               0\n",
      "N(-1)                      -0.534748        0.980000       -0.534748       -0.980000\n",
      "s(-2)                      -0.568160               0       -0.568160               0\n",
      "s(-3)                      -0.556797               0       -0.556797               0\n",
      "s(-4)                      -0.545661        1.000000       -0.545661       -1.000000\n",
      "e_s                         0.408413               0       -0.591587               0\n",
      "e_d                                0               0               0        1.000000\n",
      "\n",
      "\n",
      "MOMENTS OF SIMULATED VARIABLES\n",
      "VARIABLE              MEAN       STD. DEV.        VARIANCE        SKEWNESS        KURTOSIS\n",
      "s                19.994406        0.467210        0.218285        0.070188        0.271218\n",
      "N               999.659865        0.442565        0.195864        0.077781       -0.004597\n",
      "P                 9.994158        0.644203        0.414997       -0.069889       -0.037787\n",
      "W                 0.245707        1.089042        1.186012        0.003848       -0.003332\n",
      "\n",
      "\n",
      "CORRELATION OF SIMULATED VARIABLES\n",
      "VARIABLE         s       N       P       W\n",
      "s           1.0000 -0.0660 -0.5462  0.0986\n",
      "N          -0.0660  1.0000  0.0059 -0.4641\n",
      "P          -0.5462  0.0059  1.0000 -0.0546\n",
      "W           0.0986 -0.4641 -0.0546  1.0000\n",
      "\n",
      "\n",
      "AUTOCORRELATION OF SIMULATED VARIABLES\n",
      "VARIABLE         1       2       3       4       5\n",
      "s          -0.2479 -0.1763 -0.0114 -0.0176 -0.0977\n",
      "N           0.4322  0.1494  0.0677 -0.0112 -0.0684\n",
      "P           0.4336  0.1499  0.0624 -0.0077 -0.0545\n",
      "W           0.1335 -0.0101  0.0258 -0.0561 -0.0737\n",
      "\n",
      "\n",
      "\n",
      "VARIANCE DECOMPOSITION SIMULATING ONE SHOCK AT A TIME (in percent)\n",
      "                  e_s               e_d  Tot. lin. contr.\n",
      "s              100.25              0.00            100.25\n",
      "N              100.25              0.00            100.25\n",
      "P              100.25              0.00            100.25\n",
      "W               16.56             78.99             95.54\n",
      "Note: numbers do not add up to 100 due to non-zero correlation of simulated shocks in small samples\n",
      "\n",
      "Total computing time : 0h00m02s\n",
      "Note: 2 warning(s) encountered in the preprocessor\n",
      "Note: warning(s) encountered in MATLAB/Octave code\n",
      "\n"
     ]
    },
    {
     "data": {
      "image/png": "[encoded data removed]",
      "text/plain": [
       "<IPython.core.display.Image object>"
      ]
     },
     "metadata": {},
     "output_type": "display_data"
    },
    {
     "data": {
      "image/png": "[encoded data removed]",
      "text/plain": [
       "<IPython.core.display.Image object>"
      ]
     },
     "metadata": {},
     "output_type": "display_data"
    }
   ],
   "source": [
    "dynare engineer_market.mod"
   ]
  },
  {
   "cell_type": "code",
   "execution_count": null,
   "metadata": {},
   "outputs": [],
   "source": []
  }
 ],
 "metadata": {
  "kernelspec": {
   "display_name": "Matlab",
   "language": "matlab",
   "name": "matlab"
  },
  "language_info": {
   "codemirror_mode": "octave",
   "file_extension": ".m",
   "help_links": [
    {
     "text": "MetaKernel Magics",
     "url": "https://metakernel.readthedocs.io/en/latest/source/README.html"
    }
   ],
   "mimetype": "text/x-octave",
   "name": "matlab",
   "version": "0.16.7"
  },
  "latex_envs": {
   "LaTeX_envs_menu_present": true,
   "autoclose": false,
   "autocomplete": true,
   "bibliofile": "biblio.bib",
   "cite_by": "apalike",
   "current_citInitial": 1,
   "eqLabelWithNumbers": true,
   "eqNumInitial": 1,
   "hotkeys": {
    "equation": "Ctrl-E",
    "itemize": "Ctrl-I"
   },
   "labels_anchors": false,
   "latex_user_defs": false,
   "report_style_numbering": false,
   "user_envs_cfg": false
  },
  "varInspector": {
   "cols": {
    "lenName": 16,
    "lenType": 16,
    "lenVar": 40
   },
   "kernels_config": {
    "python": {
     "delete_cmd_postfix": "",
     "delete_cmd_prefix": "del ",
     "library": "var_list.py",
     "varRefreshCmd": "print(var_dic_list())"
    },
    "r": {
     "delete_cmd_postfix": ") ",
     "delete_cmd_prefix": "rm(",
     "library": "var_list.r",
     "varRefreshCmd": "cat(var_dic_list()) "
    }
   },
   "types_to_exclude": [
    "module",
    "function",
    "builtin_function_or_method",
    "instance",
    "_Feature"
   ],
   "window_display": false
  }
 },
 "nbformat": 4,
 "nbformat_minor": 2
}
