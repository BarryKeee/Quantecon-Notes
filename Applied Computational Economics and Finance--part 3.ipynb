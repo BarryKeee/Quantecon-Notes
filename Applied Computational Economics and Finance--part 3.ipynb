{
 "cells": [
  {
   "cell_type": "code",
   "execution_count": 2,
   "metadata": {},
   "outputs": [
    {
     "name": "stdout",
     "output_type": "stream",
     "text": [
      "Warning: Function psi has the same name as a MATLAB builtin. We suggest you rename the function to avoid a potential name conflict.\n",
      "> In path (line 109)\n",
      "  In addpath (line 86)\n",
      "\n"
     ]
    }
   ],
   "source": [
    "addpath('C:\\Users\\barry\\Documents\\Academics\\Quantecon-Notes\\functions')\n",
    "addpath('C:\\Users\\barry\\Documents\\Academics\\Quantecon-Notes\\functions\\CEtools')\n",
    "addpath('C:\\Users\\barry\\Documents\\Academics\\Quantecon-Notes\\functions\\CEtools\\public')\n",
    "cd 'C:\\Users\\barry\\Documents\\Academics\\Quantecon-Notes\\functions'"
   ]
  },
  {
   "cell_type": "markdown",
   "metadata": {},
   "source": [
    "# Chapter 10: Continuous Time \n",
    "\n",
    "## Arbitrage Based Asset Valuation\n",
    "\n",
    "Consider two assets with values $V$ and $W$, both depend on random process $dS = \\mu_s dt+\\sigma_s dz$. Since it is Ito process, it means the $V$ and $W$ are Ito process and are of form $dV = \\mu_V dt+\\sigma_V dz$, $dW = \\mu_W dt + \\sigma_W dz$. \n",
    "\n",
    "Suppose each asset generates income processes $\\delta_V$ and $\\delta_W$. A portfolio with one unit of $V$ and $h$ unit of $W$ will have value \n",
    "$$\n",
    "dV + hdW = [\\mu_V+h\\mu_W]dt+[\\sigma_V+h\\sigma_W]dz\n",
    "$$\n",
    "Choose $h = -\\frac{\\sigma_V}{\\sigma_W}$, we have the portfolio to be risk free, and therefore, \n",
    "$$\n",
    "[\\mu_V-\\frac{\\sigma_V}{\\sigma_W}\\mu_W]dt + [\\delta_V -\\frac{\\sigma_V}{\\sigma_W}\\delta_W]dt = r[V-\\frac{\\sigma_V}{\\sigma_W}]dt\n",
    "$$\n",
    "Thus, for any asset, we must have \n",
    "$$\n",
    "\\frac{\\mu_V+\\delta_V-rV}{\\sigma_V} = \\frac{\\mu_W+\\delta_W-rW}{\\sigma_W} = \\theta\n",
    "$$\n",
    "where $\\theta$ is the same for any asset. So the total return must equal to risk free rate plus a risk adjustment: $\\mu_V+\\delta_V = rV+\\theta \\sigma_V$\n",
    "\n",
    "Ito's lemma: $\\mu_V = V_t+\\mu_SV_S+\\frac{1}{2}\\sigma_S^2 V_{SS}$ and $\\sigma_V = \\sigma_SV_S$. So we have PDE\n",
    "$$\n",
    "rV = \\delta_V + V_t + (\\mu_S - \\theta\\sigma_S)V_S + \\frac{1}{2}\\sigma^2_S V_{SS}\n",
    "$$\n",
    "\n",
    "**<span style=\"color:red\">When using finsolve, better to use linear function space with large number of nodes. Eg. n=200; fspace = ('lin',n, smin, smax). Also only uses 'lines' option in finsolve. Eg. finsolve(model, fspace, 'lines', s)</span>**\n",
    "\n",
    "### Example: Bond pricing\n",
    "\n",
    "Suppose the rate of interest is described by $dr = \\mu(r) dt + \\sigma(r) dz$ in the risk-neutral process. A bond paying 1 at $T$ satisfies PDE \n",
    "\n",
    "$$\n",
    "rB = B_t + \\mu(r) B + \\frac{1}{2}\\sigma(r)^2 B_{rr}\n",
    "$$\n",
    "with BC $B(r,T)=1$\n",
    "\n",
    "Suppose CIR (Cox-Ingersol_ross) process for interest rate: $dr = \\kappa (\\alpha - r)dt + \\sigma \\sqrt{r}dz$. Express bond value in terms of time-to-maturity ($B(S,t) = V(S, \\tau = T-t)$ so $V_\\tau = -B_t$), we have \n",
    "$$\n",
    "V_\\tau = \\kappa (\\alpha - r) V_r + \\frac{1}{2}\\sigma^2rV_{rr}-rV\n",
    "$$\n",
    "with initial condition $V(r, 0) = 1$. "
   ]
  },
  {
   "cell_type": "code",
   "execution_count": 6,
   "metadata": {},
   "outputs": [
    {
     "name": "stdout",
     "output_type": "stream",
     "text": [
      "Created file 'C:\\Users\\barry\\Documents\\Academics\\Quantecon-Notes\\functions\\bond_pricing.m'.\n"
     ]
    }
   ],
   "source": [
    "%%file functions\\bond_pricing.m\n",
    "function out = bond_pricing(flag, S, kappa, alpha, sigma)\n",
    "n = size(S,1);\n",
    "switch flag\n",
    "case 'rho'\n",
    "out = S;\n",
    "case 'mu'\n",
    "out = kappa*(alpha-S);\n",
    "case 'sigma'\n",
    "out = sigma*sqrt(S);\n",
    "case 'delta'\n",
    "out = [];\n",
    "case 'V0'\n",
    "out = ones(n,1);\n",
    "end"
   ]
  },
  {
   "cell_type": "code",
   "execution_count": 27,
   "metadata": {},
   "outputs": [
    {
     "name": "stdout",
     "output_type": "stream",
     "text": [
      "\n"
     ]
    },
    {
     "data": {
      "image/png": "[encoded data removed]",
      "text/plain": [
       "<IPython.core.display.Image object>"
      ]
     },
     "metadata": {},
     "output_type": "display_data"
    }
   ],
   "source": [
    "clear all;\n",
    "T = 20;\n",
    "kappa = 0.1;\n",
    "alpha = 0.05;\n",
    "sigma = 0.1;\n",
    "\n",
    "n = 200;\n",
    "fspace = fundefn('lin', n, 0, 2);\n",
    "\n",
    "model.func = 'bond_pricing';\n",
    "model.T = T;\n",
    "model.american = 0;\n",
    "model.params = {kappa, alpha, sigma};\n",
    "s = funnode(fspace);\n",
    "c = finsolve(model, fspace, 'lines', s, 1);\n",
    "\n",
    "x=linspace(0,0.25,201)';\n",
    "V = funeval(c(:,end), fspace, x);\n",
    "\n",
    "figure(1)\n",
    "plot(x, V);\n",
    "title('Bond price')\n",
    "xlabel('r')\n",
    "ylabel('V(r)')"
   ]
  },
  {
   "cell_type": "markdown",
   "metadata": {},
   "source": [
    "#### Example: Black-Scholes Formula\n",
    "\n",
    "Suppose $dS = \\mu Sdt + \\sigma Sdz$, the log difference $\\ln{S(t+\\Delta t)} - \\ln{S(t)}$ is distributed with mean $(\\mu - \\frac{1}{2}\\sigma^2)\\Delta t$ and variance is $\\sigma^2 \\Delta t$. \n",
    "\n",
    "It must satisfy the PDE $rV = V_t + rSV_S + \\frac{1}{2}\\sigma^2 S^2 V_{SS}$ with boundary condition $V(S,T) = \\max[0, S-K]$, or put in terms of $\\tau = T-t$, the PDE is \n",
    "$$\n",
    "rV = -V_\\tau + rSV_S + \\frac{1}{2}\\sigma^2 S^2 V_{SS}\n",
    "$$\n",
    "with initial condition $V(S,0) = \\max[S-K,0]$"
   ]
  },
  {
   "cell_type": "code",
   "execution_count": 13,
   "metadata": {},
   "outputs": [
    {
     "name": "stdout",
     "output_type": "stream",
     "text": [
      "Created file 'C:\\Users\\barry\\Documents\\Academics\\Quantecon-Notes\\functions\\black_scholes.m'.\n"
     ]
    }
   ],
   "source": [
    "%%file functions\\black_scholes.m\n",
    "function out = black_scholes(flag, S,r,deltaS, sigma, K, put);\n",
    "switch flag\n",
    "case 'rho'\n",
    "out = r+zeros(size(S,1),1);\n",
    "case 'mu'\n",
    "out = (r-deltaS)*S;\n",
    "case 'sigma'\n",
    "out = sigma*S;\n",
    "case 'delta'\n",
    "out = [];\n",
    "case 'V0'\n",
    "if put\n",
    "out = max(0,K-S);\n",
    "else \n",
    "out = max(0,S-K);\n",
    "end\n",
    "end"
   ]
  },
  {
   "cell_type": "code",
   "execution_count": 33,
   "metadata": {},
   "outputs": [
    {
     "name": "stdout",
     "output_type": "stream",
     "text": [
      "\n"
     ]
    },
    {
     "data": {
      "image/png": "[encoded data removed]",
      "text/plain": [
       "<IPython.core.display.Image object>"
      ]
     },
     "metadata": {},
     "output_type": "display_data"
    }
   ],
   "source": [
    "clear all;\n",
    "r = 0.03;\n",
    "deltaS = 0; % Dividend rate\n",
    "sigma = 0.2;\n",
    "K = 1;\n",
    "put = 0;\n",
    "T = 1;\n",
    "\n",
    "model.func = 'black_scholes';\n",
    "model.T = T;\n",
    "model.params = {r, deltaS, sigma, K, put};\n",
    "model.american = 0;\n",
    "\n",
    "n = 50;\n",
    "fspace = fundefn('lin',n, 0, 2*K);\n",
    "s = funnode(fspace);\n",
    "\n",
    "S = linspace(0, 2*K, 500)';\n",
    "c = finsolve(model, fspace, 'lines', s);\n",
    "\n",
    "figure(1)\n",
    "plot(S, funeval(c, fspace, S));\n",
    "title('European Call Option Value')\n",
    "xlabel('S')\n",
    "ylabel('Value')"
   ]
  },
  {
   "cell_type": "markdown",
   "metadata": {},
   "source": [
    "#### Example: Asian Option\n",
    "\n",
    "An asian option's payout depends on the average price of the underlying asset over some period. Define $S$ to be the underlying price and let asian option depends on $A = \\frac{1}{T}\\int_0^T S_t dt$. \n",
    "\n",
    "The average strike Asian call option pays $\\max(S-A, 0)$ and the fixed strike Asian call option with strike price $K$ pays $\\max(A-K,0)$. Suppose $dS = \\mu_S dt + \\sigma_S dW$. The state space depends on $S,t$, and $C_t = \\int_0^t S_\\tau d\\tau$. Since $dC = Sdt$, the option satisfies the usual no-arbitrage PDE:\n",
    "$$\n",
    "rV = V_t + \\mu_S V_S + SV_C + \\frac{1}{2}\\sigma^2_S V_{SS}\n",
    "$$\n",
    "with boundary condition $V(S,C,T) = \\max(S-C/T,0)$ or $V(S,C,T) = \\max(C/T-K,0)$, which is a two-dimensional PDE. If $S$ satisfies geometric Brownian motion, we can guess $V = Cv(S,t)$ and we can simplify the PDE to be \n",
    "$$\n",
    "(r-y)v = v_t + (r-y)yv_y + \\frac{1}{2}\\sigma^2y^2v_{yy}\n",
    "$$\n",
    "where $y = S/C$"
   ]
  },
  {
   "cell_type": "markdown",
   "metadata": {},
   "source": [
    "#### Example: American Put Option"
   ]
  },
  {
   "cell_type": "code",
   "execution_count": 42,
   "metadata": {},
   "outputs": [
    {
     "name": "stdout",
     "output_type": "stream",
     "text": [
      "\n"
     ]
    },
    {
     "data": {
      "image/png": "[encoded data removed]",
      "text/plain": [
       "<IPython.core.display.Image object>"
      ]
     },
     "metadata": {},
     "output_type": "display_data"
    }
   ],
   "source": [
    "clear all;\n",
    "r = 0.03;\n",
    "deltaS = 0; % Dividend rate\n",
    "sigma = 0.2;\n",
    "K = 1;\n",
    "put = 1;\n",
    "T = 1;\n",
    "\n",
    "model.func = 'black_scholes';\n",
    "model.T = T;\n",
    "model.params = {r, deltaS, sigma, K, put};\n",
    "model.american = 1;\n",
    "\n",
    "n = 200;\n",
    "fspace = fundefn('lin',n, 0, 2*K);\n",
    "s = funnode(fspace);\n",
    "\n",
    "[c,V] = finsolve(model, fspace, 'lines', s);\n",
    "\n",
    "figure(1)\n",
    "plot(s, V);\n",
    "title('American Put Option Value')\n",
    "xlabel('S')\n",
    "ylabel('Value')"
   ]
  },
  {
   "cell_type": "markdown",
   "metadata": {},
   "source": [
    "#### Example: Barrier Option\n",
    "\n",
    "A barrier option behaves like a normal option as long as the underlying price stays above the barrior $B$. If it drops below $B$, the option is terminated with some rebate $R$ paid to the holder. "
   ]
  },
  {
   "cell_type": "code",
   "execution_count": 53,
   "metadata": {},
   "outputs": [
    {
     "name": "stdout",
     "output_type": "stream",
     "text": [
      "\n"
     ]
    },
    {
     "data": {
      "image/png": "[encoded data removed]",
      "text/plain": [
       "<IPython.core.display.Image object>"
      ]
     },
     "metadata": {},
     "output_type": "display_data"
    }
   ],
   "source": [
    "clear all;\n",
    "r = 0.03;\n",
    "deltaS = 0; % Dividend rate\n",
    "sigma = 0.5;\n",
    "K = 1;\n",
    "put = 0;\n",
    "T = 1;\n",
    "\n",
    "Sb = 0.8; % Barrier\n",
    "\n",
    "model.func = 'black_scholes';\n",
    "model.T = T;\n",
    "model.params = {r, deltaS, sigma, K, put};\n",
    "model.american = 0;\n",
    "model.barrier = [0 Sb 1; 0 inf 1];\n",
    "\n",
    "n = 200;\n",
    "fspace = fundefn('lin',n, 0, 2*K);\n",
    "s = funnode(fspace);\n",
    "\n",
    "[c,V] = finsolve(model, fspace, 'lines', s);\n",
    "\n",
    "clear model\n",
    "model.func = 'black_scholes';\n",
    "model.T = T;\n",
    "model.params = {r, deltaS, sigma, K, put};\n",
    "model.american = 0;\n",
    "\n",
    "[c,Vbs] = finsolve(model, fspace, 'lines', s);\n",
    "\n",
    "figure(1)\n",
    "plot(s, V,s,Vbs);\n",
    "title('Barrier Call Option vs. Vanilla Option')\n",
    "legend({'Barrier Option','Vanilla Option'});\n",
    "xlabel('S')\n",
    "ylabel('Value')"
   ]
  },
  {
   "cell_type": "markdown",
   "metadata": {},
   "source": [
    "## Stochastic Control Problem\n",
    "\n",
    "For non-stochastic optimization problem, we solve \n",
    "$$\n",
    "\\max_{x(S,t)} \\int_0^T e^{-\\rho t}f(S,x)dt + e^{-\\rho T}R(S(T)), \\text{ s.t. } dS = g(S,x)dt \n",
    "$$\n",
    "where $S$ is the state variable, $x$ is control and $R(S(T))$ is the terminal value. For small $\\Delta t$, he Bellman equation can be written as (using $e^{-\\rho\\Delta t}\\approx \\frac{1}{1+\\rho \\Delta t}$)\n",
    "$$\n",
    "V(S,t) = \\max_x (f(S,x)\\Delta t + \\frac{1}{1+\\rho \\Delta t}E_t[V(S_{t+\\Delta t}, t+\\Delta t)])\n",
    "$$\n",
    "Multiply by $(1+\\rho \\Delta t)/\\Delta t$ and rearranging:\n",
    "$$\n",
    "\\rho V(S,t) = \\max_x (f(S,x)(1+\\rho \\Delta t) + \\frac{E_t[V(S_{t+\\Delta t},t+\\Delta t) - V(S,t)]}{\\Delta t}\n",
    "$$\n",
    "Take $\\Delta t\\rightarrow 0$, we have\n",
    "$$\n",
    "\\rho V(S,t) = \\max_x [f(S,x)+\\frac{E_tdV(S,t)}{dt}]\n",
    "$$\n",
    "Suppose the state varible follows process $dS = g(S,x)dt + \\sigma(S)dz$, by Ito's Lemma, \n",
    "$$dV = [\\frac{\\partial V}{\\partial t} + g(S,x)\\frac{\\partial V}{\\partial S} + \\frac{1}{2}\\sigma^2(S)\\frac{\\partial^2 V}{\\partial S^2}]dt + \\sigma(S)\\frac{\\partial V}{\\partial S}dz$$\n",
    "Take expectation (the $dz$ term will drop out) and divide by $dt$, we have $\\frac{E_t dV(S,t)}{dt} = \\frac{\\partial V}{\\partial t} + g(S,x)\\frac{\\partial V}{\\partial S} + \\frac{1}{2}\\sigma^2(S)\\frac{\\partial^2 V}{\\partial S^2}$. Replace into the Bellman equation and we have the HJB equation\n",
    "$$\n",
    "\\rho V = \\max_x [f(S,x) + \\frac{\\partial V}{\\partial t} + g(S,x)\\frac{\\partial V}{\\partial S} + \\frac{1}{2}\\sigma^2(S)\\frac{\\partial^2 V}{\\partial S^2}]\n",
    "$$\n",
    "The optimization part is solved by FOC: \n",
    "$$\n",
    "\\frac{\\partial f(S,x)}{\\partial x} + \\frac{\\partial g(S,x)}{\\partial x}\\frac{\\partial V}{\\partial S} = 0\n",
    "$$\n",
    "Two equations with two unknown functions $x = x(S,t)$ and $V = V(S,t)$.Notice that Bellman's Equation is not stochastic; the expectation operator and the randomness in the problem have been eliminated by using Ito's Lemma.\n",
    "\n",
    "In infinite horizon problem, the value function becomes time invariant so $\\frac{\\partial V}{\\partial t} = 0$. Therefore the bellman equation simplifies to \n",
    "$$\n",
    "\\rho V = \\max_x [f(S,x) + g(S,x)\\frac{\\partial V}{\\partial S} + \\frac{1}{2}\\sigma^2(S)\\frac{\\partial^2 V}{\\partial S^2}]\n",
    "$$\n",
    "\n",
    "### Boundary Condition\n",
    "Boundary conditions are justified by economic reason rather than math. \n",
    "\n",
    "If $U(c) = \\frac{c^\\lambda -1}{\\lambda}$, then we must have $V(0) = -\\infty$ and $V_S(0) = \\infty$. \n",
    "\n",
    "For a single state problem, this means that there are two boundary conditions needed. In a two-dimensional problem with only one stochastic state variable, we will need two boundary conditions for the stochastic state and one for the non-stochastic one. Suppose HJB equation \n",
    "$$\n",
    "\\rho V = f(S,t,x) + \\frac{\\partial V}{\\partial t} + g(S,t,x)\\frac{\\partial V}{\\partial S} + \\frac{1}{2}\\sigma^2(S)\\frac{\\partial^2 V}{\\partial S^2}\n",
    "$$\n",
    "we must specify one condition for $t = t_b$ (e.g. $V(S,t=0) = H(S)$) and condition at $S = S_0$ and $S = \\bar{S}$, say $V_{S}(S_0, t)$ and $V_S(\\bar{S},t)$\n",
    "\n",
    "If the process of state variable has variance 0 at the boundary, we don't need to specify the boundary condition\n",
    "\n",
    "### Euler Equation Methods\n",
    "\n",
    "Euler Equation method is most useful in deterministic problem. In an infinite horizon problem, suppose $dS = g(x,S)dt$, the bellman equation is therefore\n",
    "$$\n",
    "\\rho V = \\max_x f(S,x) + g(S,x)\\frac{\\partial V}{\\partial S}\n",
    "$$\n",
    "with FOC\n",
    "$$\n",
    "\\frac{\\partial f(S,x)}{\\partial x} + \\frac{\\partial g(S,x)}{\\partial x}\\frac{\\partial V}{\\partial S} = 0\n",
    "$$\n",
    "Let $h(x,S) = -\\frac{\\partial f}{\\partial x}/\\frac{\\partial g}{\\partial x}$, we have $V'(S) = h(x,S)$. Use the Envelope Theorem to Bellman equation (take derivative with respect to $V$)\n",
    "$$\n",
    "(\\rho - \\frac{\\partial g}{\\partial S})V'(S) - \\frac{\\partial f}{\\partial S} = g(x,S)V''(S)\n",
    "$$\n",
    "\n",
    "Take derivative of $h(x,S) = V'(S)$, we can solve for $V''(S) = h_S(x,S) + h_x(x,S)\\frac{dx}{dS}$. Combining two equations,\n",
    "$$\n",
    "(\\rho - \\frac{\\partial g}{\\partial S})h(x,S) - \\frac{\\partial f}{\\partial S} = g(x,S)[h_S(x,S) + h_x(x,S)\\frac{dx}{dS}]\n",
    "$$"
   ]
  },
  {
   "cell_type": "markdown",
   "metadata": {},
   "source": [
    "#### Example: Optimal Renewable Resource Extraction\n",
    "\n",
    "The resource is controlled by process $dS = (B(S) - q)dt + \\sigma Sdz$. The marginal cost of harvesting is $C(q) = c(S)q$. The total surplus is $f(S,q) = \\int_0^q D^{-1}(z)dz - c(S)q$ where $D$ is the demand function. \n",
    "\n",
    "With discount rate $\\rho$, the Bellman Equation for this optimization problem is $$\\rho V = \\max_q \\int_0^q D^{-1}(z)dz - c(S)q + (B(S)-q)V_S + \\frac{1}{2}\\sigma^2 S^2 V_{SS}$$\n",
    "\n",
    "FOC: \n",
    "$$\n",
    "D^{-1}(q) - c(S) - V_S(S) = 0 \\text{ or } q^* = D(c(S)+V_S(S))\n",
    "$$\n",
    "\n",
    "Suppose $B(S) = \\frac{\\alpha}{\\beta}S(1-(S/K)^\\beta), D(p) = bp^{-\\eta}, c(S) = cS^{-\\gamma}$"
   ]
  },
  {
   "cell_type": "code",
   "execution_count": 54,
   "metadata": {},
   "outputs": [
    {
     "name": "stdout",
     "output_type": "stream",
     "text": [
      "Created file 'C:\\Users\\barry\\Documents\\Academics\\Quantecon-Notes\\functions\\renewable_resource.m'.\n"
     ]
    }
   ],
   "source": [
    "%%file functions\\renewable_resource.m\n",
    "\n",
    "function [out1, out2] = renewable_resource(flag, s,x,Vs,alpha,beta,K,b,eta,C,gamma,sigma,rho)\n",
    "switch flag\n",
    "case 'foc'\n",
    "Cost = C*c.^(-gamma);\n",
    "out1 = b*x.^(-1/eta)-Cost - Vs;\n",
    "out2 = -(b/eta)*x.^(-1/eta-1);\n",
    "case 'x'\n",
    "Cost = C*s.^(-gamma);\n",
    "out1 = b*(Cost+Vs).^(-eta);\n",
    "case 'f'\n",
    "Cost = C*s.^(-gamma);\n",
    "if eta~=1\n",
    "factor1  =1-1/eta;\n",
    "factor0 = b.^(1/eta)/factor1;\n",
    "out1 = factor0*x.^factor1-Cost.*x;\n",
    "else\n",
    "out1 = b*log(x)-Cost.*x;\n",
    "end\n",
    "case 'g'\n",
    "if beta ~= 0\n",
    "Growth = alpha/beta*s.*(1-(s/K).^beta);\n",
    "else\n",
    "Growth = alpha*s.*log(K./s);\n",
    "end\n",
    "out1 = Growth - x;\n",
    "case 'sigma'\n",
    "out1 = sigma*s;\n",
    "case 'rho'\n",
    "out1 = rho+zeros(size(s,1),1);\n",
    "end"
   ]
  },
  {
   "cell_type": "code",
   "execution_count": 65,
   "metadata": {},
   "outputs": [
    {
     "name": "stdout",
     "output_type": "stream",
     "text": [
      "Warning: You are using the m-file version of a function that is coded as a C Mex file.\n",
      "  Running this M file version may be significantly slower and more memory intensive.\n",
      "  Use MEXALL to create the executable (MEX or DLL) and make sure it is on the MATLAB path.\n",
      "Warning: Matrix is close to singular or badly scaled. Results may be inaccurate. RCOND =  5.687669e-19.\n",
      "> In scsolve (line 128)\n",
      "\n",
      "  1   7.2138e+02\n",
      "Warning: Matrix is close to singular or badly scaled. Results may be inaccurate. RCOND =  1.118355e-16.\n",
      "> In scsolve (line 128)\n",
      "\n",
      "  2   4.2458e+02\n",
      "  3   3.2282e+01\n",
      "  4   4.4477e-01\n",
      "  5   4.2779e-04\n",
      "  6   1.1423e-03\n",
      "  7   5.8612e-04\n",
      "  8   1.8258e-04\n",
      "  9   1.7433e-04\n",
      " 10   1.2932e-05\n",
      " 11   7.3003e-04\n",
      " 12   4.9139e-04\n",
      "Warning: Matrix is close to singular or badly scaled. Results may be inaccurate. RCOND =  1.523535e-16.\n",
      "> In scsolve (line 128)\n",
      "\n",
      " 13   3.4576e-03\n",
      " 14   1.3892e-03\n",
      " 15   8.4152e-04\n",
      " 16   5.7217e-04\n",
      " 17   3.4335e-04\n",
      " 18   2.2207e-04\n",
      " 19   4.8174e-04\n",
      " 20   1.0913e-04\n",
      " 21   1.2032e-03\n",
      " 22   4.9895e-04\n",
      " 23   2.1862e-04\n",
      " 24   5.1986e-06\n",
      " 25   7.7084e-05\n",
      " 26   3.7691e-04\n",
      "Warning: Matrix is close to singular or badly scaled. Results may be inaccurate. RCOND =  4.691343e-17.\n",
      "> In scsolve (line 128)\n",
      "\n",
      " 27   3.6281e-03\n",
      " 28   1.4255e-03\n",
      " 29   8.8274e-04\n",
      " 30   5.9829e-04\n",
      " 31   4.2824e-04\n",
      " 32   7.0372e-04\n",
      " 33   1.7342e-04\n",
      " 34   8.9648e-05\n",
      " 35   1.2570e-03\n",
      " 36   2.3692e-04\n",
      " 37   5.4895e-04\n",
      "Warning: Matrix is close to singular or badly scaled. Results may be inaccurate. RCOND =  1.366878e-16.\n",
      "> In scsolve (line 128)\n",
      "\n",
      " 38   3.6580e-03\n",
      " 39   1.4420e-03\n",
      " 40   8.6580e-04\n",
      " 41   5.6797e-04\n",
      " 42   2.1843e-04\n",
      " 43   1.5778e-04\n",
      " 44   3.5967e-04\n",
      "Warning: Matrix is close to singular or badly scaled. Results may be inaccurate. RCOND =  3.874018e-18.\n",
      "> In scsolve (line 128)\n",
      "\n",
      " 45   1.0670e-01\n",
      " 46   8.3599e-02\n",
      " 47   3.2700e-02\n",
      " 48   1.5567e-02\n",
      " 49   8.5752e-03\n",
      " 50   4.2772e-03\n",
      " 51   1.4911e-03\n",
      " 52   1.9476e-04\n",
      " 53   4.5529e-06\n",
      " 54   1.5099e-06\n",
      " 55   3.3818e-07\n",
      " 56   6.4183e-07\n",
      " 57   1.6934e-07\n",
      " 58   9.7640e-07\n",
      " 59   1.0206e-06\n",
      " 60   2.2356e-06\n",
      " 61   8.1990e-07\n",
      " 62   8.7037e-07\n",
      " 63   3.4727e-08\n",
      " 64   4.9387e-07\n",
      " 65   8.3067e-07\n",
      " 66   1.5197e-06\n",
      " 67   6.9576e-08\n",
      " 68   1.9677e-06\n",
      " 69   3.4658e-07\n",
      " 70   9.7876e-07\n",
      " 71   1.0992e-06\n",
      " 72   3.1146e-07\n",
      " 73   1.7728e-06\n",
      " 74   1.4132e-06\n",
      " 75   6.9240e-07\n",
      " 76   1.7802e-06\n",
      " 77   2.4714e-06\n",
      " 78   4.9935e-07\n",
      " 79   6.9444e-07\n",
      " 80   1.5185e-07\n",
      " 81   9.9173e-07\n",
      " 82   8.9510e-07\n",
      " 83   1.3668e-06\n",
      " 84   3.8387e-07\n",
      " 85   1.2431e-06\n",
      " 86   1.6895e-06\n",
      " 87   2.4053e-06\n",
      " 88   5.0685e-07\n",
      " 89   1.2352e-06\n",
      " 90   2.0573e-06\n",
      " 91   3.5584e-06\n",
      " 92   9.6959e-07\n",
      " 93   4.4980e-07\n",
      " 94   2.7952e-07\n",
      " 95   2.7857e-07\n",
      " 96   3.6721e-07\n",
      " 97   7.8557e-07\n",
      " 98   5.2859e-07\n",
      " 99   2.9993e-07\n",
      "100   8.9042e-07\n",
      "Algorithm did not converge. Maximum error: 8.9042e-07\n",
      "\n"
     ]
    }
   ],
   "source": [
    "clear all\n",
    "alpha = 0.5;\n",
    "beta = 1;\n",
    "K = 1;\n",
    "b = 1;\n",
    "eta = 0.5;\n",
    "c = 5;\n",
    "gamma = 2;\n",
    "sigma = 0.1;\n",
    "rho = 0.05;\n",
    "\n",
    "\n",
    "model.func = 'renewable_resource';\n",
    "model.params = {alpha, beta, K,b,eta,c,gamma,sigma, rho};\n",
    "\n",
    "n = 50;\n",
    "smin = 0.2;\n",
    "smax = 1.2;\n",
    "fspace = fundefn('cheb',n,smin,smax);\n",
    "s = funnode(fspace);\n",
    "\n",
    "[cv,S,v,x,resid] = scsolve(model,fspace,s);"
   ]
  },
  {
   "cell_type": "code",
   "execution_count": 61,
   "metadata": {},
   "outputs": [
    {
     "name": "stdout",
     "output_type": "stream",
     "text": [
      "\n"
     ]
    },
    {
     "data": {
      "image/png": "[encoded data removed]",
      "text/plain": [
       "<IPython.core.display.Image object>"
      ]
     },
     "metadata": {},
     "output_type": "display_data"
    }
   ],
   "source": [
    "figure(1)\n",
    "plot(S, funeval(cv,fspace,S))\n",
    "title('Value function')\n",
    "xlabel(\"S\")\n",
    "ylabel('V')"
   ]
  },
  {
   "cell_type": "code",
   "execution_count": 62,
   "metadata": {},
   "outputs": [
    {
     "name": "stdout",
     "output_type": "stream",
     "text": [
      "\n"
     ]
    },
    {
     "data": {
      "image/png": "[encoded data removed]",
      "text/plain": [
       "<IPython.core.display.Image object>"
      ]
     },
     "metadata": {},
     "output_type": "display_data"
    }
   ],
   "source": [
    "figure(1)\n",
    "plot(S, funeval(cv,fspace,S,1))\n",
    "title('Shadow price')\n",
    "xlabel(\"S\")\n",
    "ylabel('V''(S)')"
   ]
  },
  {
   "cell_type": "code",
   "execution_count": 63,
   "metadata": {},
   "outputs": [
    {
     "name": "stdout",
     "output_type": "stream",
     "text": [
      "\n"
     ]
    },
    {
     "data": {
      "image/png": "[encoded data removed]",
      "text/plain": [
       "<IPython.core.display.Image object>"
      ]
     },
     "metadata": {},
     "output_type": "display_data"
    }
   ],
   "source": [
    "qa=feval(model.func,'x',S,[],Vsa,model.params{:});\n",
    "figure(3)\n",
    "plot(S,qa)\n",
    "title('Optimal policy')\n",
    "xlabel('S')\n",
    "ylabel('q')"
   ]
  },
  {
   "cell_type": "code",
   "execution_count": 68,
   "metadata": {},
   "outputs": [
    {
     "name": "stdout",
     "output_type": "stream",
     "text": [
      "\n"
     ]
    },
    {
     "data": {
      "image/png": "[encoded data removed]",
      "text/plain": [
       "<IPython.core.display.Image object>"
      ]
     },
     "metadata": {},
     "output_type": "display_data"
    }
   ],
   "source": [
    "[cp,Ex]=itodensity(model,fspace,cv);\n",
    "plot(S,funeval(cp,fspace,S))\n",
    "title('Long-Run State Density')\n",
    "xlabel('S')\n",
    "ylabel('Probability')\n",
    "% set lower y limit to 0\n",
    "yy=get(gca,'ylim');yy(1)=0; set(gca,'ylim',yy); "
   ]
  },
  {
   "cell_type": "code",
   "execution_count": 70,
   "metadata": {},
   "outputs": [
    {
     "name": "stdout",
     "output_type": "stream",
     "text": [
      "\n",
      "Ex =\n",
      "\n",
      "    0.5694\n",
      "\n",
      "\n"
     ]
    }
   ],
   "source": [
    "% Expected value for state variable\n",
    "Ex"
   ]
  },
  {
   "cell_type": "code",
   "execution_count": null,
   "metadata": {},
   "outputs": [],
   "source": []
  }
 ],
 "metadata": {
  "kernelspec": {
   "display_name": "Matlab",
   "language": "matlab",
   "name": "matlab"
  },
  "language_info": {
   "codemirror_mode": "octave",
   "file_extension": ".m",
   "help_links": [
    {
     "text": "MetaKernel Magics",
     "url": "https://metakernel.readthedocs.io/en/latest/source/README.html"
    }
   ],
   "mimetype": "text/x-octave",
   "name": "matlab",
   "version": "0.16.7"
  },
  "latex_envs": {
   "LaTeX_envs_menu_present": true,
   "autoclose": false,
   "autocomplete": true,
   "bibliofile": "biblio.bib",
   "cite_by": "apalike",
   "current_citInitial": 1,
   "eqLabelWithNumbers": true,
   "eqNumInitial": 1,
   "hotkeys": {
    "equation": "Ctrl-E",
    "itemize": "Ctrl-I"
   },
   "labels_anchors": false,
   "latex_user_defs": false,
   "report_style_numbering": false,
   "user_envs_cfg": false
  }
 },
 "nbformat": 4,
 "nbformat_minor": 2
}
