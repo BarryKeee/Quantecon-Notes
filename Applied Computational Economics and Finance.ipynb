{
 "cells": [
  {
   "cell_type": "markdown",
   "metadata": {},
   "source": [
    "# Applied Computational Economics and Finance"
   ]
  },
  {
   "cell_type": "markdown",
   "metadata": {},
   "source": [
    "This notebook contains notes and python implementation of some coding examples in \"Applied Computational Economics and Finance\" by Mario J. Miranda and Paul L. Fackler. "
   ]
  },
  {
   "cell_type": "code",
   "execution_count": 2,
   "metadata": {},
   "outputs": [],
   "source": [
    "import numpy as np\n",
    "from scipy import optimize"
   ]
  },
  {
   "cell_type": "markdown",
   "metadata": {},
   "source": [
    "## Chapter 3. Nonlinear equations"
   ]
  },
  {
   "cell_type": "markdown",
   "metadata": {},
   "source": [
    "### Bisection method\n",
    "\n",
    "Bisection method is a root finding algorithm based on Intermediate Value Theorem. If $f$ is continuous, and $f(a)f(b)<0$, then $f$ must have at least one root in $[a,b]$\n",
    "\n",
    "Algorithm: WLOG, start with $f(a)<0, f(b)>0$. Compute $f(x) = f(\\frac{a+b}{2})$. If $f(x)>0$, then set $b = x$ and continue the iteration. \n",
    "\n",
    "Greatest strength: robustness. Guaranteed to compute a root to a precision $\\epsilon$ with no more than $\\log{((b-a)/\\epsilon)}/\\log(2)$ iterations. \n",
    "\n",
    "### Function iteration:\n",
    "\n",
    "Function iteration is used to compute a fixed-point, $x=g(x)$ of a function. For root finding, it is equivalent to solve $x=x-f(x)$.\n",
    "\n",
    "Algorithm: pick an initial guess $x^{0}$. Updating scheme: $x^{(k+1)} = x^{k} - f(x^{k})$\n",
    "\n",
    "### Newton's Method\n",
    "\n",
    "Based on the principle of successive linearization: replace nonlinear problem with a sequence of simpler linear problems whose solutions converge to the solution of the nonlinear problem. \n",
    "\n",
    "Algorithm: $x^{(k+1)} = x^{k}-[f'(x^k)]^{-1}f(x^k)$\n",
    "\n",
    "In theory, Newton's method converges if $f$ is continuously differentiable ($C^2$ function) and if the initial value of $x$ is sufficiently close to a root. \n",
    "\n",
    "### Quasi-Newton method\n",
    "\n",
    "Similar to Newton's method but replace $f'$ with something easier to compute. \n",
    "\n",
    "1. Secant method: $x^{k+1} = x^k-\\frac{x^k-x^{k-1}}{f(x^k)-f(x^{k-1})}f(x^k)$. It requires two starting value.\n",
    "2. Broyden's method: generates a sequence of vectors $x^k$ and matrices $B^k$ that approximate the root of $f$ and the inveser of the Jacobian matrix. $x^{k+1} = x^k - B^k f(x^k)$ and $B^{k+1} = B^k + ((d^k)-u^k)d^{k^T}B^k)/(d^{k^T}u^k)$ where $u^k = B^k(f(x^{k+1}-f(x^k))$ and $d^k = x^k - x^{k-1}$\n",
    "\n",
    "\n",
    "\n",
    "**Example: Cournot Duopoly.**\n",
    "\n",
    "The inverse demand function is $p=q^{-1/\\eta}$ and the two firms faces cost function $C_i(q_i)=\\frac{1}{2}c_iq_i^2$ for $i=1,2$. The profit of the firm is $\\pi_i(q_1, q_2) = P(q_1+q_2)q_i - C(q_i)$ and it solves the FOC: $\\frac{\\partial \\pi_i}{\\partial q_i} = 0$"
   ]
  },
  {
   "cell_type": "code",
   "execution_count": 43,
   "metadata": {},
   "outputs": [],
   "source": [
    "c = np.array([0.6,0.8])\n",
    "eta = 1.6\n",
    "e = -1/eta\n",
    "\n",
    "def profit(q):\n",
    "    return sum(q)**e+ e*sum(q)**(e-1)*q-c*q\n",
    "\n",
    "sol = optimize.root(profit, [0.2,0.2], method = 'hybr')"
   ]
  },
  {
   "cell_type": "code",
   "execution_count": 44,
   "metadata": {},
   "outputs": [
    {
     "data": {
      "text/plain": [
       "array([0.8395676 , 0.68879643])"
      ]
     },
     "execution_count": 44,
     "metadata": {},
     "output_type": "execute_result"
    }
   ],
   "source": [
    "sol.x"
   ]
  },
  {
   "cell_type": "markdown",
   "metadata": {},
   "source": [
    "### Complementarity problem\n",
    "\n",
    "For two n-vectors $a$ and $b$, and a function $f$ from $R^n$ to $R^n$, one must find an n-vector s.t. $x_i < a_i \\Rightarrow f_i(x)\\geq 0$ and $x_i < b_i \\Rightarrow f_i(x) \\leq 0$ for all $i = 1,2,\\cdots n$. Denote the problem to be $CP(f,a,b)$\n",
    "\n",
    "Root finding is special case with $a_i = -\\infty, b_i =\\infty$\n",
    "\n",
    "**Example: simple commodity competitive spatial price equilibrium**\n",
    "\n",
    "Suppose there are $n$ distinct regions and that excess demand for the commodity is $E_i(p_i)$ of the price $p_i$ in region $i$. In absence of trade, equilibrium is solved by solving $E_i(p_i)=0$ for each $i$. \n",
    "\n",
    "Suppose the trade can take place among regions, and the cost of transferring good from $i$ to $j$ is $c_{ij}$. Suppose $x_{ij}$ is the amount shipped from $i$ to $j$ and it cannot exceed capacity $b_{ij}$. Spatial arbitrage profit: $p_j-p_i-c_{ij}$. Equilibrium obtains only if all spatial arbitrage profits are zero. This requires that $0\\leq x_{ij}\\leq b_{ij}$ and \n",
    "1. $x_{ij} > 0 \\Rightarrow p_j-p_i-c_{ij} \\geq 0$\n",
    "2. $x_{ij} < b_{ij} \\Rightarrow p_j -p_i - c_{ij} \\leq 0$\n",
    "\n",
    "where $p_i$ can be solved using $\\sum_k[x_{ki} - x_{ik}] = E_i(p_i)$\n",
    "\n",
    "Let $f_{ij}(x) = E^{-1}_j(\\sum_k[x_{kj} - x_{jk}]) - E^{-1}_i(\\sum_k[x_{ki} - x_{ik}]) - c_{ij}$, then $x$ is equilibrium iff it solves $CP(f,0,b)$\n",
    "\n",
    "### Complementarity Methods\n",
    "\n",
    "$x$ solves $CP(f,a,b)$ iff it solves $\\hat{f}(x) = \\min(\\max(f(x), a-x), b-x) = 0$, which is a root finding problem."
   ]
  },
  {
   "cell_type": "code",
   "execution_count": null,
   "metadata": {},
   "outputs": [],
   "source": []
  }
 ],
 "metadata": {
  "kernelspec": {
   "display_name": "Python 3",
   "language": "python",
   "name": "python3"
  },
  "language_info": {
   "codemirror_mode": {
    "name": "ipython",
    "version": 3
   },
   "file_extension": ".py",
   "mimetype": "text/x-python",
   "name": "python",
   "nbconvert_exporter": "python",
   "pygments_lexer": "ipython3",
   "version": "3.7.3"
  },
  "latex_envs": {
   "LaTeX_envs_menu_present": true,
   "autoclose": false,
   "autocomplete": true,
   "bibliofile": "biblio.bib",
   "cite_by": "apalike",
   "current_citInitial": 1,
   "eqLabelWithNumbers": true,
   "eqNumInitial": 1,
   "hotkeys": {
    "equation": "Ctrl-E",
    "itemize": "Ctrl-I"
   },
   "labels_anchors": false,
   "latex_user_defs": false,
   "report_style_numbering": false,
   "user_envs_cfg": false
  }
 },
 "nbformat": 4,
 "nbformat_minor": 2
}
