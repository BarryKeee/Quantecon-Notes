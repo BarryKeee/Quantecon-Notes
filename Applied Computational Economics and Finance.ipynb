{
 "cells": [
  {
   "cell_type": "markdown",
   "metadata": {},
   "source": [
    "# Applied Computational Economics and Finance"
   ]
  },
  {
   "cell_type": "markdown",
   "metadata": {},
   "source": [
    "This notebook contains notes and python implementation of some coding examples in \"Applied Computational Economics and Finance\" by Mario J. Miranda and Paul L. Fackler. "
   ]
  },
  {
   "cell_type": "code",
   "execution_count": 15,
   "metadata": {},
   "outputs": [
    {
     "name": "stdout",
     "output_type": "stream",
     "text": [
      "\n"
     ]
    }
   ],
   "source": [
    "addpath('C:\\Users\\barry\\Documents\\Academics\\Quantecon-Notes\\functions')\n",
    "cd 'C:\\Users\\barry\\Documents\\Academics\\Quantecon-Notes\\functions'"
   ]
  },
  {
   "cell_type": "markdown",
   "metadata": {},
   "source": [
    "## Chapter 3. Nonlinear equations"
   ]
  },
  {
   "cell_type": "markdown",
   "metadata": {},
   "source": [
    "### Bisection method\n",
    "\n",
    "Bisection method is a root finding algorithm based on Intermediate Value Theorem. If $f$ is continuous, and $f(a)f(b)<0$, then $f$ must have at least one root in $[a,b]$\n",
    "\n",
    "Algorithm: WLOG, start with $f(a)<0, f(b)>0$. Compute $f(x) = f(\\frac{a+b}{2})$. If $f(x)>0$, then set $b = x$ and continue the iteration. \n",
    "\n",
    "Greatest strength: robustness. Guaranteed to compute a root to a precision $\\epsilon$ with no more than $\\log{((b-a)/\\epsilon)}/\\log(2)$ iterations. \n",
    "\n",
    "### Function iteration:\n",
    "\n",
    "Function iteration is used to compute a fixed-point, $x=g(x)$ of a function. For root finding, it is equivalent to solve $x=x-f(x)$.\n",
    "\n",
    "Algorithm: pick an initial guess $x^{0}$. Updating scheme: $x^{(k+1)} = x^{k} - f(x^{k})$\n",
    "\n",
    "### Newton's Method\n",
    "\n",
    "Based on the principle of successive linearization: replace nonlinear problem with a sequence of simpler linear problems whose solutions converge to the solution of the nonlinear problem. \n",
    "\n",
    "Algorithm: $x^{(k+1)} = x^{k}-[f'(x^k)]^{-1}f(x^k)$\n",
    "\n",
    "In theory, Newton's method converges if $f$ is continuously differentiable ($C^2$ function) and if the initial value of $x$ is sufficiently close to a root. \n",
    "\n",
    "### Quasi-Newton method\n",
    "\n",
    "Similar to Newton's method but replace $f'$ with something easier to compute. \n",
    "\n",
    "1. Secant method: $x^{k+1} = x^k-\\frac{x^k-x^{k-1}}{f(x^k)-f(x^{k-1})}f(x^k)$. It requires two starting value.\n",
    "2. Broyden's method: generates a sequence of vectors $x^k$ and matrices $B^k$ that approximate the root of $f$ and the inveser of the Jacobian matrix. $x^{k+1} = x^k - B^k f(x^k)$ and $B^{k+1} = B^k + ((d^k)-u^k)d^{k^T}B^k)/(d^{k^T}u^k)$ where $u^k = B^k(f(x^{k+1}-f(x^k))$ and $d^k = x^k - x^{k-1}$\n",
    "\n",
    "\n",
    "\n",
    "**Example: Cournot Duopoly.**\n",
    "\n",
    "The inverse demand function is $p=q^{-1/\\eta}$ and the two firms faces cost function $C_i(q_i)=\\frac{1}{2}c_iq_i^2$ for $i=1,2$. The profit of the firm is $\\pi_i(q_1, q_2) = P(q_1+q_2)q_i - C(q_i)$ and it solves the FOC: $\\frac{\\partial \\pi_i}{\\partial q_i} = 0$"
   ]
  },
  {
   "cell_type": "code",
   "execution_count": 17,
   "metadata": {},
   "outputs": [
    {
     "name": "stdout",
     "output_type": "stream",
     "text": [
      "Created file 'C:\\Users\\barry\\Documents\\Academics\\Quantecon-Notes\\functions\\cournot.m'.\n"
     ]
    }
   ],
   "source": [
    "%%file functions/cournot.m\n",
    "\n",
    "function fval = cournot(q)\n",
    "    c = [0.6;0.8]; eta = 1.6;\n",
    "    e = -1/eta;\n",
    "    fval = sum(q)^e + e*sum(q)^(e-1)*q - diag(c)*q;"
   ]
  },
  {
   "cell_type": "code",
   "execution_count": 18,
   "metadata": {},
   "outputs": [
    {
     "name": "stdout",
     "output_type": "stream",
     "text": [
      "\n",
      "Equation solved.\n",
      "\n",
      "fsolve completed because the vector of function values is near zero\n",
      "as measured by the value of the function tolerance, and\n",
      "the problem appears regular as measured by the gradient.\n",
      "\n",
      "\n",
      "ans =\n",
      "\n",
      "    0.8396\n",
      "    0.6888\n",
      "\n",
      "\n"
     ]
    }
   ],
   "source": [
    "fsolve(@cournot,[0.2;0.2])"
   ]
  },
  {
   "cell_type": "code",
   "execution_count": null,
   "metadata": {},
   "outputs": [],
   "source": []
  },
  {
   "cell_type": "markdown",
   "metadata": {},
   "source": [
    "### Complementarity problem\n",
    "\n",
    "For two n-vectors $a$ and $b$, and a function $f$ from $R^n$ to $R^n$, one must find an n-vector s.t. $x_i < a_i \\Rightarrow f_i(x)\\geq 0$ and $x_i < b_i \\Rightarrow f_i(x) \\leq 0$ for all $i = 1,2,\\cdots n$. Denote the problem to be $CP(f,a,b)$\n",
    "\n",
    "Root finding is special case with $a_i = -\\infty, b_i =\\infty$\n",
    "\n",
    "**Example: simple commodity competitive spatial price equilibrium**\n",
    "\n",
    "Suppose there are $n$ distinct regions and that excess demand for the commodity is $E_i(p_i)$ of the price $p_i$ in region $i$. In absence of trade, equilibrium is solved by solving $E_i(p_i)=0$ for each $i$. \n",
    "\n",
    "Suppose the trade can take place among regions, and the cost of transferring good from $i$ to $j$ is $c_{ij}$. Suppose $x_{ij}$ is the amount shipped from $i$ to $j$ and it cannot exceed capacity $b_{ij}$. Spatial arbitrage profit: $p_j-p_i-c_{ij}$. Equilibrium obtains only if all spatial arbitrage profits are zero. This requires that $0\\leq x_{ij}\\leq b_{ij}$ and \n",
    "1. $x_{ij} > 0 \\Rightarrow p_j-p_i-c_{ij} \\geq 0$\n",
    "2. $x_{ij} < b_{ij} \\Rightarrow p_j -p_i - c_{ij} \\leq 0$\n",
    "\n",
    "where $p_i$ can be solved using $\\sum_k[x_{ki} - x_{ik}] = E_i(p_i)$\n",
    "\n",
    "Let $f_{ij}(x) = E^{-1}_j(\\sum_k[x_{kj} - x_{jk}]) - E^{-1}_i(\\sum_k[x_{ki} - x_{ik}]) - c_{ij}$, then $x$ is equilibrium iff it solves $CP(f,0,b)$\n",
    "\n",
    "### Complementarity Methods\n",
    "\n",
    "$x$ solves $CP(f,a,b)$ iff it solves $\\hat{f}(x) = \\min(\\max(f(x), a-x), b-x) = 0$, which is a root finding problem."
   ]
  },
  {
   "cell_type": "markdown",
   "metadata": {},
   "source": [
    "# Chapter 5: Numerical Integration and Differentiation\n",
    "\n",
    "## Differentiation\n",
    "Finite difference: $f'(x_0) \\simeq \\frac{f(x_0+h)-f(x_0)}{h}$\n",
    "\n",
    "Two-sided derivative: $f'(x_0) \\simeq \\frac{f(x_0+h)-f(x_0-h)}{2h}$. It is better as long as the fourth order residual on both sides of $x_0$ are of similar magnitude (prove using Taylor expansion)\n",
    "\n",
    "In practice, compute TS as $f'(x_0) \\simeq \\frac{f(x_0+h)-f(x_0-h)}{x_0+h - (x_0-h)}$ so both have same argument. \n",
    "\n",
    "Miranda-Fackler: set $h = max(|x_0|,1)\\sqrt[3]{\\epsilon} \\simeq \\max(|x_0,1|)\\times 6 \\times 10^{-6}$, where $\\epsilon$ is margion epsilon (for 64-bit machine, $\\epsilon = 2^{-52}$).\n",
    "\n",
    "**Example: Two-sided finite difference for single variable function**"
   ]
  },
  {
   "cell_type": "code",
   "execution_count": 25,
   "metadata": {},
   "outputs": [
    {
     "name": "stdout",
     "output_type": "stream",
     "text": [
      "Created file 'C:\\Users\\barry\\Documents\\Academics\\Quantecon-Notes\\TS_diff.m'.\n"
     ]
    }
   ],
   "source": [
    "%%file TS_diff.m\n",
    "function TS = TS_diff(f,x0)\n",
    "    \n",
    "    h = max(abs(x0),1)*6.0*1e-6;\n",
    "    \n",
    "    TS = (f(x0+h)-f(x0-h))/(2*h);\n"
   ]
  },
  {
   "cell_type": "code",
   "execution_count": 26,
   "metadata": {},
   "outputs": [
    {
     "name": "stdout",
     "output_type": "stream",
     "text": [
      "\n",
      "ans =\n",
      "\n",
      "    7.3891\n",
      "\n",
      "\n"
     ]
    }
   ],
   "source": [
    "TS_diff(@exp, 2)"
   ]
  },
  {
   "cell_type": "markdown",
   "metadata": {},
   "source": [
    "**Example: Two-sided finite difference for Jacobian of an arbitrary function**"
   ]
  },
  {
   "cell_type": "code",
   "execution_count": 19,
   "metadata": {},
   "outputs": [
    {
     "name": "stdout",
     "output_type": "stream",
     "text": [
      "Created file 'C:\\Users\\barry\\Documents\\Academics\\Quantecon-Notes\\functions\\TS_jac.m'.\n"
     ]
    }
   ],
   "source": [
    "%%file functions/TS_jac.m\n",
    "function fjac = TS_jac(f,x)\n",
    "    \n",
    "    h = max(abs(x),1)*6.0*1e-6;\n",
    "    xh1 = x+h;\n",
    "    xh0 = x-h;\n",
    "    h = xh1-xh0;\n",
    "    \n",
    "    for j =1:length(x)\n",
    "        xx = x; xx(j) = xh1(j); f1 = feval(f,xx);\n",
    "        xx(j) = xh0(j); f0 = feval(f,xx);\n",
    "        fjac(:,j) = (f1-f0)/h(j);\n",
    "    end\n",
    "        "
   ]
  },
  {
   "cell_type": "code",
   "execution_count": 20,
   "metadata": {},
   "outputs": [
    {
     "name": "stdout",
     "output_type": "stream",
     "text": [
      "\n",
      "ans =\n",
      "\n",
      "    0.5403         0         0         0         0\n",
      "         0   -0.4161         0         0         0\n",
      "         0         0   -0.9900         0         0\n",
      "         0         0         0    0.2837         0\n",
      "         0         0         0         0    0.5403\n",
      "\n",
      "\n"
     ]
    }
   ],
   "source": [
    "x = [1,2,3,5,1];\n",
    "TS_jac(@sin, x)"
   ]
  },
  {
   "cell_type": "markdown",
   "metadata": {},
   "source": [
    "## Integration"
   ]
  },
  {
   "cell_type": "code",
   "execution_count": null,
   "metadata": {},
   "outputs": [],
   "source": []
  }
 ],
 "metadata": {
  "kernelspec": {
   "display_name": "Matlab",
   "language": "matlab",
   "name": "matlab"
  },
  "language_info": {
   "codemirror_mode": "octave",
   "file_extension": ".m",
   "help_links": [
    {
     "text": "MetaKernel Magics",
     "url": "https://metakernel.readthedocs.io/en/latest/source/README.html"
    }
   ],
   "mimetype": "text/x-octave",
   "name": "matlab",
   "version": "0.16.7"
  },
  "latex_envs": {
   "LaTeX_envs_menu_present": true,
   "autoclose": false,
   "autocomplete": true,
   "bibliofile": "biblio.bib",
   "cite_by": "apalike",
   "current_citInitial": 1,
   "eqLabelWithNumbers": true,
   "eqNumInitial": 1,
   "hotkeys": {
    "equation": "Ctrl-E",
    "itemize": "Ctrl-I"
   },
   "labels_anchors": false,
   "latex_user_defs": false,
   "report_style_numbering": false,
   "user_envs_cfg": false
  }
 },
 "nbformat": 4,
 "nbformat_minor": 2
}
