{
 "cells": [
  {
   "cell_type": "markdown",
   "metadata": {},
   "source": [
    "# Applied Computational Economics and Finance"
   ]
  },
  {
   "cell_type": "markdown",
   "metadata": {},
   "source": [
    "This notebook contains notes and python implementation of some coding examples in \"Applied Computational Economics and Finance\" by Mario J. Miranda and Paul L. Fackler. "
   ]
  },
  {
   "cell_type": "code",
   "execution_count": 1,
   "metadata": {},
   "outputs": [
    {
     "name": "stdout",
     "output_type": "stream",
     "text": [
      "Warning: Function psi has the same name as a MATLAB builtin. We suggest you rename the function to avoid a potential name conflict.\n",
      "> In path (line 109)\n",
      "  In addpath (line 86)\n",
      "Warning: Function psi has the same name as a MATLAB builtin. We suggest you rename the function to avoid a potential name conflict.\n",
      "> In path (line 109)\n",
      "  In addpath (line 86)\n",
      "Warning: Function psi has the same name as a MATLAB builtin. We suggest you rename the function to avoid a potential name conflict.\n",
      "Warning: Function psi has the same name as a MATLAB builtin. We suggest you rename the function to avoid a potential name conflict.\n",
      "\n"
     ]
    }
   ],
   "source": [
    "addpath('C:\\Users\\barry\\Documents\\Academics\\Quantecon-Notes\\functions')\n",
    "addpath('C:\\Users\\barry\\Documents\\Academics\\Quantecon-Notes\\functions\\CEtools')\n",
    "cd 'C:\\Users\\barry\\Documents\\Academics\\Quantecon-Notes\\functions'"
   ]
  },
  {
   "cell_type": "markdown",
   "metadata": {},
   "source": [
    "## Chapter 3. Nonlinear equations"
   ]
  },
  {
   "cell_type": "markdown",
   "metadata": {},
   "source": [
    "### Bisection method\n",
    "\n",
    "Bisection method is a root finding algorithm based on Intermediate Value Theorem. If $f$ is continuous, and $f(a)f(b)<0$, then $f$ must have at least one root in $[a,b]$\n",
    "\n",
    "Algorithm: WLOG, start with $f(a)<0, f(b)>0$. Compute $f(x) = f(\\frac{a+b}{2})$. If $f(x)>0$, then set $b = x$ and continue the iteration. \n",
    "\n",
    "Greatest strength: robustness. Guaranteed to compute a root to a precision $\\epsilon$ with no more than $\\log{((b-a)/\\epsilon)}/\\log(2)$ iterations. \n",
    "\n",
    "### Function iteration:\n",
    "\n",
    "Function iteration is used to compute a fixed-point, $x=g(x)$ of a function. For root finding, it is equivalent to solve $x=x-f(x)$.\n",
    "\n",
    "Algorithm: pick an initial guess $x^{0}$. Updating scheme: $x^{(k+1)} = x^{k} - f(x^{k})$\n",
    "\n",
    "### Newton's Method\n",
    "\n",
    "Based on the principle of successive linearization: replace nonlinear problem with a sequence of simpler linear problems whose solutions converge to the solution of the nonlinear problem. \n",
    "\n",
    "Algorithm: $x^{(k+1)} = x^{k}-[f'(x^k)]^{-1}f(x^k)$\n",
    "\n",
    "In theory, Newton's method converges if $f$ is continuously differentiable ($C^2$ function) and if the initial value of $x$ is sufficiently close to a root. \n",
    "\n",
    "### Quasi-Newton method\n",
    "\n",
    "Similar to Newton's method but replace $f'$ with something easier to compute. \n",
    "\n",
    "1. Secant method: $x^{k+1} = x^k-\\frac{x^k-x^{k-1}}{f(x^k)-f(x^{k-1})}f(x^k)$. It requires two starting value.\n",
    "2. Broyden's method: generates a sequence of vectors $x^k$ and matrices $B^k$ that approximate the root of $f$ and the inveser of the Jacobian matrix. $x^{k+1} = x^k - B^k f(x^k)$ and $B^{k+1} = B^k + ((d^k)-u^k)d^{k^T}B^k)/(d^{k^T}u^k)$ where $u^k = B^k(f(x^{k+1}-f(x^k))$ and $d^k = x^k - x^{k-1}$\n",
    "\n",
    "\n",
    "\n",
    "**Example: Cournot Duopoly.**\n",
    "\n",
    "The inverse demand function is $p=q^{-1/\\eta}$ and the two firms faces cost function $C_i(q_i)=\\frac{1}{2}c_iq_i^2$ for $i=1,2$. The profit of the firm is $\\pi_i(q_1, q_2) = P(q_1+q_2)q_i - C(q_i)$ and it solves the FOC: $\\frac{\\partial \\pi_i}{\\partial q_i} = 0$"
   ]
  },
  {
   "cell_type": "code",
   "execution_count": 17,
   "metadata": {},
   "outputs": [
    {
     "name": "stdout",
     "output_type": "stream",
     "text": [
      "Created file 'C:\\Users\\barry\\Documents\\Academics\\Quantecon-Notes\\functions\\cournot.m'.\n"
     ]
    }
   ],
   "source": [
    "%%file functions/cournot.m\n",
    "\n",
    "function fval = cournot(q)\n",
    "    c = [0.6;0.8]; eta = 1.6;\n",
    "    e = -1/eta;\n",
    "    fval = sum(q)^e + e*sum(q)^(e-1)*q - diag(c)*q;"
   ]
  },
  {
   "cell_type": "code",
   "execution_count": 18,
   "metadata": {},
   "outputs": [
    {
     "name": "stdout",
     "output_type": "stream",
     "text": [
      "\n",
      "Equation solved.\n",
      "\n",
      "fsolve completed because the vector of function values is near zero\n",
      "as measured by the value of the function tolerance, and\n",
      "the problem appears regular as measured by the gradient.\n",
      "\n",
      "\n",
      "ans =\n",
      "\n",
      "    0.8396\n",
      "    0.6888\n",
      "\n",
      "\n"
     ]
    }
   ],
   "source": [
    "fsolve(@cournot,[0.2;0.2])"
   ]
  },
  {
   "cell_type": "code",
   "execution_count": null,
   "metadata": {},
   "outputs": [],
   "source": []
  },
  {
   "cell_type": "markdown",
   "metadata": {},
   "source": [
    "### Complementarity problem\n",
    "\n",
    "For two n-vectors $a$ and $b$, and a function $f$ from $R^n$ to $R^n$, one must find an n-vector s.t. $x_i < a_i \\Rightarrow f_i(x)\\geq 0$ and $x_i < b_i \\Rightarrow f_i(x) \\leq 0$ for all $i = 1,2,\\cdots n$. Denote the problem to be $CP(f,a,b)$\n",
    "\n",
    "Root finding is special case with $a_i = -\\infty, b_i =\\infty$\n",
    "\n",
    "**Example: simple commodity competitive spatial price equilibrium**\n",
    "\n",
    "Suppose there are $n$ distinct regions and that excess demand for the commodity is $E_i(p_i)$ of the price $p_i$ in region $i$. In absence of trade, equilibrium is solved by solving $E_i(p_i)=0$ for each $i$. \n",
    "\n",
    "Suppose the trade can take place among regions, and the cost of transferring good from $i$ to $j$ is $c_{ij}$. Suppose $x_{ij}$ is the amount shipped from $i$ to $j$ and it cannot exceed capacity $b_{ij}$. Spatial arbitrage profit: $p_j-p_i-c_{ij}$. Equilibrium obtains only if all spatial arbitrage profits are zero. This requires that $0\\leq x_{ij}\\leq b_{ij}$ and \n",
    "1. $x_{ij} > 0 \\Rightarrow p_j-p_i-c_{ij} \\geq 0$\n",
    "2. $x_{ij} < b_{ij} \\Rightarrow p_j -p_i - c_{ij} \\leq 0$\n",
    "\n",
    "where $p_i$ can be solved using $\\sum_k[x_{ki} - x_{ik}] = E_i(p_i)$\n",
    "\n",
    "Let $f_{ij}(x) = E^{-1}_j(\\sum_k[x_{kj} - x_{jk}]) - E^{-1}_i(\\sum_k[x_{ki} - x_{ik}]) - c_{ij}$, then $x$ is equilibrium iff it solves $CP(f,0,b)$\n",
    "\n",
    "### Complementarity Methods\n",
    "\n",
    "$x$ solves $CP(f,a,b)$ iff it solves $\\hat{f}(x) = \\min(\\max(f(x), a-x), b-x) = 0$, which is a root finding problem."
   ]
  },
  {
   "cell_type": "markdown",
   "metadata": {},
   "source": [
    "# Chapter 5: Numerical Integration and Differentiation\n",
    "\n",
    "## Differentiation\n",
    "Finite difference: $f'(x_0) \\simeq \\frac{f(x_0+h)-f(x_0)}{h}$\n",
    "\n",
    "Two-sided derivative: $f'(x_0) \\simeq \\frac{f(x_0+h)-f(x_0-h)}{2h}$. It is better as long as the fourth order residual on both sides of $x_0$ are of similar magnitude (prove using Taylor expansion)\n",
    "\n",
    "In practice, compute TS as $f'(x_0) \\simeq \\frac{f(x_0+h)-f(x_0-h)}{x_0+h - (x_0-h)}$ so both have same argument. \n",
    "\n",
    "Miranda-Fackler: set $h = max(|x_0|,1)\\sqrt[3]{\\epsilon} \\simeq \\max(|x_0,1|)\\times 6 \\times 10^{-6}$, where $\\epsilon$ is margion epsilon (for 64-bit machine, $\\epsilon = 2^{-52}$).\n",
    "\n",
    "**Example: Two-sided finite difference for single variable function**"
   ]
  },
  {
   "cell_type": "code",
   "execution_count": 25,
   "metadata": {},
   "outputs": [
    {
     "name": "stdout",
     "output_type": "stream",
     "text": [
      "Created file 'C:\\Users\\barry\\Documents\\Academics\\Quantecon-Notes\\TS_diff.m'.\n"
     ]
    }
   ],
   "source": [
    "%%file TS_diff.m\n",
    "function TS = TS_diff(f,x0)\n",
    "    \n",
    "    h = max(abs(x0),1)*6.0*1e-6;\n",
    "    \n",
    "    TS = (f(x0+h)-f(x0-h))/(2*h);\n"
   ]
  },
  {
   "cell_type": "code",
   "execution_count": 26,
   "metadata": {},
   "outputs": [
    {
     "name": "stdout",
     "output_type": "stream",
     "text": [
      "\n",
      "ans =\n",
      "\n",
      "    7.3891\n",
      "\n",
      "\n"
     ]
    }
   ],
   "source": [
    "TS_diff(@exp, 2)"
   ]
  },
  {
   "cell_type": "markdown",
   "metadata": {},
   "source": [
    "**Example: Two-sided finite difference for Jacobian of an arbitrary function**"
   ]
  },
  {
   "cell_type": "code",
   "execution_count": 19,
   "metadata": {},
   "outputs": [
    {
     "name": "stdout",
     "output_type": "stream",
     "text": [
      "Created file 'C:\\Users\\barry\\Documents\\Academics\\Quantecon-Notes\\functions\\TS_jac.m'.\n"
     ]
    }
   ],
   "source": [
    "%%file functions/TS_jac.m\n",
    "function fjac = TS_jac(f,x)\n",
    "    \n",
    "    h = max(abs(x),1)*6.0*1e-6;\n",
    "    xh1 = x+h;\n",
    "    xh0 = x-h;\n",
    "    h = xh1-xh0;\n",
    "    \n",
    "    for j =1:length(x)\n",
    "        xx = x; xx(j) = xh1(j); f1 = feval(f,xx);\n",
    "        xx(j) = xh0(j); f0 = feval(f,xx);\n",
    "        fjac(:,j) = (f1-f0)/h(j);\n",
    "    end\n",
    "        "
   ]
  },
  {
   "cell_type": "code",
   "execution_count": 20,
   "metadata": {},
   "outputs": [
    {
     "name": "stdout",
     "output_type": "stream",
     "text": [
      "\n",
      "ans =\n",
      "\n",
      "    0.5403         0         0         0         0\n",
      "         0   -0.4161         0         0         0\n",
      "         0         0   -0.9900         0         0\n",
      "         0         0         0    0.2837         0\n",
      "         0         0         0         0    0.5403\n",
      "\n",
      "\n"
     ]
    }
   ],
   "source": [
    "x = [1,2,3,5,1];\n",
    "TS_jac(@sin, x)"
   ]
  },
  {
   "cell_type": "markdown",
   "metadata": {},
   "source": [
    "## Integration\n",
    "\n",
    "Three methods: Newton-Cato, Gaussian Quadrature, Monte-Carlo (see NYU note)\n",
    "\n",
    "**Example: matlab built-in function for integration**"
   ]
  },
  {
   "cell_type": "code",
   "execution_count": 25,
   "metadata": {},
   "outputs": [
    {
     "name": "stdout",
     "output_type": "stream",
     "text": [
      "\n",
      "q =\n",
      "\n",
      "    1.9475\n",
      "\n",
      "\n"
     ]
    }
   ],
   "source": [
    "fun = @(x) exp(-x.^2).*log(x).^2;\n",
    "q = integral(fun,0,Inf)\n",
    "\n"
   ]
  },
  {
   "cell_type": "markdown",
   "metadata": {},
   "source": [
    "**Example: symbolic integral**\n",
    "Integrate $x^2 + xy + 3$ with respect to x from $x=0$ to $x=y$"
   ]
  },
  {
   "cell_type": "code",
   "execution_count": 26,
   "metadata": {},
   "outputs": [
    {
     "name": "stdout",
     "output_type": "stream",
     "text": [
      " \n",
      "q =\n",
      " \n",
      "(5*y^3)/6 + 3*y\n",
      " \n",
      "\n"
     ]
    }
   ],
   "source": [
    "syms x y\n",
    "q = int(x^2 + y*x +3, x,0,y)"
   ]
  },
  {
   "cell_type": "markdown",
   "metadata": {},
   "source": [
    "**Example: Monte-Carlo**\n",
    "Integrate $x^2 + y^3 + 3z$ on $x^2 + y^2 + z^2 \\leq 1$"
   ]
  },
  {
   "cell_type": "code",
   "execution_count": 40,
   "metadata": {},
   "outputs": [
    {
     "name": "stdout",
     "output_type": "stream",
     "text": [
      "\n",
      "I =\n",
      "\n",
      "    0.6130\n",
      "\n",
      "\n"
     ]
    }
   ],
   "source": [
    "Npoints = 10000;\n",
    "X = randn(Npoints, 3);\n",
    "X = X./sqrt(sum(X.^2, 3));\n",
    "\n",
    "R = nthroot(rand(Npoints, 1), 3);\n",
    "X = X.*R;\n",
    "\n",
    "I = sum(X(:,1).^2 + X(:,2).^3 + 3*X(:,3))/Npoints"
   ]
  },
  {
   "cell_type": "markdown",
   "metadata": {},
   "source": [
    "## Initial Value Problems##\n",
    "\n",
    "Difference between IVP and BVP:\n",
    "\n",
    "Initial Value Problem (IVP): can be solved in a recursive or evolutionary fashion. \n",
    "\n",
    "Boundary Value Problem (BVP): require the entire solution to be computed simultaneously because the solution at one point depends on the solution everywhere else.\n",
    "\n",
    "The most common IVP is to find a function $x: [0,T]\\rightarrow R^2$ whose initial value $x(0)$ is known and over its domain it satisfies $x'(t) = f(t,x(t))$. Usually in economics time is autonomous, and thus the equation is of form $x'(t) = f(x(t))$\n",
    "\n",
    "Euler's method: discretize time. Given $x$ at time $t_i$ and a step size $h$, we approximate $x_{i+1} = x_i + hf(t_i, x_i)$. \n",
    "\n",
    "Other refinements: Runge-Kutta method\n",
    "\n"
   ]
  },
  {
   "cell_type": "markdown",
   "metadata": {},
   "source": [
    "**Example: Commercial fishery**\n",
    "\n",
    "Consider the following model:\n",
    "$$\n",
    "p = \\alpha - \\beta Ky \\\\\n",
    "\\pi = py - cy^2/{2S} - f \\\\\n",
    "\\frac{dS}{dt} = (a-bS)S-Ky\\\\\n",
    "\\frac{dK}{dt} = \\delta \\pi\n",
    "$$\n",
    "\n",
    "where $p$ is the price for fish, $K$ is the size of industry, $y$ is the catch rate of the firm, $\\pi$ is the profit, and $S$ is the fish population.\n",
    "\n",
    "Model solution: industry is competitive so marginal profit = marginal cost: $\\frac{\\partial \\pi}{\\partial y} = 0\\Rightarrow p = cy/S$, which is the inverse supply function in the short run. \n",
    "\n",
    "Market clearing: demand = supply: $\\alpha - \\beta K y = cy/S$ gives short-run equilibrium catch rate $y = \\alpha S/(c+\\beta SK)$ and price $p = ac/(c+\\beta SK)$ and profit function $\\pi = \\frac{c\\alpha^2 S}{2(c+\\beta SK)^2} - f$\n",
    "\n",
    "The dynamics is solved by a 2-dimensional IVP:\n",
    "\n",
    "$$\n",
    " S' = (a-bS)S - \\frac{\\alpha SK}{c+\\beta SK} \\\\ \n",
    " K' = \\delta (\\frac{c\\alpha^2 S}{2(c+\\beta SK)^2}-f)\n",
    "$$"
   ]
  },
  {
   "cell_type": "code",
   "execution_count": 50,
   "metadata": {},
   "outputs": [
    {
     "name": "stdout",
     "output_type": "stream",
     "text": [
      "\n"
     ]
    },
    {
     "data": {
      "image/png": "[encoded data removed]",
      "text/plain": [
       "<IPython.core.display.Image object>"
      ]
     },
     "metadata": {},
     "output_type": "display_data"
    }
   ],
   "source": [
    "a = 1;\n",
    "b = 1;\n",
    "alpha = 1;\n",
    "c = 1;\n",
    "beta = 2.75;\n",
    "f = 0.06;\n",
    "delta = 10;\n",
    "\n",
    "\n",
    "f = @(t,x) [(a-b*x(1))*x(1) - (alpha * x(1)*x(2))/(c+beta*x(1)*x(2)); delta*((c*alpha^2*x(1))/(2*(c+beta*x(1)*x(2))^2)-f)];\n",
    "\n",
    "[t, xa] = ode45(f, [0 10], [1 1]);\n",
    "plot(t, xa(:,1))\n",
    "title('S(t)')\n",
    "xlabel('t'), ylabel('S')"
   ]
  },
  {
   "cell_type": "code",
   "execution_count": 53,
   "metadata": {},
   "outputs": [
    {
     "name": "stdout",
     "output_type": "stream",
     "text": [
      "\n"
     ]
    },
    {
     "data": {
      "image/png": "[encoded data removed]",
      "text/plain": [
       "<IPython.core.display.Image object>"
      ]
     },
     "metadata": {},
     "output_type": "display_data"
    }
   ],
   "source": [
    "plot(t, xa(:,2))\n",
    "title('K(t)')\n",
    "xlabel('t'), ylabel('K')"
   ]
  },
  {
   "cell_type": "markdown",
   "metadata": {},
   "source": [
    "# Chapter 6: Function Approximation\n",
    "\n",
    "In functional equation problem, one want to find $f$ such that $Tf = 0$. In functional fixed-point problem, one want to find $f$ such that $f = Tf$\n",
    "\n",
    "Example: differential equations $g(x,f(x), f'(x)) = 0$, integral equations $f(x) - \\int g(x)f(x)dx = 0$. In these cases, $g$ is known and we need to find $f$ satisfying the equation. \n",
    "\n",
    "## Interpolation principle\n",
    "\n",
    "Use of an approximating function $\\hat{f}$ that is easy to evaulate in place of the function of interest $f$. Steps:\n",
    "\n",
    "1. Choose $\\hat{f}(x) = \\sum_{j=1}^n \\phi_j(x)c_j$ where $\\phi_j$ are basis functions chosen. \n",
    "2. Choose $n$ conditions (usually the value of $f$ at n points, or the derivatives of $f$ at these $n$ points) and solve for undetermined coefficients by the conditions.\n",
    "\n",
    "## Polynomial Interpolation\n",
    "\n",
    "According to Weierstrass Theorem, any continuous real-valued function $f$ on interval $[a,b]$ can be approximated to any degree of accuracy using a polynomial.\n",
    "\n",
    "1. The basis functions are $\\{x^i\\}$ for $i = 0,1, 2 \\cdots n-1$ (Vandermonde matrices)\n",
    "2. Solve the undetermined coefficients using values at $n$ points. \n",
    "\n",
    "Evenly spaced interpolation nodes: $x_i = a + \\frac{i-1}{n-1}(b-a)$\n",
    "\n",
    "Chebychev nodes: $x_i = \\frac{a+b}{2} + \\frac{b-a}{2}\\cos{(\\frac{n-i+0.5}{n}\\pi)}$\n",
    "\n",
    "Chebychev-nodes have good theoretical properties. \n",
    "1. Rivlin's Theorem: the approximation error associated with the $n^{th}$ degree Chebychev-node polynomial approximation cannot exceeds $2\\pi \\log(n)+2$ times the lowest error attainable at the same polynomial degree\n",
    "2. Jackson's theorem: the approximation error of $n^{th}$ degree Chebychev-node polynomial approximation can be bounded by \n",
    "\n",
    "$$\n",
    "||f-p_n|| \\leq \\frac{6}{n}||f'||(b-a)(\\log(n)/\\pi + 1)\n",
    "$$\n",
    "\n",
    "Other polynomial basis functions: Chebychev basis. Good basis for interpolate function values at the Chebychev nodes. Also orthogonal. \n",
    "\n",
    "## Other basis\n",
    "\n",
    "Piecewize Polynomial Splines: a series of $k^th$ order polynomial segments spliced together so as to preserve continuity of derivatives of order $k-1$ or less. \n",
    "\n",
    "Piecewise Linear basis: good for non-smooth or discontinuous function. Derivatives at breakpoints are not continuous. \n",
    "\n",
    "## Matlab Examples\n",
    "\n",
    "Matlab functions for approximation: FUNDEFN, FUNFITF, FUNFITXY, FUNEVAL, FUNNODE, FUNBAS, **from CEtools**\n",
    "\n",
    "fundefn: create structured Matlab variable containing numerous fields of intformation  necessary for forming approximations in the chosen function space\n",
    "\n",
    "funfitf: determines the basis coefficients of a member from the specified function space that approximates the function defined in an m-file\n",
    "\n",
    "funfitxy: compute coefficients for function value given at any arbitray points\n",
    "\n",
    "funeval: evaluate the approximated function at one or more points"
   ]
  },
  {
   "cell_type": "code",
   "execution_count": 21,
   "metadata": {},
   "outputs": [
    {
     "name": "stdout",
     "output_type": "stream",
     "text": [
      "\n",
      "fspace = \n",
      "\n",
      "  struct with fields:\n",
      "\n",
      "          d: 2\n",
      "          n: [10 15]\n",
      "          a: [-1 2]\n",
      "          b: [4 9]\n",
      "    bastype: {'spli'  'spli'}\n",
      "      parms: {{1x3 cell}  {1x3 cell}}\n",
      "\n",
      "\n"
     ]
    }
   ],
   "source": [
    "%10th degree Chebychev approximant for univariate functions on interval [-1,2]\n",
    "fspace = fundefn('cheb', 10, -1,2);\n",
    "%cubic spline approximants for bivariate functions defined on 1<=x1<=2, 4<=x2<=9. \n",
    "%10 points in x1 and 15 points in x2\n",
    "fspace = fundefn('spli', [10 15], [-1 2],[4 9],3)"
   ]
  },
  {
   "cell_type": "markdown",
   "metadata": {},
   "source": [
    "Example: interpolate $f(x) = x^2exp(\\alpha x)$"
   ]
  },
  {
   "cell_type": "code",
   "execution_count": 51,
   "metadata": {},
   "outputs": [
    {
     "name": "stdout",
     "output_type": "stream",
     "text": [
      "Created file 'C:\\Users\\barry\\Documents\\Academics\\Quantecon-Notes\\functions\\nexp.m'.\n"
     ]
    }
   ],
   "source": [
    "%%file functions\\nexp.m\n",
    "function fx = nexp(x, alpha)\n",
    "    fx = x.^2.*exp(alpha.*x);"
   ]
  },
  {
   "cell_type": "code",
   "execution_count": 53,
   "metadata": {},
   "outputs": [
    {
     "name": "stdout",
     "output_type": "stream",
     "text": [
      "\n"
     ]
    },
    {
     "data": {
      "image/png": "[encoded data removed]",
      "text/plain": [
       "<IPython.core.display.Image object>"
      ]
     },
     "metadata": {},
     "output_type": "display_data"
    }
   ],
   "source": [
    "alpha = 2;\n",
    "space = fundefn('cheb', 10, -1,1);\n",
    "c = funfitf(space,'nexp', alpha);\n",
    "x = nodeunif(1001, -1,1);\n",
    "yact = nexp(x, alpha);\n",
    "yapp = funeval(c, space, x);\n",
    "plot(x, yact-yapp)"
   ]
  },
  {
   "cell_type": "code",
   "execution_count": 57,
   "metadata": {},
   "outputs": [
    {
     "name": "stdout",
     "output_type": "stream",
     "text": [
      "\n"
     ]
    }
   ],
   "source": [
    "%return the value of the matrix of the basis\n",
    "funbas(space, x);\n",
    "%return the value of the matrix of the derivative of the basis function\n",
    "funbas(space, x, 3);"
   ]
  },
  {
   "cell_type": "markdown",
   "metadata": {},
   "source": [
    "## Solving functional equations\n",
    "\n",
    "One class of functional equation is in the form of $g(x, f(x)) = 0$ for $x\\in [a,b]$. We want to find $f(x)\\simeq \\hat{f}(x) =\\sum_{j=1}^n \\phi_j(x)c_j = \\phi(x)c$ that satisfies $g(x,\\phi(x)c)\\simeq 0$ for $x\\in [a,b]$\n",
    "\n",
    "General approach: collocatoin: choose $c$ in such a way as to make the residual zero at $n$ prescribed nodes: $g(x_i, \\phi(x_i)c) = 0$ for $i = 1\\cdots n$, which can be solved using root finding methods. \n",
    "\n",
    "Similarly, for differential equations $g(x, f(x), f'(x)) = 0$, subject to $b(f(x_b)) = 0$, we solve for $g(x_i, \\phi(x_i)c, \\phi'(x_i)c)=0$ and the boundary function $b(\\phi(x_b)c)=0$\n",
    "\n",
    "### Example: Cournot Oligopoly\n",
    "\n",
    "An oligopolistic firm's action will affect price, so the marginal revenue is $p+q\\frac{dp}{dq}$. The Cournot assumption is that the firm acts as if any output change it makes will be unmatched by its competitors. It implies $\\frac{dp}{dq} = \\frac{1}{D'(p)}$ where $D(p)$ is the market demand.\n",
    "\n",
    "The supply for this firm is given by finding the function $q = S(p)$ such that \n",
    "\n",
    "$$\n",
    "MR = MC \\Rightarrow p + \\frac{S(p)}{D'(p)} - MC(S(p)) = 0\n",
    "$$\n",
    "\n",
    "Suppose the market demand $q = D(p) = p^{-\\eta}$ and marginal cost $MC(q) = \\alpha \\sqrt{q} + q^2$. Then we want $q = S(p)$ such that \n",
    "\n",
    "$$\n",
    "(p - \\frac{qp^{\\eta + 1}}{\\eta}) - (\\alpha \\sqrt{q} + q^2) = 0\n",
    "$$"
   ]
  },
  {
   "cell_type": "code",
   "execution_count": 15,
   "metadata": {},
   "outputs": [
    {
     "name": "stdout",
     "output_type": "stream",
     "text": [
      "Created file 'C:\\Users\\barry\\Documents\\Academics\\Quantecon-Notes\\functions\\cournot_resid.m'.\n"
     ]
    }
   ],
   "source": [
    "%%file functions\\cournot_resid.m\n",
    "function resid = cournot_resid(c, p, alpha, eta, Phi);\n",
    "    dp = (-1./eta)*p.^(eta+1);\n",
    "    q = Phi*c;\n",
    "    resid = p + q.*dp - alpha*sqrt(q) - q.^2;"
   ]
  },
  {
   "cell_type": "code",
   "execution_count": 32,
   "metadata": {},
   "outputs": [
    {
     "name": "stdout",
     "output_type": "stream",
     "text": [
      "\n"
     ]
    }
   ],
   "source": [
    "alpha = 1; eta = 1.5;\n",
    "n = 25; a = 0.3; b = 3;\n",
    "fspace = fundefn('cheb', n, a,b);\n",
    "p = funnode(fspace);\n",
    "Phi = funbas(fspace, p);\n",
    "c = Phi\\sqrt(p);\n",
    "c = broyden('cournot_resid', c, p, alpha, eta, Phi);"
   ]
  },
  {
   "cell_type": "code",
   "execution_count": 33,
   "metadata": {},
   "outputs": [
    {
     "name": "stdout",
     "output_type": "stream",
     "text": [
      "\n"
     ]
    },
    {
     "data": {
      "image/png": "[encoded data removed]",
      "text/plain": [
       "<IPython.core.display.Image object>"
      ]
     },
     "metadata": {},
     "output_type": "display_data"
    }
   ],
   "source": [
    "%supply curves for different number of firms\n",
    "plot(funeval(c, fspace, p),p)\n",
    "hold on\n",
    "plot(3*funeval(c, fspace, p),p)\n",
    "plot(5*funeval(c, fspace, p),p)\n",
    "plot(10*funeval(c, fspace, p),p)\n",
    "plot(20*funeval(c, fspace, p),p)\n",
    "%demand curve\n",
    "plot(p.^(-eta),p)"
   ]
  },
  {
   "cell_type": "markdown",
   "metadata": {},
   "source": [
    "### Function Inverse\n",
    "\n",
    "Suppose we want to approximate function $f$ that satisfies $f(f(x)) = x$ on some interval $a \\leq x \\leq b$. Suppose $f(x) = 2\\exp(x - 3)$ on $5\\leq x \\leq 10$, then we want to solve $2\\exp(f(x) - 3)-x = 0$"
   ]
  },
  {
   "cell_type": "code",
   "execution_count": 111,
   "metadata": {},
   "outputs": [
    {
     "name": "stdout",
     "output_type": "stream",
     "text": [
      "\n"
     ]
    }
   ],
   "source": [
    "fspace = fundefn('cheb', 10 ,5,10);\n",
    "x = funnode(fspace);\n",
    "Phi = funbas(fspace, x);\n",
    "c = funfitxy(fspace, x, x);\n",
    "c = broyden('inverse_ex',c,x, Phi);"
   ]
  },
  {
   "cell_type": "code",
   "execution_count": 107,
   "metadata": {},
   "outputs": [
    {
     "name": "stdout",
     "output_type": "stream",
     "text": [
      "Created file 'C:\\Users\\barry\\Documents\\Academics\\Quantecon-Notes\\functions\\inverse_ex.m'.\n"
     ]
    }
   ],
   "source": [
    "%%file functions\\inverse_ex.m\n",
    "function resid = inverse_ex(c, x, Phi)\n",
    "    resid = 2*exp((Phi*c) -3) - x;\n",
    "    "
   ]
  },
  {
   "cell_type": "code",
   "execution_count": 112,
   "metadata": {},
   "outputs": [
    {
     "name": "stdout",
     "output_type": "stream",
     "text": [
      "\n",
      "inverse =\n",
      "\n",
      "    3.9224\n",
      "    3.9694\n",
      "    4.0530\n",
      "    4.1577\n",
      "    4.2682\n",
      "    4.3726\n",
      "    4.4627\n",
      "    4.5334\n",
      "    4.5818\n",
      "    4.6064\n",
      "\n",
      "\n"
     ]
    }
   ],
   "source": [
    "inverse = funeval(c, fspace, x)"
   ]
  },
  {
   "cell_type": "markdown",
   "metadata": {},
   "source": [
    "### Boundary value problem\n",
    "\n",
    "Initial value problem: $x'(t) = f(t, x(t))$ subject to $x(t_0) = x_0$\n",
    "\n",
    "Boundary value problem: one seeks a solution function $x(t): [a,b]\\rightarrow R^d$ such that $r(t, x(t), x'(t)) = 0$ subject to $b_i(t_i^b, x(t_i^b), x'(t_i^b)) = 0$ for $i = 1\\cdots d$. \n",
    "\n",
    "The BVP can be nonlinear in $x'(t)$. And the solution function need not be known at any specific point. \n",
    "\n",
    "Boundary value problem arise most often in deterministic optimal control problem, the solutions to which can be expressed as a set of differential equations defining the dynamic behavior of a set of $d_s$ state variables and $d_x$ control variables, along with initial conditions of $d_s$ state variables and $d_x$ transversality conditions. \n",
    "\n",
    "Example: $r(t, x(t), x'(t)) = x'(t) - x(t)A$ where $A = \\begin{bmatrix} -1 & -0.5 \\\\ 0 & -0.5 \\end{bmatrix}$ with boundary conditions $x_1(0) = 1$ and $x_2(1)=1$. Closed form solution: $x_1(t) = e^{-t}$, $x_2(t) = ce^{-t/2} + e^{-t}$ where $c = e^{0.5}(1-e^{-1})$\n",
    "\n",
    "Need to define a structure variable as following:"
   ]
  },
  {
   "cell_type": "code",
   "execution_count": 35,
   "metadata": {},
   "outputs": [
    {
     "name": "stdout",
     "output_type": "stream",
     "text": [
      "\n",
      "model = \n",
      "\n",
      "  struct with fields:\n",
      "\n",
      "      func: 'pbvp'\n",
      "        tb: [2x1 double]\n",
      "    params: {[2x2 double]}\n",
      "\n",
      "\n"
     ]
    }
   ],
   "source": [
    "A = [-1 -0.5; 0 -0.5];\n",
    "model.func = 'pbvp'; %name of the function\n",
    "model.tb = [0;1]; %position of the boundary condition: 0 for x1 and 1 for x2\n",
    "model.params = {A}"
   ]
  },
  {
   "cell_type": "code",
   "execution_count": 36,
   "metadata": {},
   "outputs": [
    {
     "name": "stdout",
     "output_type": "stream",
     "text": [
      "Created file 'C:\\Users\\barry\\Documents\\Academics\\Quantecon-Notes\\functions\\pbvp.m'.\n"
     ]
    }
   ],
   "source": [
    "%%file functions\\pbvp.m\n",
    "function out1 = pbvp(flag, t, x, dx, A);\n",
    "switch flag\n",
    "case 'r'\n",
    "    out1 = dx - x*A;\n",
    "case 'b'\n",
    "    out1 = [x(1,1) - 1; x(2,2)-1];\n",
    "end"
   ]
  },
  {
   "cell_type": "markdown",
   "metadata": {},
   "source": [
    "It uses the bvpsolve function in CEMatlab module"
   ]
  },
  {
   "cell_type": "code",
   "execution_count": 39,
   "metadata": {},
   "outputs": [
    {
     "name": "stdout",
     "output_type": "stream",
     "text": [
      "\n"
     ]
    },
    {
     "data": {
      "image/png": "[encoded data removed]",
      "text/plain": [
       "<IPython.core.display.Image object>"
      ]
     },
     "metadata": {},
     "output_type": "display_data"
    }
   ],
   "source": [
    "n = 5;\n",
    "a = 0;\n",
    "b = 2;\n",
    "fspace = fundefn('cheb', n-1, a,b);\n",
    "tnodes = funnode(fspace);\n",
    "fspace = fundefn('cheb', n, a, b);\n",
    "\n",
    "% initial condition\n",
    "c = zeros(fspace.n, 2);\n",
    "\n",
    "t = linspace(a,b, 201)';\n",
    "\n",
    "optset('broyden', 'defaults')\n",
    "[c,x,r] = bvpsolve(model, fspace, tnodes, c, t);\n",
    "\n",
    "figure(1)\n",
    "C = exp(0.5)*(1-exp(-1));\n",
    "plot(t, exp(-t)-x(:,1), '-', t, C*exp(-t/2)+exp(-t) - x(:,2), '--');\n",
    "title('BVP approximation error');\n",
    "xlabel('t')\n",
    "legend('x_1','x_2')"
   ]
  },
  {
   "cell_type": "markdown",
   "metadata": {},
   "source": [
    "### Example: Commodity market equilibrium\n",
    "\n",
    "At time $t=0$ there are $S_0$ units of periodically produced commodity available. No more goods will be produced until $t=1$, at which all of currently available good must be consumed. The change in stocks is negative of demand, which we assume $s'(t) = -q = -D(p) = -p^{-\\eta}$. \n",
    "\n",
    "To prevent arbitrage and to induce storage, the price must rise at a rate that covers the cost of capital, $r$, and the phisical storage charge $C$: $p'(t) = rp + C$. \n",
    "\n",
    "Define $x = [p,s]$, then we have residual function $r(t,x,x') = x' - [rx_1+C, -x_1^{-\\eta}]$ with boundary condition $x_2(0) - S = 0, x_2(1) = 0$"
   ]
  },
  {
   "cell_type": "code",
   "execution_count": 56,
   "metadata": {},
   "outputs": [
    {
     "name": "stdout",
     "output_type": "stream",
     "text": [
      "\n"
     ]
    }
   ],
   "source": [
    "S = 1;\n",
    "r = 0.5;\n",
    "C = 0.1;\n",
    "eta = 2;\n",
    "\n",
    "clear model\n",
    "model.func = 'commodity';\n",
    "model.tb = [0;1];\n",
    "model.params = {r, C, eta, S};"
   ]
  },
  {
   "cell_type": "code",
   "execution_count": 57,
   "metadata": {},
   "outputs": [
    {
     "name": "stdout",
     "output_type": "stream",
     "text": [
      "Created file 'C:\\Users\\barry\\Documents\\Academics\\Quantecon-Notes\\functions\\commodity.m'.\n"
     ]
    }
   ],
   "source": [
    "%%file functions\\commodity.m\n",
    "\n",
    "function out1 = commodity(flag, t, x, dx, r,C,eta,S);\n",
    "    switch flag\n",
    "    case 'r'\n",
    "        out1 = dx - [r*x(:,1)+C -x(:,1).^eta];\n",
    "    case 'b'\n",
    "        out1 = x(:,2) - [S; 0];\n",
    "    end"
   ]
  },
  {
   "cell_type": "code",
   "execution_count": 72,
   "metadata": {},
   "outputs": [
    {
     "name": "stdout",
     "output_type": "stream",
     "text": [
      "\n"
     ]
    },
    {
     "data": {
      "image/png": "[encoded data removed]",
      "text/plain": [
       "<IPython.core.display.Image object>"
      ]
     },
     "metadata": {},
     "output_type": "display_data"
    }
   ],
   "source": [
    "n = 5;\n",
    "a = 0;\n",
    "b = 1;\n",
    "fspace = fundefn('cheb', n-1, a,b);\n",
    "tnodes = funnode(fspace);\n",
    "fspace = fundefn('cheb', n, a, b);\n",
    "\n",
    "% initial condition\n",
    "\n",
    "\n",
    "t = linspace(a,b, 201)';\n",
    "\n",
    "c = ones(fspace.n, 2);\n",
    "\n",
    "optset('broyden', 'defaults')\n",
    "[c,x,r] = bvpsolve(model, fspace, tnodes, c, t);\n",
    "\n",
    "close all\n",
    "figure(1)\n",
    "plot(t, x(:,1), '-', t, x(:,2), '--');\n",
    "title('Commodity market equilibrium');\n",
    "xlabel('t')\n",
    "legend('price','stock')"
   ]
  },
  {
   "cell_type": "code",
   "execution_count": null,
   "metadata": {},
   "outputs": [],
   "source": []
  },
  {
   "cell_type": "code",
   "execution_count": null,
   "metadata": {},
   "outputs": [],
   "source": []
  },
  {
   "cell_type": "code",
   "execution_count": null,
   "metadata": {},
   "outputs": [],
   "source": []
  }
 ],
 "metadata": {
  "kernelspec": {
   "display_name": "Matlab",
   "language": "matlab",
   "name": "matlab"
  },
  "language_info": {
   "codemirror_mode": "octave",
   "file_extension": ".m",
   "help_links": [
    {
     "text": "MetaKernel Magics",
     "url": "https://metakernel.readthedocs.io/en/latest/source/README.html"
    }
   ],
   "mimetype": "text/x-octave",
   "name": "matlab",
   "version": "0.16.7"
  },
  "latex_envs": {
   "LaTeX_envs_menu_present": true,
   "autoclose": false,
   "autocomplete": true,
   "bibliofile": "biblio.bib",
   "cite_by": "apalike",
   "current_citInitial": 1,
   "eqLabelWithNumbers": true,
   "eqNumInitial": 1,
   "hotkeys": {
    "equation": "Ctrl-E",
    "itemize": "Ctrl-I"
   },
   "labels_anchors": false,
   "latex_user_defs": false,
   "report_style_numbering": false,
   "user_envs_cfg": false
  }
 },
 "nbformat": 4,
 "nbformat_minor": 2
}
