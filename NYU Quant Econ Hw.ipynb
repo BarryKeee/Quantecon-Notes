{
 "cells": [
  {
   "cell_type": "code",
   "execution_count": 9,
   "metadata": {},
   "outputs": [
    {
     "name": "stdout",
     "output_type": "stream",
     "text": [
      "\n"
     ]
    }
   ],
   "source": [
    "cd 'C:\\Users\\barry\\Documents\\Academics\\Quantecon-Notes'\n",
    "addpath('C:\\Users\\barry\\Documents\\Academics\\Quantecon-Notes\\functions')"
   ]
  },
  {
   "cell_type": "markdown",
   "metadata": {},
   "source": [
    "# Homework 2\n",
    "\n",
    "## 1. Matching model\n",
    "\n",
    "Consider the job matching model in Notes. Assume following quarterly parameterization: $\\kappa = 0.19,\\eta = 0.5, b = 0.4, \\beta = 0.99, \\delta = 0.02$. Assume aggregate matching function $m = Av^\\alpha u^{1-\\alpha}$ with $A=1.0, \\alpha = 0.5$. Assume AR(1) process for log-productivity $\\log{z}$ with $\\rho =0.98$ and $\\sigma =0.002$. \n",
    "\n",
    "**A. Approximate this AR(1) process using the Tauchen method with $N=10$ gird points.**\n",
    "\n",
    "As in Tauchen (1986), for process $\\log{z_t} = \\rho \\log{z_{t-1}} + \\epsilon_t$, for 10 points the maximum grid $y_{10} = N(\\frac{\\sigma^2}{1-\\rho^2})^{1/2} = 0.10$ and miminum grid $y_1 = -y_{10} = -0.10$. The other points are equally spaced. Let $d$ be the distance between each point $d = y_i - y_{i-1}$. The transition matrix is defined as \n",
    "\n",
    "$$\\pi_{jk} = G(y_k + d/2 - \\rho y_j) - G(y_k - d/2 - \\rho y_j)$$\n",
    "with boundaries \n",
    "\n",
    "$$\\pi_{j1} = G(y_1 + d/2 - \\rho y_j)$$\n",
    "$$\\pi_{jN} = 1-G(y_N - d/2 - \\rho y_j)$$\n",
    "\n",
    "where $G(x) = G(\\epsilon_t < x)$ is the CDF for $\\epsilon_t$"
   ]
  },
  {
   "cell_type": "code",
   "execution_count": 91,
   "metadata": {},
   "outputs": [
    {
     "name": "stdout",
     "output_type": "stream",
     "text": [
      "Created file 'C:\\Users\\barry\\Documents\\Academics\\Quantecon-Notes\\functions\\Tauchen.m'.\n"
     ]
    }
   ],
   "source": [
    "%%file functions/Tauchen.m\n",
    "\n",
    "function [y,t_matrix] = Tauchen(N, sig, rho)\n",
    "    m = 3;\n",
    "    y_N = m*sqrt(sig^2/(1-rho^2));\n",
    "    y = linspace(-y_N, y_N, N);\n",
    "    \n",
    "    d = y(2) - y(1);\n",
    "    \n",
    "    t_matrix = zeros(N,N);\n",
    "    for j = 1:N\n",
    "        for k = 1:N\n",
    "            if k == 1\n",
    "                t_matrix(j,k) = normcdf((y(1) + d/2-rho*y(j))/sig);\n",
    "            elseif k == N\n",
    "                t_matrix(j,k) = 1 - normcdf((y(N) - d/2 - rho*y(j))/sig);\n",
    "            else\n",
    "                t_matrix(j,k) = normcdf((y(k) + d/2 - rho*y(j))/sig) - normcdf((y(k) - d/2 - rho*y(j))/sig);\n",
    "            end\n",
    "        end\n",
    "    end"
   ]
  },
  {
   "cell_type": "code",
   "execution_count": 94,
   "metadata": {},
   "outputs": [
    {
     "name": "stdout",
     "output_type": "stream",
     "text": [
      "\n",
      "z =\n",
      "\n",
      "   -0.0302   -0.0235   -0.0168   -0.0101   -0.0034    0.0034    0.0101    0.0168    0.0235    0.0302\n",
      "\n",
      "\n",
      "t_matrix =\n",
      "\n",
      "    0.9152    0.0848    0.0000    0.0000         0         0         0         0         0         0\n",
      "    0.0281    0.8971    0.0749    0.0000    0.0000         0         0         0         0         0\n",
      "    0.0000    0.0327    0.9015    0.0658    0.0000    0.0000         0         0         0         0\n",
      "    0.0000    0.0000    0.0379    0.9044    0.0577    0.0000    0.0000         0         0         0\n",
      "    0.0000    0.0000    0.0000    0.0438    0.9059    0.0503    0.0000         0         0         0\n",
      "    0.0000    0.0000    0.0000    0.0000    0.0503    0.9059    0.0438    0.0000         0         0\n",
      "    0.0000    0.0000    0.0000    0.0000    0.0000    0.0577    0.9044    0.0379    0.0000         0\n",
      "    0.0000    0.0000    0.0000    0.0000    0.0000    0.0000    0.0658    0.9015    0.0327    0.0000\n",
      "    0.0000    0.0000    0.0000    0.0000    0.0000    0.0000    0.0000    0.0749    0.8971    0.0281\n",
      "    0.0000    0.0000    0.0000    0.0000    0.0000    0.0000    0.0000    0.0000    0.0848    0.9152\n",
      "\n",
      "\n"
     ]
    }
   ],
   "source": [
    "[z, t_matrix] = Tauchen(10, 0.002, 0.98)"
   ]
  },
  {
   "cell_type": "markdown",
   "metadata": {},
   "source": [
    "**1. Derive analytically the key equation that determines $\\theta(z)$ from the free entry condition**\n",
    "\n",
    "$$\\frac{\\kappa}{\\beta q(\\theta(z_i))} = \\sum_{j=1}^N [(1-\\eta)(z_j - b) - \\eta \\kappa \\theta(z_j) + \\frac{(1-\\eta)\\kappa}{q(\\theta(z_j))}]\\Gamma(z_j, z_i)$$\n",
    "\n",
    "where $q(\\theta) = (Av^\\alpha u^{1-\\alpha})/v = A\\theta^{-0.5} = \\theta^{-0.5}$\n",
    "\n",
    "**2. Solve for $\\theta(z_j)$**\n",
    "\n"
   ]
  },
  {
   "cell_type": "code",
   "execution_count": 100,
   "metadata": {},
   "outputs": [
    {
     "name": "stdout",
     "output_type": "stream",
     "text": [
      "Created file 'C:\\Users\\barry\\Documents\\Academics\\Quantecon-Notes\\functions\\Theta_solve.m'.\n"
     ]
    }
   ],
   "source": [
    "%%file functions/Theta_solve.m\n",
    "\n",
    "function F = Theta_solve(theta)\n",
    "    kappa = 0.19; eta = 0.5; b = 0.4; beta = 0.99; delta = 0.02; A = 1; alpha = 0.5; \n",
    "    rho = 0.98; sig = 0.002; N = 10;\n",
    "    [z, t_matrix] = Tauchen(N, sig, rho);\n",
    "    Z = exp(z);\n",
    "    for i = 1:N\n",
    "        F(i) = sum(((1-eta).*(Z- b)-eta*kappa*theta + ((1-eta)*kappa)./(A*theta.^(alpha-1)))*t_matrix(:,i)) - kappa/(beta*(A*theta(i)^(alpha - 1)));\n",
    "    end"
   ]
  },
  {
   "cell_type": "code",
   "execution_count": 102,
   "metadata": {},
   "outputs": [
    {
     "name": "stdout",
     "output_type": "stream",
     "text": [
      "\n",
      "Equation solved.\n",
      "\n",
      "fsolve completed because the vector of function values is near zero\n",
      "as measured by the value of the function tolerance, and\n",
      "the problem appears regular as measured by the gradient.\n",
      "\n",
      "\n",
      "theta =\n",
      "\n",
      "    1.5694    1.7362    1.7554    1.7807    1.8063    1.8323    1.8587    1.8853    1.9190    1.7887\n",
      "\n",
      "\n"
     ]
    }
   ],
   "source": []
  },
  {
   "cell_type": "markdown",
   "metadata": {},
   "source": [
    "**3. Use data from FRED to calculate the HP-filtered ($\\lambda = 1600$) standard deviations of the quarterly time series of the log of $\\{v,u,\\theta, w\\}$**"
   ]
  },
  {
   "cell_type": "code",
   "execution_count": null,
   "metadata": {},
   "outputs": [],
   "source": []
  },
  {
   "cell_type": "markdown",
   "metadata": {},
   "source": [
    "**4. Simulate the economy for 10,500 periods. Drop the first 500. Compute the standard deviation of vacancies, unemployment, market tightness.**\n",
    "\n",
    "Recall the law of motion $$u_{t+1} = u_t - p(\\theta_t) + \\delta (1-u_t)$$\n",
    "and the equation for wage from Nash bargaining: $$w_t = \\eta z + (1-\\eta)b + \\eta \\kappa \\theta(z)$$"
   ]
  },
  {
   "cell_type": "code",
   "execution_count": 186,
   "metadata": {},
   "outputs": [
    {
     "name": "stdout",
     "output_type": "stream",
     "text": [
      "Created file 'C:\\Users\\barry\\Documents\\Academics\\Quantecon-Notes\\functions\\z_recursive_sample.m'.\n"
     ]
    }
   ],
   "source": [
    "%%file functions\\z_recursive_sample.m\n",
    "\n",
    "function z_index = z_recursive_sample(z_index_prev, t_matrix)\n",
    "    \n",
    "    dist = t_matrix(z_index_prev,:);\n",
    "    cdf = cumsum(dist);\n",
    "    seed = rand;\n",
    "    z_index = 1;\n",
    "    for i = 2:length(t_matrix)\n",
    "        if seed < cdf(i)\n",
    "            z_index = i;\n",
    "            break\n",
    "        end\n",
    "    end"
   ]
  },
  {
   "cell_type": "code",
   "execution_count": 358,
   "metadata": {},
   "outputs": [
    {
     "name": "stdout",
     "output_type": "stream",
     "text": [
      "\n"
     ]
    }
   ],
   "source": [
    "options = optimset('Display','off');\n",
    "\n",
    "\n",
    "N = 10;\n",
    "sig = 0.002;\n",
    "rho = 0.98;\n",
    "A = 1;\n",
    "alpha = 0.5;\n",
    "delta = 0.02;\n",
    "eta = 0.5;\n",
    "b = 0.4;\n",
    "kappa = 0.19;\n",
    "\n",
    "T = 100;\n",
    "[z, t_matrix] = Tauchen(N, sig, rho);\n",
    "Z = exp(z);\n",
    "z_index_0 = randi(10);\n",
    "\n",
    "z_index = zeros(T,1);\n",
    "u = zeros(T,1);\n",
    "v = zeros(T,1);\n",
    "w = zeros(T,1);\n",
    "theta = zeros(T,1);\n",
    "\n",
    "theta_0 = linspace(1,4,10);\n",
    "\n",
    "fun = @Theta_solve;\n",
    "\n",
    "z_index(1) = z_index_0;\n",
    "u(1) = 0.036; %unemployment rate 3.6%\n",
    "\n",
    "for i = 1:T-1\n",
    "    \n",
    "    theta_val = fsolve(fun, theta_0, options);\n",
    "    theta(i) = theta_val(z_index(i));\n",
    "    v(i) = theta(i)*u(i);\n",
    "    w(i) = eta*Z(z_index(i)) + (1-eta)*b + eta*kappa*theta(i);\n",
    "    \n",
    "    u(i+1) = u(i) - A*theta(i)^(1-alpha)*u(i)+ delta*(1-u(i));\n",
    "    z_index(i+1) = z_recursive_sample(z_index(i), t_matrix);\n",
    "    end"
   ]
  },
  {
   "cell_type": "code",
   "execution_count": 361,
   "metadata": {},
   "outputs": [
    {
     "name": "stdout",
     "output_type": "stream",
     "text": [
      "\n",
      "ans =\n",
      "\n",
      "    0.0023\n",
      "\n",
      "\n",
      "ans =\n",
      "\n",
      "    0.0050\n",
      "\n",
      "\n",
      "ans =\n",
      "\n",
      "    0.1820\n",
      "\n",
      "\n",
      "ans =\n",
      "\n",
      "    0.0872\n",
      "\n",
      "\n"
     ]
    }
   ],
   "source": [
    "std(u)\n",
    "std(v)\n",
    "std(theta)\n",
    "std(w)"
   ]
  },
  {
   "cell_type": "markdown",
   "metadata": {},
   "source": [
    "Shimer Puzzle: given a reasonable productivity shock, the variation in unemployment predicted from DMP model is too little comparing with the real data. "
   ]
  },
  {
   "cell_type": "markdown",
   "metadata": {},
   "source": [
    "## 2. Deterministic OLG model\n",
    "\n",
    "Model setup: individual lives for $I$ periods: $i=1,2,\\cdots I$. The first $I^w$ periods he works then he retires. Preference over comsumption and hours worked are \n",
    "\n",
    "$$\n",
    "\\sum_{i=1}^I \\beta^{i-1}[\\frac{c_i^{1-\\gamma}}{1-\\gamma} - \\phi \\frac{h_i^{1+\\eta}}{1+\\eta}]\n",
    "$$\n",
    "\n",
    "His productivity when working is $\\epsilon_i = (1+g)^{i-1}$.\n",
    "\n",
    "A retiree earns a fraction $\\rho$ of her average earnings (wage times hours $h$ times productivity $\\epsilon$) during her working life. The individual is born with zero asset and can save and borrow in a risk-free bond $a$ at the interest rate $r$. A no-Ponzi condition ensures that $a_{I+T} \\geq 0$. A tax $\\tau$ is levied on labor income by the government. \n",
    "\n",
    "**A. Model solution**\n",
    "\n",
    "The optimization program of the individual is \n",
    "\n",
    "$$\n",
    "\\begin{aligned}\n",
    "\\max_{c_i, h_i} &\\sum_{i=1}^I \\beta^{i-1}[\\frac{c_i^{1-\\gamma}}{1-\\gamma} - \\phi \\frac{h_i^{1+\\eta}}{1+\\eta}] \\\\\n",
    "s.t &a_{i+1} = (1+r)a_i + w(1+g)^{i-1}h_i - c_i \\text{if  } i\\leq I^w \\\\\n",
    "&a_{i+1} = (1+r)a_i + \\frac{\\rho}{I^w} w\\sum_{i=1}^{I^w}(1+g)^{i-1}h_i - c_i \\text{if  } i> I^w \n",
    "\\end{aligned}$$\n",
    "\n",
    "For $i \\leq I^w$, the Euler equation requires \n",
    "\n",
    "$$\n",
    "u'(c_i) = c_i^{-\\gamma} = \\beta(1+r)u'(c_{i+1}) = \\beta (1+r) c_{i+1}^{-\\gamma}\n",
    "$$\n",
    "$$\n",
    "u'(h_i) = -\\phi h_i^{\\eta} =  \\frac{\\beta (1+r)}{1+g} u'(h_{i+1}) = -\\phi \\frac{\\beta (1+r)}{1+g} h_{i+1}^{\\eta}\n",
    "$$\n",
    "\n",
    "So \n",
    "$(\\frac{c_{i+1}}{c_i})^\\gamma = \\beta (1+r)$, $(\\frac{h_{i+1}}{h_i})^{-\\eta} = \\frac{\\beta (1+r)}{1+g}$\n",
    "\n",
    "From intertemporal tradeoff, we have $h_i^\\eta c_i^\\gamma = \\frac{1}{\\phi} (1+g)^{i-1}w$\n",
    "\n",
    "So the consumption and working hour path are given by \n",
    "\n",
    "$$\\begin{aligned}\n",
    "c_i &= (\\beta(1+r))^{i/\\gamma}c_0 \\\\\n",
    "h_i &= (\\frac{1+g}{\\beta(1+r)})^{i/\\eta}h_0 \\\\ \n",
    "c_0^\\gamma h_0^{\\eta} &= w/\\phi\n",
    "\\end{aligned}$$\n",
    "\n",
    "Now therefore the intertemporal transfer of asset after $I_w$ is \n",
    "\n",
    "$$\n",
    "\\begin{aligned}\n",
    "a_{i+1} &= (1+r)a_i + \\frac{\\rho}{I^w} w\\sum_{i=1}^{I^w}(1+g)^{i-1}h_i - c_i \\\\\n",
    " &= (1+r)a_i + \\frac{\\rho}{(1+g)I_w} \\frac{1-(1+g)^{(1+1/\\eta)I_w}(\\frac{1}{\\beta (1+r)})^\\frac{I_w}{\\eta}}{(1+g)^{(1+1/\\eta)} (\\frac{1}{\\beta (1+r)})^\\frac{1}{\\eta}}h_0 - c_i\n",
    " \\end{aligned}\n",
    "$$\n",
    "\n",
    "And the consumption path is still governed by $c_i = (\\beta(1+r))^{i/\\gamma}c_0 $\n",
    "\n",
    "So the lifetime utility is \n",
    "\n",
    "$$\n",
    "\\begin{aligned}\n",
    "&\\sum_{i=1}^I \\beta^{i-1} [\\frac{(\\beta (1+r))^{\\frac{1-\\gamma}{\\gamma}i}c_0^{1-\\gamma}}{1-\\gamma} - \\phi \\frac{(\\frac{1+g}{\\beta(1+r)})^{\\frac{1+\\eta}{\\eta}i}h_0^{1+\\eta}}{1+\\eta}] \\\\\n",
    "=& \\sum_{i=1}^I \\beta^{i-1} \\frac{(\\beta (1+r))^{\\frac{1-\\gamma}{\\gamma}i}c_0^{1-\\gamma}}{1-\\gamma} - \\sum_{i=1}^{I_w} \\beta^{i-1}\\phi \\frac{(\\frac{1+g}{\\beta(1+r)})^{\\frac{1+\\eta}{\\eta}i}(\\frac{w}{\\phi})^{\\frac{1+\\eta}{\\eta}}c_0^{-\\frac{1+\\eta}{\\eta}\\gamma}}{1+\\eta} \\\\ \n",
    "=&\\frac{c_0^{1-\\gamma}}{(1-\\gamma)\\beta}\\sum_{i=1}^I (\\beta^{1/\\gamma} (1+r)^{\\frac{1-\\gamma}{\\gamma}})^i - \\frac{w^{\\frac{1+\\eta}{\\eta}}\\phi^{-1/\\eta}c_0^{-\\frac{1+\\eta}{\\eta}\\gamma}}{\\beta(1+\\eta)} \\sum_{i=1}^{I_w} [(\\frac{1+g}{1+r})^{\\frac{1+\\eta}{\\eta}}\\beta^{-\\frac{1}{\\eta}}]^i\n",
    "\\end{aligned}\n",
    "$$\n",
    "\n",
    "which is increasing in $c_0$ and therefore optimize to the boundary. The constraint is given by no-ponzi condition, "
   ]
  },
  {
   "cell_type": "markdown",
   "metadata": {},
   "source": []
  },
  {
   "cell_type": "code",
   "execution_count": null,
   "metadata": {},
   "outputs": [],
   "source": []
  }
 ],
 "metadata": {
  "kernelspec": {
   "display_name": "Matlab",
   "language": "matlab",
   "name": "matlab"
  },
  "language_info": {
   "codemirror_mode": "octave",
   "file_extension": ".m",
   "help_links": [
    {
     "text": "MetaKernel Magics",
     "url": "https://metakernel.readthedocs.io/en/latest/source/README.html"
    }
   ],
   "mimetype": "text/x-octave",
   "name": "matlab",
   "version": "0.16.7"
  },
  "latex_envs": {
   "LaTeX_envs_menu_present": true,
   "autoclose": false,
   "autocomplete": true,
   "bibliofile": "biblio.bib",
   "cite_by": "apalike",
   "current_citInitial": 1,
   "eqLabelWithNumbers": true,
   "eqNumInitial": 1,
   "hotkeys": {
    "equation": "Ctrl-E",
    "itemize": "Ctrl-I"
   },
   "labels_anchors": false,
   "latex_user_defs": false,
   "report_style_numbering": false,
   "user_envs_cfg": false
  }
 },
 "nbformat": 4,
 "nbformat_minor": 2
}
