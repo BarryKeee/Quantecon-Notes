{
 "cells": [
  {
   "cell_type": "markdown",
   "metadata": {},
   "source": [
    "# Practicing Dynare\n",
    "\n",
    "This notebook replicates the examples in *Practicing Dynare* by Barillas, Bhandari, Colacito, Kitao, Matthes, Sargent, and Shin. "
   ]
  },
  {
   "cell_type": "code",
   "execution_count": null,
   "metadata": {},
   "outputs": [],
   "source": [
    "addpath('C:\\dynare\\4.5.7\\matlab')"
   ]
  },
  {
   "cell_type": "markdown",
   "metadata": {},
   "source": [
    "## Neoclassical Growth Model\n",
    "\n",
    "### Model\n",
    "\n",
    "A representative agent's problem is \n",
    "$$\n",
    "\\max_{c_t,l_t} E_0 \\sum_{t=1}^\\infty \\beta^{t-1} \\frac{c_t^\\theta (1-l_t)^{1-\\theta})^{1-\\tau}}{1-\\tau}\n",
    "$$\n",
    "\n",
    "subject to the resource constraint\n",
    "$$\n",
    "c_t + i_t = e^{z_t}k_t^\\alpha l_t^{1-\\alpha}\n",
    "$$\n",
    "the motion of capital\n",
    "$$\n",
    "k_{t+1} = i_t + (1-\\delta)k_t\n",
    "$$\n",
    "and stochastic process for productivity \n",
    "$$\n",
    "z_t = \\rho z_{t-1} + s\\epsilon_t\n",
    "$$\n",
    "where $\\epsilon_t \\sim N(0,\\sigma^2)$\n",
    "\n",
    "### Model solution\n",
    "From (2) and (3), we have $$k_{t+1} = e^{z_t}k_t^\\alpha l_t^{1-\\alpha} - c_t + (1-\\delta)k_t$$\n",
    "\n",
    "Lagrangian:\n",
    "$$\n",
    "L = \\max_{c_t, l_t} E_0\\sum_{t=1}^\\infty \\beta^{t-1} [\\frac{(c_t^\\theta (1-l_t)^{1-\\theta})^{1-\\tau}}{1-\\tau} - \\lambda (k_{t+1} - e^{z_t}k_t^\\alpha l_t^{1-\\alpha} - c_t + (1-\\delta)k_t)]\n",
    "$$"
   ]
  },
  {
   "cell_type": "markdown",
   "metadata": {},
   "source": [
    "Take derivatives with respect to $k_t$ we have Euler equation\n",
    "$$\n",
    "\\frac{(c_t^\\theta (1-l_t)^{1-\\theta})^{1-\\tau}}{c_t} = \\beta E_t[\\frac{(c_{t+1}^\\theta (1-l_{t+1})^{1-\\theta})^{1-\\tau}}{c_{t+1}} (1+\\alpha e^{z_t}k_t^{\\alpha-1}l_t^{\\alpha} - \\delta)]\n",
    "$$\n",
    "\n",
    "The optimality condition for labor supply is \n",
    "$$\n",
    "\\frac{1-\\theta}{\\theta} \\frac{c_t}{1-l_t} = (1-\\alpha)e^{z_t}k_t^\\alpha l_t^{-\\alpha}\n",
    "$$\n",
    "\n",
    "The equilibrium is characterized by (5), (7) and (8)"
   ]
  },
  {
   "cell_type": "markdown",
   "metadata": {},
   "source": [
    "### Calibration\n",
    "\n",
    "We use the following calibration\n",
    "\n",
    "|parameter|calibration|\n",
    "|---------|-----------|\n",
    "|$\\beta$|0.98|\n",
    "|$\\theta$|0.35|\n",
    "|$\\delta$|0.01|\n",
    "|$\\alpha$|0.4|\n",
    "|$\\tau$|2|\n",
    "|$\\rho$|0.95|\n",
    "|s|0.007|\n",
    "|$\\sigma$|1|\n",
    "\n",
    "### Model approximation"
   ]
  },
  {
   "cell_type": "code",
   "execution_count": 3,
   "metadata": {},
   "outputs": [
    {
     "name": "stdout",
     "output_type": "stream",
     "text": [
      "Created file 'C:\\Users\\barry\\Documents\\Academics\\Quantecon-Notes\\Dynare_model\\NGM_approx.mod'.\n"
     ]
    }
   ],
   "source": [
    "%%file Dynare_model\\NGM_approx.mod\n",
    "\n",
    "periods = 1000;\n",
    "var c k l z;\n",
    "varexo e;\n",
    "\n",
    "parameters beta theta delta alpha tau rho s;\n",
    "\n",
    "beta = 0.98;\n",
    "theta = 0.35;\n",
    "delta = 0.01;\n",
    "alpha = 0.4;\n",
    "tau = 2;\n",
    "rho = 0.95;\n",
    "s = 0.007;\n",
    "\n",
    "model;\n",
    "(c^theta*(1-l)^(1-theta))^(1-\\tau)/c = beta*((c(+1)^theta*(1-l(+1))^(1-theta)...\n",
    ")^(1-tau)/c(+1))*(1+alpha*exp(z(z-1))*k(-1)^(alpha-1)*l^(1-alpha)-delta);\n",
    "c = theta/(1-theta)*(1-alpha)*exp(z(-1))*k(-1)^alpha*l^(-alpha)*(1-l);\n",
    "k = exp(z(-1))*k(-1)^alpha*l^(1-alpha) - c + (1-delta)*k(-1);\n",
    "z = rho*z(-1)+s*e;\n",
    "end;\n",
    "\n",
    "initval;\n",
    "k = 1;\n",
    "c = 1;\n",
    "l = 0.3;\n",
    "z = 0;\n",
    "e = 0;\n",
    "end\n",
    "\n",
    "shocks;\n",
    "var e;\n",
    "stderr 1;\n",
    "end;\n",
    "\n",
    "steady;\n",
    "\n",
    "stoch_simul(dr_algo = 0, periods = 1000); datasaver('simudata',[]);"
   ]
  },
  {
   "cell_type": "code",
   "execution_count": null,
   "metadata": {},
   "outputs": [],
   "source": []
  }
 ],
 "metadata": {
  "kernelspec": {
   "display_name": "Matlab",
   "language": "matlab",
   "name": "matlab"
  },
  "language_info": {
   "codemirror_mode": "octave",
   "file_extension": ".m",
   "help_links": [
    {
     "text": "MetaKernel Magics",
     "url": "https://metakernel.readthedocs.io/en/latest/source/README.html"
    }
   ],
   "mimetype": "text/x-octave",
   "name": "matlab",
   "version": "0.16.7"
  },
  "latex_envs": {
   "LaTeX_envs_menu_present": true,
   "autoclose": false,
   "autocomplete": true,
   "bibliofile": "biblio.bib",
   "cite_by": "apalike",
   "current_citInitial": 1,
   "eqLabelWithNumbers": true,
   "eqNumInitial": 1,
   "hotkeys": {
    "equation": "Ctrl-E",
    "itemize": "Ctrl-I"
   },
   "labels_anchors": false,
   "latex_user_defs": false,
   "report_style_numbering": false,
   "user_envs_cfg": false
  },
  "varInspector": {
   "cols": {
    "lenName": 16,
    "lenType": 16,
    "lenVar": 40
   },
   "kernels_config": {
    "python": {
     "delete_cmd_postfix": "",
     "delete_cmd_prefix": "del ",
     "library": "var_list.py",
     "varRefreshCmd": "print(var_dic_list())"
    },
    "r": {
     "delete_cmd_postfix": ") ",
     "delete_cmd_prefix": "rm(",
     "library": "var_list.r",
     "varRefreshCmd": "cat(var_dic_list()) "
    }
   },
   "types_to_exclude": [
    "module",
    "function",
    "builtin_function_or_method",
    "instance",
    "_Feature"
   ],
   "window_display": false
  }
 },
 "nbformat": 4,
 "nbformat_minor": 2
}
