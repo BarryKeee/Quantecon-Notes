{
 "cells": [
  {
   "cell_type": "markdown",
   "metadata": {},
   "source": [
    "# Applied Computational Economics and Finance"
   ]
  },
  {
   "cell_type": "markdown",
   "metadata": {},
   "source": [
    "This notebook contains notes and python implementation of some coding examples in \"Applied Computational Economics and Finance\" by Mario J. Miranda and Paul L. Fackler. "
   ]
  },
  {
   "cell_type": "code",
   "execution_count": 2,
   "metadata": {},
   "outputs": [],
   "source": [
    "import numpy as np\n",
    "from scipy import optimize"
   ]
  },
  {
   "cell_type": "markdown",
   "metadata": {},
   "source": [
    "## Chapter 3. Nonlinear equations"
   ]
  },
  {
   "cell_type": "markdown",
   "metadata": {},
   "source": [
    "### Bisection method\n",
    "\n",
    "Bisection method is a root finding algorithm based on Intermediate Value Theorem. If $f$ is continuous, and $f(a)f(b)<0$, then $f$ must have at least one root in $[a,b]$\n",
    "\n",
    "Algorithm: WLOG, start with $f(a)<0, f(b)>0$. Compute $f(x) = f(\\frac{a+b}{2})$. If $f(x)>0$, then set $b = x$ and continue the iteration. \n",
    "\n",
    "Greatest strength: robustness. Guaranteed to compute a root to a precision $\\epsilon$ with no more than $\\log{((b-a)/\\epsilon)}/\\log(2)$ iterations. \n",
    "\n",
    "### Function iteration:\n",
    "\n",
    "Function iteration is used to compute a fixed-point, $x=g(x)$ of a function. For root finding, it is equivalent to solve $x=x-f(x)$.\n",
    "\n",
    "Algorithm: pick an initial guess $x^{0}$. Updating scheme: $x^{(k+1)} = x^{k} - f(x^{k})$\n",
    "\n",
    "### Newton's Method\n",
    "\n",
    "Based on the principle of successive linearization: replace nonlinear problem with a sequence of simpler linear problems whose solutions converge to the solution of the nonlinear problem. \n",
    "\n",
    "Algorithm: $x^{(k+1)} = x^{k}-[f'(x^k)]^{-1}f(x^k)$\n",
    "\n",
    "In theory, Newton's method converges if $f$ is continuously differentiable ($C^2$ function) and if the initial value of $x$ is sufficiently close to a root. \n",
    "\n",
    "**Example: Cournot Duopoly.**\n",
    "\n",
    "The inverse demand function is $p=q^{-1/\\eta}$ and the two firms faces cost function $C_i(q_i)=\\frac{1}{2}c_iq_i^2$ for $i=1,2$. The profit of the firm is $\\pi_i(q_1, q_2) = P(q_1+q_2)q_i - C(q_i)$ and it solves the FOC: $\\frac{\\partial \\pi_i}{\\partial q_i} = 0$"
   ]
  },
  {
   "cell_type": "code",
   "execution_count": 13,
   "metadata": {},
   "outputs": [],
   "source": [
    "c = np.array([0.6,0.8])\n",
    "eta = 1.6\n",
    "e = -1/eta\n",
    "\n",
    "def profit(q):\n",
    "    return sum(q)**e*q-1/2*c*q**2\n",
    "\n"
   ]
  },
  {
   "cell_type": "code",
   "execution_count": null,
   "metadata": {},
   "outputs": [],
   "source": []
  },
  {
   "cell_type": "code",
   "execution_count": null,
   "metadata": {},
   "outputs": [],
   "source": []
  }
 ],
 "metadata": {
  "kernelspec": {
   "display_name": "Python 3",
   "language": "python",
   "name": "python3"
  },
  "language_info": {
   "codemirror_mode": {
    "name": "ipython",
    "version": 3
   },
   "file_extension": ".py",
   "mimetype": "text/x-python",
   "name": "python",
   "nbconvert_exporter": "python",
   "pygments_lexer": "ipython3",
   "version": "3.7.3"
  },
  "latex_envs": {
   "LaTeX_envs_menu_present": true,
   "autoclose": false,
   "autocomplete": true,
   "bibliofile": "biblio.bib",
   "cite_by": "apalike",
   "current_citInitial": 1,
   "eqLabelWithNumbers": true,
   "eqNumInitial": 1,
   "hotkeys": {
    "equation": "Ctrl-E",
    "itemize": "Ctrl-I"
   },
   "labels_anchors": false,
   "latex_user_defs": false,
   "report_style_numbering": false,
   "user_envs_cfg": false
  }
 },
 "nbformat": 4,
 "nbformat_minor": 2
}
