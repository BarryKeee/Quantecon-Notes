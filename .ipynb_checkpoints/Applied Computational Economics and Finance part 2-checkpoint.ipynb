{
 "cells": [
  {
   "cell_type": "code",
   "execution_count": 1,
   "metadata": {},
   "outputs": [
    {
     "name": "stdout",
     "output_type": "stream",
     "text": [
      "Warning: Function psi has the same name as a MATLAB builtin. We suggest you rename the function to avoid a potential name conflict.\n",
      "> In path (line 109)\n",
      "  In addpath (line 86)\n",
      "Warning: Function psi has the same name as a MATLAB builtin. We suggest you rename the function to avoid a potential name conflict.\n",
      "> In path (line 109)\n",
      "  In addpath (line 86)\n",
      "Warning: Function psi has the same name as a MATLAB builtin. We suggest you rename the function to avoid a potential name conflict.\n",
      "Warning: Function psi has the same name as a MATLAB builtin. We suggest you rename the function to avoid a potential name conflict.\n",
      "\n"
     ]
    }
   ],
   "source": [
    "addpath('C:\\Users\\barry\\Documents\\Academics\\Quantecon-Notes\\functions')\n",
    "addpath('C:\\Users\\barry\\Documents\\Academics\\Quantecon-Notes\\functions\\CEtools')\n",
    "cd 'C:\\Users\\barry\\Documents\\Academics\\Quantecon-Notes\\functions'"
   ]
  },
  {
   "cell_type": "markdown",
   "metadata": {},
   "source": [
    "# Chapter 7: Discrete Time Discrete State Dynamic Models\n",
    "\n",
    "In every period $t$, and agent observes the state of an economic process $s_t$, takes an action $x_t$, and earns reward $f(x_t,s_t)$. Action space: $X$\n",
    "\n",
    "State space: $S$ follows a controlled Markov probability law: \n",
    "\n",
    "$$\n",
    "Pr(s_{t+1} = s'|x_t = x, s_t = s) = P(s'|x,s)\n",
    "$$\n",
    "\n",
    "The agent seeks a policy $\\{x_t^*\\}_{t=1}^T$ where prescribes $x_t = x_t^*(s_t)$ be taken at each state in each time so to maximize utility:\n",
    "\n",
    "$$\n",
    "\\max_{\\{x_t^*\\}_{t=1}^T} E[\\sum_{t=0}^T \\delta^t f(x_t, s_t)]\n",
    "$$\n",
    "\n",
    "Dynamic programming: decompose multiperiod model to a sequence of two period model. Principle of Optimality (Richard Bellman):\n",
    "\n",
    ">An optimal policy has the property that, whatever the initial state and decision are, the remaining decisions must consistitute an optimal policy with regard to the state resulting from the first decision\n",
    "\n",
    "Bellman equation:\n",
    "\n",
    "$$\n",
    "V_t(s) = \\max_{x\\in X(s)} [f(x,s) + \\delta \\sum_{s'\\in S}P(s'|x,s)V_{t+1}(s')]\n",
    "$$\n",
    "\n",
    "If the decision problem has an infinite horizon, the value function will not depend on time $t$, and the Bellman equation will become the vector fixed point equation\n",
    "\n",
    "$$\n",
    "V(s) = \\max_{x\\in X(s)} [f(x,s) + \\delta \\sum_{s'\\in S}P(s'|x,s)V(s')]\n",
    "$$\n",
    "\n",
    "## Solution Algorithm\n",
    "\n",
    "States: $S = \\{1,2,\\cdots n\\}$. Actions: $X = \\{1,2,\\cdots n\\}$. Let $v\\in R^n$ be an arbitrary value vector. $v_i \\in R = \\text{value in state }i$. Let $x\\in X^n$ denote an arbitrary policy vector, and $x_i \\in X = \\text{action in state }i$\n",
    "\n",
    "For each policy $x\\in X^n$, let $f(x)$ denote the n-vector reward $f_i(x) = \\text{reward when }x_i \\text{ taken at state }i$. $P_{ij}(x) = \\text{probability of jump from state }i\\text{ to }j\\text{, given }x_i\\text{ is taken}$\n",
    "\n",
    "In recursive vector equation,\n",
    "$$\n",
    "v_t = \\max_{x} [f(x) + \\delta P(x)v_{t+1}]\n",
    "$$\n",
    "\n",
    "### Algorithm: Backward Induction (finite horizon)\n",
    "\n",
    "0. Initialization: Specify reward $f$, transition probability $P$, discount factor $\\delta$, terminal period $T$, and end value $v_{T+1}$\n",
    "1. Recursive step: given $v_{t+1}$, compute $v_t$ and $x_t$:\n",
    "$$\n",
    "\\begin{aligned}\n",
    "v_t &\\leftarrow \\max_{x}[f(x) + \\delta P(x)v_{t+1}] \\\\\n",
    "x_t &\\leftarrow \\arg\\max_{x} [f(x) + \\delta P(x) v_{t+1}]\n",
    "\\end{aligned}\n",
    "$$\n",
    "\n",
    "### Algorithm: Function Iteration (infinite horizon)\n",
    "\n",
    "0. Specify $f, P, \\delta$ and initial guess of $v=v_0$\n",
    "1. Update value function \n",
    "$$v \\leftarrow \\max_x[f(x) + \\delta P(x) v]$$\n",
    "2. Terminates if $||\\Delta v||$ is small and set $$x \\leftarrow \\arg\\max_{x} [f(x) + \\delta P(x) v]$$\n",
    "\n",
    "### Algorithm: Policy Iteration (infinite horizon)\n",
    "\n",
    "0. Specify $f, P, \\delta$ and initial guess of $v=v_0$\n",
    "1. Update policy function \n",
    "$$x \\leftarrow \\arg\\max_x[f(x) + \\delta P(x) v]$$\n",
    "and updates value function\n",
    "$$\n",
    "v\\leftarrow (I - \\delta P(x))^{-1}f(x)\n",
    "$$\n",
    "2. Terminates if $||\\Delta v||$ is small\n",
    "\n",
    "## Examples\n",
    "\n",
    "### Mine Management\n",
    "\n",
    "Determine the optimal ore extraction schedule for a mine that will be shut down after $T$ years. Price: $p$ per ton. Cost of extracting $x$ tons: $c = x^2/(1+s)$, where $s$ is the amount remaining in the mine at the beginning of the year. Currently it has $\\bar{s}$ in mine. Assuming the amount of ore must be an integer. \n",
    "\n",
    "Intratemporal reward: $f(s,x) = px - x^2/(1+s)$. So bellman equation\n",
    "\n",
    "$$\n",
    "V_t(s) = \\max_{x = 0,1,\\cdots} [px-x^2/(1+s) + \\delta V_{t+1}(s-x)\n",
    "$$\n",
    "subject to $T_{T+1}(s) = 0$"
   ]
  },
  {
   "cell_type": "code",
   "execution_count": 101,
   "metadata": {},
   "outputs": [
    {
     "name": "stdout",
     "output_type": "stream",
     "text": [
      "\n"
     ]
    }
   ],
   "source": [
    " delta = 0.9; p = 1; sbar = 10; S = (0:sbar); %vector of states\n",
    " n = length(S); X = (0:sbar)'; %vector of actions\n",
    " m = length(X);\n",
    " \n",
    " f = zeros(n,m);\n",
    " for k = 1:m\n",
    "     f(:,k) = p*X(k) - (X(k)^2)./(1+S);\n",
    "     f(X(k)>S, k) = -inf;\n",
    "end\n",
    "g = zeros(n,m);\n",
    "for k = 1:m\n",
    "    j = max(0, S-X(k))+1;\n",
    "    g(:,k) = j;\n",
    "end\n"
   ]
  },
  {
   "cell_type": "code",
   "execution_count": 43,
   "metadata": {},
   "outputs": [
    {
     "name": "stdout",
     "output_type": "stream",
     "text": [
      "\n"
     ]
    }
   ],
   "source": [
    "model.reward = f;\n",
    "model.transfunc = g;\n",
    "model.discount = delta;\n",
    "model.horizon = 10;"
   ]
  },
  {
   "cell_type": "code",
   "execution_count": 44,
   "metadata": {},
   "outputs": [
    {
     "name": "stdout",
     "output_type": "stream",
     "text": [
      "Solve Bellman equation via backward recursion\n",
      "\n"
     ]
    }
   ],
   "source": [
    "\n",
    "[vi,xi, pstari] = ddpsolve(model);"
   ]
  },
  {
   "cell_type": "code",
   "execution_count": 37,
   "metadata": {},
   "outputs": [
    {
     "name": "stdout",
     "output_type": "stream",
     "text": [
      "\n"
     ]
    },
    {
     "data": {
      "image/png": "[encoded data removed]",
      "text/plain": [
       "<IPython.core.display.Image object>"
      ]
     },
     "metadata": {},
     "output_type": "display_data"
    }
   ],
   "source": [
    "figure(1); plot(S, X(xi));\n",
    "xlabel('Stock'); ylabel('Optimal Extraction');"
   ]
  },
  {
   "cell_type": "code",
   "execution_count": 45,
   "metadata": {},
   "outputs": [
    {
     "name": "stdout",
     "output_type": "stream",
     "text": [
      "\n"
     ]
    },
    {
     "data": {
      "image/png": "[encoded data removed]",
      "text/plain": [
       "<IPython.core.display.Image object>"
      ]
     },
     "metadata": {},
     "output_type": "display_data"
    }
   ],
   "source": [
    "s1 = length(S); nyrs = 10;\n",
    "sipath = ddpsimul(pstari, s1, nyrs, xi);\n",
    "figure(2)\n",
    "plot(0:nyrs, S(sipath))"
   ]
  },
  {
   "cell_type": "markdown",
   "metadata": {},
   "source": [
    "### Asset Replacement\n",
    "\n",
    "At the beginning of each year, a manufacturer must decide whether to continue operating with asset or replace it. Asset with $a$ years old gives $p(a)$ profit. It can be used up to $n$ years. The cost of new one is $c$. \n",
    "\n",
    "Infinite horizon deterministic model. State variable $a = \\{1,2,\\cdots n\\}$. Action variable $x = [(keep, replace), replace]$ ([$a <n$, $a = n$]). The state transitoin function $g(a,x) = a+1$ if $x = keep$, and $1$ if $x = replace$. Reward function $f(a,x) = p(a)$ if $x = keep$, and $f(a,x) = p(0) - c$ if replace. \n",
    "\n",
    "Value function\n",
    "$$\n",
    "V(a) = \\max_{x \\in X(a)} [f(a,x) + \\delta V(g(a,x))] = \\max [p(a) + \\delta V(a+1), p(0)-c + \\delta V(1)]\n",
    "$$\n",
    "\n",
    "### Option Pricing\n",
    "\n",
    "In Cox-Ross-Rubinstein binomial option pricing model, the price follows two-state discrete jump process. If stock is at price $p$ at time $t$, then in $t+1$ the price will be $pu$ with probability $q$ and $p/u$ with probability $1-q$, where $u = \\exp{\\sigma \\sqrt{\\Delta t}}, q = \\frac{1}{2} + \\frac{\\sqrt{\\Delta t}}{2\\sigma}(r - \\frac{1}{2}\\sigma^2), \\delta = \\exp{-r\\Delta t}$\n",
    "\n",
    "If current price is $p_0$ and strike price is $\\bar{p}$, expiration is $T$, the state space is $p \\in S = \\{p_0u^i|i = -N-1, -N, \\cdots N, N+1\\}$. The action space is $x = \\{keep, exercise\\}$, the transition probability is \n",
    "$$\n",
    "P(p'|x,p) = \\begin{cases}q \\text{  if }p' = pu. \\\\\n",
    "1-q \\text{  if }p' = p/u.\\\\\n",
    "0 \n",
    "\\end{cases}\n",
    "$$\n",
    "\n",
    "The reward function is \n",
    "$$\n",
    "f(x,p) = \\begin{cases}0 \\text{  if keep}. \\\\\n",
    "\\bar{p} - p \\text{  if exercise}.\\\\\n",
    "0 \n",
    "\\end{cases}\n",
    "$$\n",
    "\n",
    "Value function\n",
    "$$\n",
    "V_t(p) = \\max[\\bar{p} - p, \\delta (q V_{t+1}(pu) + (1-q) V_{t+1}(p/u))]\n",
    "$$"
   ]
  },
  {
   "cell_type": "code",
   "execution_count": 191,
   "metadata": {},
   "outputs": [
    {
     "name": "stdout",
     "output_type": "stream",
     "text": [
      "\n"
     ]
    }
   ],
   "source": [
    "clear all\n",
    "T = 0.5; sigma = 0.2; r = 0.05; strike = 2; p0 = 2; N = 100;\n",
    "tau = T/N; delta = exp(-r*tau); u = exp(sigma*sqrt(tau)); q = 0.5+tau^2*(r-(sigma^2)/2)/(2*sigma);\n",
    "p = p0*(u.^(-N:N));\n",
    "n = length(p);\n",
    "\n",
    "%probability\n",
    "%first column: reward for first option\n",
    "f = [(strike - p)' zeros(n,1)];\n",
    "\n",
    "%P is 2xnxn matrix. first nxn is transition matrix when first action is taken\n",
    "P = zeros(n,n);\n",
    "for i=1:n\n",
    " P(i, min(i+1,n),2) = q;\n",
    " P(i, max(i-1,1),2) = 1-q;\n",
    "end\n",
    "%P = sparse(P);\n",
    "P = permute(P, [3,1,2]);"
   ]
  },
  {
   "cell_type": "code",
   "execution_count": 192,
   "metadata": {},
   "outputs": [
    {
     "name": "stdout",
     "output_type": "stream",
     "text": [
      "\n"
     ]
    }
   ],
   "source": [
    "model.reward = f;\n",
    "model.transprob = P;\n",
    "model.discount = delta;\n",
    "moel.horizon=N+1;"
   ]
  },
  {
   "cell_type": "code",
   "execution_count": 197,
   "metadata": {},
   "outputs": [
    {
     "name": "stdout",
     "output_type": "stream",
     "text": [
      "Solve Bellman equation via Newton method\n",
      "    1    1.0e+01\n",
      "    2    1.4e-02\n",
      "    3    9.8e-03\n",
      "    4    8.4e-03\n",
      "    5    7.6e-03\n",
      "    6    7.1e-03\n",
      "    7    6.7e-03\n",
      "    8    6.3e-03\n",
      "Warning: Failure to converge in ddpsolve\n",
      "> In ddpsolve (line 106)\n",
      "\n"
     ]
    }
   ],
   "source": [
    "[v,x] = ddpsolve(model);"
   ]
  },
  {
   "cell_type": "code",
   "execution_count": 199,
   "metadata": {},
   "outputs": [
    {
     "name": "stdout",
     "output_type": "stream",
     "text": [
      "\n"
     ]
    },
    {
     "data": {
      "image/png": "[encoded data removed]",
      "text/plain": [
       "<IPython.core.display.Image object>"
      ]
     },
     "metadata": {},
     "output_type": "display_data"
    }
   ],
   "source": [
    "plot(p, v(:,1)); axis([0 strike*2 -inf inf])"
   ]
  },
  {
   "cell_type": "markdown",
   "metadata": {},
   "source": [
    "### Optimal Growth\n",
    "\n",
    "Each year $t$ begins with a predetermined amount of the good $s_t$, of which an amount $x_t$ is invested and the remainder is consumed. The social welfare derived from consumption is $u(s_t - x_t)$. The amount of good available in year $t+1$ is $s_{t+1} = \\gamma x_t + \\epsilon_{t+1}f(x_t)$, where $\\gamma = 1-\\delta$ is capital survival rate, $f$ is the aggregate production function, and $\\epsilon_{t+1}$ is a positive production shock with mean 1. what consumption-investment policy maximizes the sum of current and expected future welfare over an infinite horizon?\n",
    "\n",
    "State variable: $s_t \\in [0,\\infty)$\n",
    "\n",
    "Action variable: $x_t \\in [0, s_t]$\n",
    "\n",
    "State transition: $s_{t+1} = \\gamma x_t + \\epsilon_{t+1}f(x_t)$\n",
    "\n",
    "Bellman equation:\n",
    "$$\n",
    "V(s) = \\max_{0\\leq x\\leq s}[u(s-x) + \\delta EV(\\gamma x+ \\epsilon f(x)]\n",
    "$$\n",
    "\n",
    "# Chapter 8: Discrete Time Continuous State Dynamic Models\n",
    "\n",
    "1. Centralized decision making (option pricing, industry entry, asset replacement)\n",
    "2. Strategic gaming among a small number of participants (international trade, factory expansion, risk sharing)\n",
    "3. Partial and general equilibrium model of collective, decentralized economic behavior. \n",
    "\n",
    "## Model structure:\n",
    "In each period $t$, an agent observes the state of the economic process $s_t\\in S$, takes an action $x_t \\in X$, and earns a reward $f(s_t, x_t)$. The state of the economic process in period $t+1$ will depend on the state and action in period $t$ and an exogenous random shock $\\epsilon_{t+1}$ that is unknown in period $t$: $s_{t+1} = g(s_t, x_t, \\epsilon_{t+1})$. \n",
    "\n",
    "The agent seeks a policy of state-contingent actions $x_t^*:S\\rightarrow X, t=0,1,\\cdots T\\leq \\infty$, that maximizes $E_0\\sum_{t=0}^T \\delta^t f(s_t, x_t(s_t))$\n",
    "\n",
    "Bellman equation:\n",
    "$$\n",
    "V_t(s) = \\max_{x\\in X(s)}[f(s,x) + \\delta E_\\epsilon V_{t+1}(g(s,x,\\epsilon))]\n",
    "$$\n",
    "\n",
    "In infinite horizon, \n",
    "$$\n",
    "V(s) = \\max_{x\\in X(s)}[f(s,x) + \\delta E_\\epsilon V(g(s,x,\\epsilon))]\n",
    "$$\n",
    "\n",
    "## Continuous State Discrete Choice model (CSDC)\n",
    "\n",
    "Optimal stopping problem\n",
    "\n",
    "## Continuous State Continuous Choice Model (SCCC)\n",
    "\n",
    "Markov decison models with continuous state and action spaces are special because their solutions can often be characterized by \"first-order\" equilibrium conditions. \n",
    "\n",
    "The equilibrium condition involve the derivative of the value function $\\lambda(s) \\equiv V'(s)$. We call $\\lambda$ the shadow price function, which represents the marginal value of the state variable to the optimizer, or the price that the optimizer imputes to the state variable. \n",
    "\n",
    "The equilibrium condition is derived by applying KKT and Envelope Theorems to the optimization problem embedded in Bellman equation. \n",
    "\n",
    "Unconstrained KKT: \n",
    "$$\n",
    "f_x(s,x) + \\delta E_\\epsilon [V'(g(s,x,\\epsilon))g_x(s,x,\\epsilon)] = f_x(s,x) + \\delta E_\\epsilon [\\lambda(g(s,x,\\epsilon))g_x(s,x,\\epsilon)] = 0\n",
    "$$\n",
    "Envelope Theorem: \n",
    "$$\n",
    "f_s(s,x) + \\delta E_\\epsilon [\\lambda (g(s,x,\\epsilon))g_s(s,x,\\epsilon)] = \\lambda(s)\n",
    "$$\n",
    "\n",
    "If the state transition only depends on the action of the agent, then $g_s = 0$, and we can substitute the expression derived using the Envelope theorem into the KKT and eliminate $\\lambda$:\n",
    "\n",
    "$$\n",
    "f_x(s,x(s)) + \\delta E_\\epsilon [f_s(g(s,x(s),\\epsilon),x(g(s,x(s),\\epsilon)))g_x(s,x(s), \\epsilon)] = 0\n",
    "$$\n",
    "which is called the Euler equation\n",
    "\n",
    "## Linear-Quadratic Control\n",
    "\n",
    "LQ control problem is an unconstrained Markov decision model with a quadratic reward function\n",
    "$$\n",
    "f(s,x) = F_0 + F_s s+F_x x + \\frac{1}{2}s^T F_{ss} s + s^T F_{sx}x + \\frac{1}{2}x^TF_{xx}x\n",
    "$$\n",
    "and a linear state transition function\n",
    "$$\n",
    "g(s,x,\\epsilon) = G_0 + G_s s + G_x x + \\epsilon\n",
    "$$\n",
    "\n",
    "It is a continuous state Markov decision model with a finite-dimensional solution. The optimal policy and shadow price functions for the infinite horizon linear-quadratic control moel are both linear in state variable:\n",
    "\n",
    "$$\n",
    "x(s) = \\Gamma_0 + \\Gamma_s s\n",
    "$$\n",
    "$$\n",
    "\\lambda(s) = \\Lambda_0 + \\Lambda_s s\n",
    "$$\n",
    "\n",
    "## Dynamic Games\n",
    "\n",
    "Discrete time continuous state Markov $m$-agent game: in each period, each agent $i$ observes the stte of an economic process $s\\in S$, takes an action $x_i \\in X$, and earns a reward $f_i(s,x_i, x_{-i})$ that depends on what other people have done. The state of the economic process is a jointly controlled Markov process. \n",
    "\n",
    "Noncooperative Markov perfect equilibria (SPNE) with perfect information: $x_i^*: S\\rightarrow X, i = 1,2, \\cdots m$ such that $x_i^*$ maximizes \n",
    "\n",
    "$$\n",
    "E_0\\sum_{t=0}^T \\delta^t f_i(s_t, x_i(s_t), x_{-i}^*(s_t))\n",
    "$$\n",
    "\n",
    "The Markov perfect equilibrium for m agents is characterized by a set of m simultaneous Bellman equations:\n",
    "\n",
    "$$\n",
    "V_i(s) = \\max_{x\\in X_i(s)} [f_i(s,x,x_{-i}^*(s))+ \\delta E_\\epsilon V_i(g(s,x,x_{-i}^*(s), \\epsilon))]\n",
    "$$\n",
    "\n",
    "## Rational Expectation Model\n",
    "\n",
    "Equilibrium through the decentralized actions of individuals. Assumption: agents are rational, that their expectations are consistent with the implications of the model as whole. \n",
    "\n",
    "At beginning of period $t$, an economic system emerges in a state $s_t$. Agents observe the state of the system and produce a systematic response $x_t$ governed by an equilibrium condition that depends on the expectations of the following period's state and action, i.e. satisfies $f(s_t, x_t, E_t h(s_{t+1}, x_{t+1})) = 0$ where $f$ is equilibrium condition. State transition: $s_{t+1}  g(s_t, x_t, \\epsilon_{t+1})$. \n",
    "\n",
    "The response functoin $x(s)$ is characterized implicitly as the solution to a functional equaiton \n",
    "$$\n",
    "f(s, x(s), E[h(g(s,x(s),\\epsilon), x(g(s,x(s),\\epsilon)))]) = 0\n",
    "$$"
   ]
  },
  {
   "cell_type": "markdown",
   "metadata": {},
   "source": [
    "## Examples \n",
    "\n",
    "### Asset Replacement (CSDC)\n",
    "In each period the producer must decide if to replace an asset. In the asset's $a^{th}$ period it generates $q(a)$ up to period $\\bar{a}$. The price is $p$ and the cost $K$ for new asset is an exogenous continuous-valued Markov process $K_{t+1} = g(K_t, \\epsilon_{t+1})$. State variable: $s = K\\times a \\in (0,\\infty)\\times [0,1, \\cdots \\bar{a}]$. Control variable: $keep$ or $replace$. \n",
    "\n",
    "Reward: $f(s,a,x) = \\begin{cases} pq(0) - K \\text{  if x = 1} \\\\ pq(a) \\text{  if x = 0}\\end{cases}$\n",
    "\n",
    "Bellman equation:\n",
    "$$\n",
    "V(p,a) = \\max[pq(a) + \\delta EV(g(p,\\epsilon), a+1), pq(0)-K + \\delta EV(g(p,\\epsilon),1)]\n",
    "$$\n",
    "\n",
    "Assume $q(a) = 100-5a-0.5a^2$, and $\\bar{a} = 10$. Output price $p = 2$. Replacement cost $k_{t+1} = \\bar{k} + \\gamma(k_t - \\bar{k}) + \\epsilon_{t+1}$ where $\\epsilon_t\\sim N(0,\\sigma^2)$."
   ]
  },
  {
   "cell_type": "code",
   "execution_count": 2,
   "metadata": {},
   "outputs": [
    {
     "name": "stdout",
     "output_type": "stream",
     "text": [
      "Created file 'C:\\Users\\barry\\Documents\\Academics\\Quantecon-Notes\\functions\\asset_replace.m'.\n"
     ]
    }
   ],
   "source": [
    "%%file functions\\asset_replace.m\n",
    "\n",
    "function out = asset_replace(flag, s, x, e, price, kbar, gamma, abar);\n",
    "k = s(:,1); a = s(:,2);\n",
    "switch flag\n",
    "case 'f';\n",
    " out = price*(50-2.5*a-2.5*a.^2).*(1-x) + (price*50 - k).*x;\n",
    " out(a==abar & x==0)=-inf;\n",
    "\n",
    "case 'g';\n",
    " out(:,1) = kbar + gamma*(k - kbar) + e;\n",
    " out(:,2) = min(a+1, 10).*(1-x)+x;\n",
    "end"
   ]
  },
  {
   "cell_type": "code",
   "execution_count": null,
   "metadata": {},
   "outputs": [],
   "source": [
    "delta = 0.9; price = 2; kbar = 100; gamma = 0.5; sigma = 15; abar = 6;\n",
    "\n",
    "%discreteize shock: five node gaussian quadrature scheme\n",
    "m = 5;\n",
    "[e,w] = qnwnorm(m,0, sigma^2);\n",
    "\n",
    "%specify basis functions and collocation nodes:\n",
    "n = 100;\n",
    "kmin = 30;\n",
    "kmax = 190;\n",
    "fspace = fundefn('spli', n, kmin, kmax, [],[1:10]');\n",
    "snodes = funnode(fspace);\n",
    "s = gridmake(snodes);\n",
    "\n",
    "%construct action space\n",
    "x = [0;1];\n",
    "\n",
    "%pack model structure:\n",
    "model.func = 'asset_replace';\n",
    "model.discount = delta;\n",
    "model.e = e;\n",
    "model.w = w;\n",
    "model.actions = x;\n",
    "model.discretestates = 2;\n",
    "model.params = {price kbar gamma abar};\n",
    "\n",
    "%initial guess for value\n",
    "vinit = zeros(size(s,1),1);\n",
    "\n",
    "%solve model\n",
    "[c,scoord,v,x,resid] = dpsolve(model, fspace, s);"
   ]
  },
  {
   "cell_type": "code",
   "execution_count": null,
   "metadata": {},
   "outputs": [],
   "source": []
  },
  {
   "cell_type": "code",
   "execution_count": null,
   "metadata": {},
   "outputs": [],
   "source": []
  },
  {
   "cell_type": "code",
   "execution_count": null,
   "metadata": {},
   "outputs": [],
   "source": []
  },
  {
   "cell_type": "code",
   "execution_count": null,
   "metadata": {},
   "outputs": [],
   "source": []
  },
  {
   "cell_type": "code",
   "execution_count": null,
   "metadata": {},
   "outputs": [],
   "source": []
  },
  {
   "cell_type": "code",
   "execution_count": null,
   "metadata": {},
   "outputs": [],
   "source": []
  },
  {
   "cell_type": "code",
   "execution_count": null,
   "metadata": {},
   "outputs": [],
   "source": []
  },
  {
   "cell_type": "code",
   "execution_count": null,
   "metadata": {},
   "outputs": [],
   "source": []
  },
  {
   "cell_type": "code",
   "execution_count": null,
   "metadata": {},
   "outputs": [],
   "source": []
  },
  {
   "cell_type": "code",
   "execution_count": null,
   "metadata": {},
   "outputs": [],
   "source": []
  },
  {
   "cell_type": "code",
   "execution_count": null,
   "metadata": {},
   "outputs": [],
   "source": []
  }
 ],
 "metadata": {
  "kernelspec": {
   "display_name": "Matlab",
   "language": "matlab",
   "name": "matlab"
  },
  "language_info": {
   "codemirror_mode": "octave",
   "file_extension": ".m",
   "help_links": [
    {
     "text": "MetaKernel Magics",
     "url": "https://metakernel.readthedocs.io/en/latest/source/README.html"
    }
   ],
   "mimetype": "text/x-octave",
   "name": "matlab",
   "version": "0.16.7"
  }
 },
 "nbformat": 4,
 "nbformat_minor": 2
}
