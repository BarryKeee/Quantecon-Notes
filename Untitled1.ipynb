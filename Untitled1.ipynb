{
 "cells": [
  {
   "cell_type": "markdown",
   "metadata": {},
   "source": [
    "## Neoclassical growth model\n",
    "\n",
    "Consider the neoclassical growth model with leisure\n",
    "\n",
    "$$\n",
    "\\max_{c_t,l_t}E_0\\sum_{t=1}^\\infty \\beta^{t-1}\\frac{(c_t^\\theta(1-l_t)^{1-\\theta})^{1-\\tau}}{1-\\tau}\n",
    "$$\n",
    "subject to the resource constraint\n",
    "$$\n",
    "c_t + i_t = e^{z_t}k_t^\\alpha l_t^{1-\\alpha}\n",
    "$$\n",
    "the law of motion for capital\n",
    "$$\n",
    "k_{t+1} = i_t + (1-\\delta)k_t\n",
    "$$\n",
    "and the stochastic process for productivity\n",
    "$$\n",
    "z_t = \\rho z_{t-1}+\\epsilon_t\n",
    "$$\n",
    "where $epsilon_t \\sim N(0,\\sigma^2)$"
   ]
  }
 ],
 "metadata": {
  "kernelspec": {
   "display_name": "Matlab",
   "language": "matlab",
   "name": "matlab"
  },
  "language_info": {
   "codemirror_mode": "octave",
   "file_extension": ".m",
   "help_links": [
    {
     "text": "MetaKernel Magics",
     "url": "https://metakernel.readthedocs.io/en/latest/source/README.html"
    }
   ],
   "mimetype": "text/x-octave",
   "name": "matlab",
   "version": "0.16.7"
  },
  "latex_envs": {
   "LaTeX_envs_menu_present": true,
   "autoclose": false,
   "autocomplete": true,
   "bibliofile": "biblio.bib",
   "cite_by": "apalike",
   "current_citInitial": 1,
   "eqLabelWithNumbers": true,
   "eqNumInitial": 1,
   "hotkeys": {
    "equation": "Ctrl-E",
    "itemize": "Ctrl-I"
   },
   "labels_anchors": false,
   "latex_user_defs": false,
   "report_style_numbering": false,
   "user_envs_cfg": false
  }
 },
 "nbformat": 4,
 "nbformat_minor": 2
}
