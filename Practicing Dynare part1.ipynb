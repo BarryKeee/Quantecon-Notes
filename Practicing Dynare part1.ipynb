{
 "cells": [
  {
   "cell_type": "markdown",
   "metadata": {},
   "source": [
    "# Practicing Dynare\n",
    "\n",
    "This notebook replicates the examples in *Practicing Dynare* by Barillas, Bhandari, Colacito, Kitao, Matthes, Sargent, and Shin. "
   ]
  },
  {
   "cell_type": "code",
   "execution_count": 4,
   "metadata": {
    "ExecuteTime": {
     "end_time": "2019-09-23T00:28:53.089590Z",
     "start_time": "2019-09-23T00:28:52.996838Z"
    }
   },
   "outputs": [
    {
     "name": "stdout",
     "output_type": "stream",
     "text": [
      "\n"
     ]
    }
   ],
   "source": [
    "addpath('C:\\dynare\\4.5.7\\matlab')\n",
    "base_path = 'C:\\Users\\barry\\Documents\\Academics\\Quantecon-Notes';\n",
    "cd 'C:\\Users\\barry\\Documents\\Academics\\Quantecon-Notes\\Dynare_model'"
   ]
  },
  {
   "cell_type": "markdown",
   "metadata": {},
   "source": [
    "## Neoclassical Growth Model\n",
    "Cooley and Prescott 1995\n",
    "\n",
    "### Model\n",
    "\n",
    "A representative agent's problem is \n",
    "$$\n",
    "\\max_{c_t,l_t} E_0 \\sum_{t=1}^\\infty \\beta^{t-1} \\frac{c_t^\\theta (1-l_t)^{1-\\theta})^{1-\\tau}}{1-\\tau}\n",
    "$$\n",
    "\n",
    "subject to the resource constraint\n",
    "$$\n",
    "c_t + i_t = e^{z_t}k_t^\\alpha l_t^{1-\\alpha}\n",
    "$$\n",
    "the motion of capital\n",
    "$$\n",
    "k_{t+1} = i_t + (1-\\delta)k_t\n",
    "$$\n",
    "and stochastic process for productivity \n",
    "$$\n",
    "z_t = \\rho z_{t-1} + s\\epsilon_t\n",
    "$$\n",
    "where $\\epsilon_t \\sim N(0,\\sigma^2)$\n",
    "\n",
    "### Model solution\n",
    "From (2) and (3), we have $$k_{t+1} = e^{z_t}k_t^\\alpha l_t^{1-\\alpha} - c_t + (1-\\delta)k_t$$\n",
    "\n",
    "Lagrangian:\n",
    "$$\n",
    "L = \\max_{c_t, l_t} E_0\\sum_{t=1}^\\infty \\beta^{t-1} [\\frac{(c_t^\\theta (1-l_t)^{1-\\theta})^{1-\\tau}}{1-\\tau} - \\lambda (k_{t+1} - e^{z_t}k_t^\\alpha l_t^{1-\\alpha} - c_t + (1-\\delta)k_t)]\n",
    "$$"
   ]
  },
  {
   "cell_type": "markdown",
   "metadata": {},
   "source": [
    "Take derivatives with respect to $k_t$ we have Euler equation\n",
    "$$\n",
    "\\frac{(c_t^\\theta (1-l_t)^{1-\\theta})^{1-\\tau}}{c_t} = \\beta E_t[\\frac{(c_{t+1}^\\theta (1-l_{t+1})^{1-\\theta})^{1-\\tau}}{c_{t+1}} (1+\\alpha e^{z_t}k_t^{\\alpha-1}l_t^{\\alpha} - \\delta)]\n",
    "$$\n",
    "\n",
    "The optimality condition for labor supply is \n",
    "$$\n",
    "\\frac{1-\\theta}{\\theta} \\frac{c_t}{1-l_t} = (1-\\alpha)e^{z_t}k_t^\\alpha l_t^{-\\alpha}\n",
    "$$\n",
    "\n",
    "The equilibrium is characterized by (5), (7) and (8)"
   ]
  },
  {
   "cell_type": "markdown",
   "metadata": {},
   "source": [
    "### Calibration\n",
    "\n",
    "We use the following calibration\n",
    "\n",
    "|parameter|calibration|\n",
    "|---------|-----------|\n",
    "|$\\beta$|0.98|\n",
    "|$\\theta$|0.35|\n",
    "|$\\delta$|0.01|\n",
    "|$\\alpha$|0.4|\n",
    "|$\\tau$|2|\n",
    "|$\\rho$|0.95|\n",
    "|s|0.007|\n",
    "|$\\sigma$|1|\n",
    "\n",
    "### Model approximation"
   ]
  },
  {
   "cell_type": "code",
   "execution_count": 2,
   "metadata": {
    "ExecuteTime": {
     "end_time": "2019-09-23T00:27:44.612038Z",
     "start_time": "2019-09-23T00:27:44.597080Z"
    }
   },
   "outputs": [
    {
     "name": "stdout",
     "output_type": "stream",
     "text": [
      "Created file 'C:\\Users\\barry\\Documents\\Academics\\Quantecon-Notes\\Dynare_model\\NGM\\NGM_approx.mod'.\n"
     ]
    }
   ],
   "source": [
    "%%file Dynare_model\\NGM\\NGM_approx.mod\n",
    "\n",
    "periods = 1000;\n",
    "var c k l z;\n",
    "varexo e;\n",
    "\n",
    "parameters beta theta delta alpha tau rho s;\n",
    "\n",
    "beta = 0.98;\n",
    "theta = 0.35;\n",
    "delta = 0.01;\n",
    "alpha = 0.4;\n",
    "tau = 2;\n",
    "rho = 0.95;\n",
    "s = 0.007;\n",
    "\n",
    "model;\n",
    "(c^theta*(1-l)^(1-theta))^(1-tau)/c = beta*((c(+1)^theta*(1-l(+1))^(1-theta))^(1-tau)/c(+1))*(1+alpha*exp(z(-1))*k(-1)^(alpha-1)*l^(1-alpha)-delta);\n",
    "c = theta/(1-theta)*(1-alpha)*exp(z(-1))*k(-1)^alpha*l^(-alpha)*(1-l);\n",
    "k = exp(z(-1))*k(-1)^alpha*l^(1-alpha) - c + (1-delta)*k(-1);\n",
    "z = rho*z(-1)+s*e;\n",
    "end;\n",
    "\n",
    "initval;\n",
    "k = 1;\n",
    "c = 1;\n",
    "l = 0.3;\n",
    "z = 0;\n",
    "e = 0;\n",
    "end;\n",
    "\n",
    "shocks;\n",
    "var e;\n",
    "stderr 1;\n",
    "end;\n",
    "\n",
    "steady;\n",
    "\n",
    "stoch_simul(dr_algo = 0, periods = 1000); "
   ]
  },
  {
   "cell_type": "code",
   "execution_count": 5,
   "metadata": {
    "ExecuteTime": {
     "end_time": "2019-09-23T00:29:09.937296Z",
     "start_time": "2019-09-23T00:28:58.805881Z"
    },
    "scrolled": false
   },
   "outputs": [
    {
     "name": "stdout",
     "output_type": "stream",
     "text": [
      "\n",
      "Configuring Dynare ...\n",
      "[mex] Generalized QZ.\n",
      "[mex] Sylvester equation solution.\n",
      "[mex] Kronecker products.\n",
      "[mex] Sparse kronecker products.\n",
      "[mex] Local state space iteration (second order).\n",
      "[mex] Bytecode evaluation.\n",
      "[mex] k-order perturbation solver.\n",
      "[mex] k-order solution simulation.\n",
      "[mex] Quasi Monte-Carlo sequence (Sobol).\n",
      "[mex] Markov Switching SBVAR.\n",
      "\n",
      "Using 64-bit preprocessor\n",
      "Starting Dynare (version 4.5.7).\n",
      "Starting preprocessing of the model file ...\n",
      "WARNING: NGM_approx.mod:2.1-15: periods: this command is now deprecated and may be removed in a future version of Dynare. Please use the ''periods'' option of the ''simul'' command instead.\n",
      "WARNING: NGM_approx.mod:38.13-23: dr_algo option is now deprecated, and may be removed in a future version of Dynare\n",
      "Found 4 equation(s).\n",
      "Evaluating expressions...done\n",
      "Computing static model derivatives:\n",
      " - order 1\n",
      "Computing dynamic model derivatives:\n",
      " - order 1\n",
      " - order 2\n",
      "Processing outputs ...\n",
      "done\n",
      "Preprocessing completed.\n",
      "\n",
      "\n",
      "STEADY-STATE RESULTS:\n",
      "\n",
      "c \t\t 1.31218\n",
      "k \t\t 19.8754\n",
      "l \t\t 0.271144\n",
      "z \t\t 0\n",
      "\n",
      "MODEL SUMMARY\n",
      "\n",
      "  Number of variables:         4\n",
      "  Number of stochastic shocks: 1\n",
      "  Number of state variables:   2\n",
      "  Number of jumpers:           2\n",
      "  Number of static variables:  0\n",
      "\n",
      "\n",
      "MATRIX OF COVARIANCE OF EXOGENOUS SHOCKS\n",
      "Variables           e\n",
      "e            1.000000\n",
      "\n",
      "POLICY AND TRANSITION FUNCTIONS\n",
      "                                   c               k               l               z\n",
      "Constant                    1.312177       19.875419        0.271145               0\n",
      "(correction)               -0.000006        0.000012        0.000002               0\n",
      "k(-1)                       0.037303        0.973355       -0.002916               0\n",
      "z(-1)                       0.589562        1.568055        0.193416        0.950000\n",
      "e                           0.002289       -0.004337       -0.000613        0.007000\n",
      "k(-1),k(-1)                -0.000342       -0.000130        0.000061               0\n",
      "z(-1),k(-1)                 0.011039        0.028178        0.000826               0\n",
      "z(-1),z(-1)                 0.230790        1.069247       -0.002947               0\n",
      "e,e                         0.000005       -0.000009               0               0\n",
      "k(-1),e                     0.000040       -0.000060        0.000009               0\n",
      "z(-1),e                     0.001545       -0.003967       -0.000286               0\n",
      "\n",
      "\n",
      "MOMENTS OF SIMULATED VARIABLES\n",
      "VARIABLE              MEAN       STD. DEV.        VARIANCE        SKEWNESS        KURTOSIS\n",
      "c                 1.291058        0.034110        0.001163        0.283783        0.313329\n",
      "k                19.436421        0.678484        0.460341        0.239463        0.182051\n",
      "l                 0.270979        0.003653        0.000013       -0.254001        0.139136\n",
      "z                -0.007843        0.022039        0.000486        0.170511        0.259799\n",
      "\n",
      "\n",
      "CORRELATION OF SIMULATED VARIABLES\n",
      "VARIABLE         c       k       l       z\n",
      "c           1.0000  0.9576  0.3701  0.7543\n",
      "k           0.9576  1.0000  0.1132  0.5362\n",
      "l           0.3701  0.1132  1.0000  0.7771\n",
      "z           0.7543  0.5362  0.7771  1.0000\n",
      "\n",
      "\n",
      "AUTOCORRELATION OF SIMULATED VARIABLES\n",
      "VARIABLE         1       2       3       4       5\n",
      "c           0.9954  0.9878  0.9789  0.9693  0.9592\n",
      "k           0.9980  0.9955  0.9916  0.9863  0.9797\n",
      "l           0.8455  0.7789  0.7046  0.6464  0.5951\n",
      "z           0.9496  0.8989  0.8467  0.8006  0.7597\n",
      "Total computing time : 0h00m08s\n",
      "Note: 2 warning(s) encountered in the preprocessor\n",
      "\n"
     ]
    },
    {
     "data": {
      "image/png": "[encoded data removed]",
      "text/plain": [
       "<IPython.core.display.Image object>"
      ]
     },
     "metadata": {},
     "output_type": "display_data"
    }
   ],
   "source": [
    "cd 'NGM'\n",
    "dynare NGM_approx"
   ]
  },
  {
   "cell_type": "markdown",
   "metadata": {},
   "source": [
    "## International Business Cycle Model\n",
    "Kim and Kim (2003)\n",
    "\n",
    "### Model\n",
    "Two countries are identical ex-ante and markets are complete. A solution to a Pareto planner's problem is characterized by the following equations\n",
    "\n",
    "$$\n",
    "C_{1,t} = C_{2,t}\n",
    "$$\n",
    "\n",
    "$$\n",
    "C_{1,t}^{-\\gamma} = \\beta E_t C_{1,t+1}^{-\\gamma} (\\alpha A_{1,t+1} K_{1,t+1}^{\\alpha-1} +1-\\delta)\n",
    "$$\n",
    "\n",
    "$$\n",
    "C_{2,t}^{-\\gamma} = \\beta E_t C_{2,t+1}^{-\\gamma} (\\alpha A_{2,t+1} K_{2,t+1}^{\\alpha-1} +1-\\delta)\n",
    "$$\n",
    "$$\n",
    "A_{1,t}K_{1,t}^\\alpha + A_{2,t}K_{2,t}^\\alpha = C_{1,t}+ C_{2,t} + K_{1,t+1} - (1-\\delta)K_{1,t} + K_{2,t+1} - (1-\\delta)K_{2,t}\n",
    "$$\n",
    "$$\n",
    "\\ln{A_{1,t+1}} = \\rho \\ln{A_{1,t}} + \\epsilon_{1,t+1}\n",
    "$$\n",
    "\n",
    "$$\n",
    "\\ln{A_{2,t+1}} = \\rho \\ln{A_{2,t}} + \\epsilon_{2,t+1}\n",
    "$$\n",
    "\n",
    "The first three equations are the first-order conditions with regards to the consumption and the fourth one is the world resource constraint. The last two describe the law of motion for the technological shock.\n",
    "\n",
    "### Calibration\n",
    "We use the following calibration\n",
    "\n",
    "|Parameter|Calibration|\n",
    "|---------|-----------|\n",
    "|$\\beta$| 0.98|\n",
    "|$\\delta$|0.005|\n",
    "|$\\alpha$|0.4|\n",
    "|$\\rho$|0.85|\n",
    "|$\\sigma_1$|0.08|\n",
    "|$\\sigma_2$|0.08|\n",
    "\n",
    "Dynare computes the policy function as a second-order approximation around the (log) steady-state"
   ]
  },
  {
   "cell_type": "code",
   "execution_count": 53,
   "metadata": {
    "ExecuteTime": {
     "end_time": "2019-08-18T19:08:32.222715Z",
     "start_time": "2019-08-18T19:08:32.190804Z"
    }
   },
   "outputs": [
    {
     "name": "stdout",
     "output_type": "stream",
     "text": [
      "\n"
     ]
    }
   ],
   "source": [
    "cd 'C:\\Users\\barry\\Documents\\Academics\\Quantecon-Notes'"
   ]
  },
  {
   "cell_type": "code",
   "execution_count": 54,
   "metadata": {
    "ExecuteTime": {
     "end_time": "2019-08-18T19:08:37.616456Z",
     "start_time": "2019-08-18T19:08:37.606482Z"
    }
   },
   "outputs": [
    {
     "name": "stdout",
     "output_type": "stream",
     "text": [
      "Created file 'C:\\Users\\barry\\Documents\\Academics\\Quantecon-Notes\\Dynare_model\\International_BC\\International_BC_approx.mod'.\n"
     ]
    }
   ],
   "source": [
    "%%file International_BC\\International_BC_approx.mod\n",
    "periods 1000;\n",
    "var c1 c2 k1 k2 a1 a2;\n",
    "varexo e1 e2;\n",
    "\n",
    "parameters gamma delta alpha beta rho;\n",
    "\n",
    "gamma = 2;\n",
    "delta = 0.05;\n",
    "alpha = 0.4;\n",
    "beta = 0.98;\n",
    "rho = 0.85;\n",
    "\n",
    "model;\n",
    "c1 = c2;\n",
    "exp(c1)^(-gamma) = beta*exp(c1(+1))^(-gamma)*(alpha*exp(a1(+1))*exp(k1)^(alpha-1)+1-delta);\n",
    "exp(c2)^(-gamma) = beta*exp(c2(+1))^(-gamma)*(alpha*exp(a2(+1))*exp(k2)^(alpha-1)+1-delta);\n",
    "exp(c1) + exp(c2)+exp(k1) - exp(k1(-1))*(1-delta) + exp(k2) - exp(k2(-1))*(1-delta)=exp(a1)*exp(k1(-1))^alpha + exp(a2)*exp(k2(-1))^alpha;\n",
    "a1 = rho*a1(-1)+e1;\n",
    "a2 = rho*a2(-1)+e2;\n",
    "end;\n",
    "\n",
    "initval;\n",
    "k1 = 2.8;\n",
    "k2 = 2.8;\n",
    "c1 = 0.8;\n",
    "c2 = 0.8;\n",
    "a1 = 0;\n",
    "a2 = 0;\n",
    "e1 = 0;\n",
    "e2 = 0;\n",
    "end;\n",
    "\n",
    "shocks;\n",
    "var e1;\n",
    "stderr 0.08;\n",
    "var e2;\n",
    "stderr 0.08;\n",
    "end;\n",
    "\n",
    "steady;\n",
    "\n",
    "stoch_simul(periods = 1000);"
   ]
  },
  {
   "cell_type": "code",
   "execution_count": 55,
   "metadata": {
    "ExecuteTime": {
     "end_time": "2019-08-18T19:08:47.763415Z",
     "start_time": "2019-08-18T19:08:47.735489Z"
    }
   },
   "outputs": [
    {
     "name": "stdout",
     "output_type": "stream",
     "text": [
      "\n"
     ]
    }
   ],
   "source": [
    "cd 'Dynare_model'\n",
    "cd 'International_BC'"
   ]
  },
  {
   "cell_type": "code",
   "execution_count": 57,
   "metadata": {
    "ExecuteTime": {
     "end_time": "2019-08-18T19:09:07.656185Z",
     "start_time": "2019-08-18T19:09:02.262047Z"
    }
   },
   "outputs": [
    {
     "name": "stdout",
     "output_type": "stream",
     "text": [
      "\n",
      "Configuring Dynare ...\n",
      "[mex] Generalized QZ.\n",
      "[mex] Sylvester equation solution.\n",
      "[mex] Kronecker products.\n",
      "[mex] Sparse kronecker products.\n",
      "[mex] Local state space iteration (second order).\n",
      "[mex] Bytecode evaluation.\n",
      "[mex] k-order perturbation solver.\n",
      "[mex] k-order solution simulation.\n",
      "[mex] Quasi Monte-Carlo sequence (Sobol).\n",
      "[mex] Markov Switching SBVAR.\n",
      "\n",
      "Using 64-bit preprocessor\n",
      "Starting Dynare (version 4.5.7).\n",
      "Starting preprocessing of the model file ...\n",
      "WARNING: International_BC_approx.mod:1.1-13: periods: this command is now deprecated and may be removed in a future version of Dynare. Please use the ''periods'' option of the ''simul'' command instead.\n",
      "Found 6 equation(s).\n",
      "Evaluating expressions...done\n",
      "Computing static model derivatives:\n",
      " - order 1\n",
      "Computing dynamic model derivatives:\n",
      " - order 1\n",
      " - order 2\n",
      "Processing outputs ...\n",
      "done\n",
      "Preprocessing completed.\n",
      "\n",
      "\n",
      "STEADY-STATE RESULTS:\n",
      "\n",
      "c1 \t\t 0.823947\n",
      "c2 \t\t 0.823947\n",
      "k1 \t\t 2.89526\n",
      "k2 \t\t 2.89526\n",
      "a1 \t\t 0\n",
      "a2 \t\t 0\n",
      "\n",
      "MODEL SUMMARY\n",
      "\n",
      "  Number of variables:         6\n",
      "  Number of stochastic shocks: 2\n",
      "  Number of state variables:   4\n",
      "  Number of jumpers:           4\n",
      "  Number of static variables:  0\n",
      "\n",
      "\n",
      "MATRIX OF COVARIANCE OF EXOGENOUS SHOCKS\n",
      "Variables          e1        e2\n",
      "e1           0.006400  0.000000\n",
      "e2           0.000000  0.006400\n",
      "\n",
      "POLICY AND TRANSITION FUNCTIONS\n",
      "                                  c1              c2              k1              k2              a1              a2\n",
      "Constant                    0.828143        0.828143        2.894730        2.894730               0               0\n",
      "(correction)                0.004196        0.004196       -0.000529       -0.000529               0               0\n",
      "k1(-1)                      0.243036        0.243036        0.479577        0.479577               0               0\n",
      "k2(-1)                      0.243036        0.243036        0.479577        0.479577               0               0\n",
      "a1(-1)                      0.118991        0.118991        0.661897       -0.542270        0.850000               0\n",
      "a2(-1)                      0.118991        0.118991       -0.542270        0.661897               0        0.850000\n",
      "e1                          0.139989        0.139989        0.778702       -0.637965        1.000000               0\n",
      "e2                          0.139989        0.139989       -0.637965        0.778702               0        1.000000\n",
      "k1(-1),k1(-1)               0.061511        0.061511        0.118070        0.118070               0               0\n",
      "k2(-1),k1(-1)              -0.109951       -0.109951       -0.223581       -0.223581               0               0\n",
      "k2(-1),k2(-1)               0.061511        0.061511        0.118070        0.118070               0               0\n",
      "a1(-1),k1(-1)              -0.013166       -0.013166       -0.000747       -0.000747               0               0\n",
      "a1(-1),k2(-1)              -0.027420       -0.027420       -0.028874       -0.028874               0               0\n",
      "a1(-1),a1(-1)               0.032025        0.032025       -0.156175       -0.156175               0               0\n",
      "a2(-1),k1(-1)              -0.027420       -0.027420       -0.028874       -0.028874               0               0\n",
      "a2(-1),k2(-1)              -0.013166       -0.013166       -0.000747       -0.000747               0               0\n",
      "a2(-1),a1(-1)              -0.029124       -0.029124        0.360813        0.360813               0               0\n",
      "a2(-1),a2(-1)               0.032025        0.032025       -0.156175       -0.156175               0               0\n",
      "e1,e1                       0.044325        0.044325       -0.216160       -0.216160               0               0\n",
      "e2,e1                      -0.040310       -0.040310        0.499395        0.499395               0               0\n",
      "e2,e2                       0.044325        0.044325       -0.216160       -0.216160               0               0\n",
      "k1(-1),e1                  -0.015489       -0.015489       -0.000879       -0.000879               0               0\n",
      "k1(-1),e2                  -0.032259       -0.032259       -0.033969       -0.033969               0               0\n",
      "k2(-1),e1                  -0.032259       -0.032259       -0.033969       -0.033969               0               0\n",
      "k2(-1),e2                  -0.015489       -0.015489       -0.000879       -0.000879               0               0\n",
      "a1(-1),e1                   0.075353        0.075353       -0.367471       -0.367471               0               0\n",
      "a1(-1),e2                  -0.034263       -0.034263        0.424485        0.424485               0               0\n",
      "a2(-1),e1                  -0.034263       -0.034263        0.424485        0.424485               0               0\n",
      "a2(-1),e2                   0.075353        0.075353       -0.367471       -0.367471               0               0\n",
      "\n",
      "\n",
      "MOMENTS OF SIMULATED VARIABLES\n",
      "VARIABLE              MEAN       STD. DEV.        VARIANCE        SKEWNESS        KURTOSIS\n",
      "c1                0.839663        0.112373        0.012628        0.383347        0.667008\n",
      "c2                0.839663        0.112373        0.012628        0.383347        0.667008\n",
      "k1                2.937649        0.235513        0.055467        0.036596       -0.164785\n",
      "k2                2.875717        0.238655        0.056956        0.147170        0.289925\n",
      "a1                0.021386        0.149715        0.022415        0.041882       -0.072424\n",
      "a2               -0.022331        0.151984        0.023099       -0.164757       -0.020458\n",
      "\n",
      "\n",
      "CORRELATION OF SIMULATED VARIABLES\n",
      "VARIABLE        c1      c2      k1      k2      a1      a2\n",
      "c1          1.0000  1.0000  0.8168  0.7967  0.5239  0.5057\n",
      "c2          1.0000  1.0000  0.8168  0.7967  0.5239  0.5057\n",
      "k1          0.8168  0.8168  1.0000  0.3535  0.6837 -0.0285\n",
      "k2          0.7967  0.7967  0.3535  1.0000 -0.0297  0.6925\n",
      "a1          0.5239  0.5239  0.6837 -0.0297  1.0000  0.2043\n",
      "a2          0.5057  0.5057 -0.0285  0.6925  0.2043  1.0000\n",
      "\n",
      "\n",
      "AUTOCORRELATION OF SIMULATED VARIABLES\n",
      "VARIABLE         1       2       3       4       5\n",
      "c1          0.9881  0.9737  0.9581  0.9403  0.9204\n",
      "c2          0.9881  0.9737  0.9581  0.9403  0.9204\n",
      "k1          0.9421  0.8884  0.8464  0.8018  0.7636\n",
      "k2          0.9373  0.8794  0.8333  0.7861  0.7451\n",
      "a1          0.8436  0.6978  0.5853  0.4866  0.4010\n",
      "a2          0.8580  0.7361  0.6519  0.5670  0.4883\n",
      "\n",
      "\n",
      "\n",
      "VARIANCE DECOMPOSITION SIMULATING ONE SHOCK AT A TIME (in percent)\n",
      "                    e1                e2  Tot. lin. contr.\n",
      "c1               38.20             34.55             72.74\n",
      "c2               38.20             34.55             72.74\n",
      "k1               66.67             22.49             89.16\n",
      "k2               24.10             64.11             88.21\n",
      "a1              100.11              0.00            100.11\n",
      "a2                0.00            100.11            100.11\n",
      "Note: numbers do not add up to 100 due to i) non-zero correlation of simulated shocks in small samples and ii) nonlinearity\n",
      "\n",
      "Total computing time : 0h00m04s\n",
      "Note: 1 warning(s) encountered in the preprocessor\n",
      "\n"
     ]
    },
    {
     "data": {
      "image/png": "[encoded data removed]",
      "text/plain": [
       "<IPython.core.display.Image object>"
      ]
     },
     "metadata": {},
     "output_type": "display_data"
    },
    {
     "data": {
      "image/png": "[encoded data removed]",
      "text/plain": [
       "<IPython.core.display.Image object>"
      ]
     },
     "metadata": {},
     "output_type": "display_data"
    }
   ],
   "source": [
    "dynare International_BC_approx.mod"
   ]
  },
  {
   "cell_type": "markdown",
   "metadata": {},
   "source": [
    "## Fiscal policies in the growth model\n",
    "\n",
    "Ljungqvist and Sargent (2004)\n",
    "\n",
    "### The model\n",
    "\n",
    "A deterministic growth model with exogenous stream of government expenditure, and several kinds of distorting taxeds. \n",
    "\n",
    "A representative agent maximizes\n",
    "$$\n",
    "\\sum_{t=0}^\\infty \\beta^t \\frac{c_t^{1-\\gamma}}{1-\\gamma}\n",
    "$$\n",
    "\n",
    "Feasible allocation:\n",
    "$$\n",
    "g_t +c_t+k_t \\leq Ak_t^\\alpha + (1-\\delta)k_t\n",
    "$$\n",
    "Household budget constraint\n",
    "$$\n",
    "\\sum_{t=0}^\\infty [q_t(1+\\tau_{ct})+(1-\\tau_{it})q_t [k_{t+1} - (1-\\delta)k_t]]\\leq \\sum_{t=0}^\\infty [r_t(1-\\tau_{kt})k_t+w_t]\n",
    "$$\n",
    "and the government budget constraint\n",
    "$$\n",
    "\\sum_{t=0}^\\infty q_tg_t\\leq \\sum_{t=0}^\\infty [\\tau_{ct}q_tc_t-\\tau_{it}q_t[k_{t+1}-(1-\\delta)k_t]+r_t\\tau_{kt}kt+w_t]\n",
    "$$\n",
    "\n",
    "The equilibrium is characterized as\n",
    "$$c_t = Ak_t^\\alpha + (1-\\delta)k_t-k_{t+1}-g_t\n",
    "$$\n",
    "$$q_t = \\beta^tc_t^{-\\gamma}/(1+\\tau_{ct})\n",
    "$$\n",
    "$$r_t/q_t = A\\alpha k_t^{\\alpha-1}\n",
    "$$\n",
    "$$w_t/q_t = Ak_t^\\alpha - k_t A\\alpha k_t^{\\alpha-1}\n",
    "$$\n",
    "$$R_t = \\frac{1+\\tau_{ct}}{1+\\tau_{ct+1}}[\\frac{1+\\tau_{it+1}}{1+\\tau_{it}}(1-\\delta) + \\frac{1+\\tau_{kt+1}}{1+\\tau_{kt}}A\\alpha k_{t+1}^{\\alpha-1}]\n",
    "$$\n",
    "$$\n",
    "s_t/q_t = (1-\\tau_{kt})A\\alpha k_t^{\\alpha-1} + (1-\\delta)\n",
    "$$\n",
    "$$\n",
    "c_t^{-\\gamma} = \\beta c_{t+1}^{-\\gamma}R_{t+1}\n",
    "$$\n",
    "\n",
    "### Calibration\n",
    "We use the following calibration\n",
    "\n",
    "|Parameter|Calibration|\n",
    "|---------|-----------|\n",
    "|$\\beta$| 0.98|\n",
    "|$\\delta$|0.2|\n",
    "|$A$|1|\n",
    "|$\\alpha$|0.33|\n",
    "|$\\gamma$|2|\n",
    "|$g$|0.2|\n",
    "|$\\tau_c$|0|\n",
    "|$\\tau_i$|0|\n",
    "|$\\tau_k$|0|\n",
    "\n",
    "### Model solution"
   ]
  },
  {
   "cell_type": "code",
   "execution_count": 15,
   "metadata": {
    "ExecuteTime": {
     "end_time": "2019-09-25T01:59:24.581417Z",
     "start_time": "2019-09-25T01:59:24.556517Z"
    }
   },
   "outputs": [
    {
     "name": "stdout",
     "output_type": "stream",
     "text": [
      "\n"
     ]
    }
   ],
   "source": [
    "cd 'C:\\Users\\barry\\Documents\\Academics\\Quantecon-Notes'"
   ]
  },
  {
   "cell_type": "markdown",
   "metadata": {},
   "source": [
    "A permanent increase in g"
   ]
  },
  {
   "cell_type": "code",
   "execution_count": 23,
   "metadata": {
    "ExecuteTime": {
     "end_time": "2019-09-28T00:40:56.305765Z",
     "start_time": "2019-09-28T00:40:56.286843Z"
    }
   },
   "outputs": [
    {
     "name": "stdout",
     "output_type": "stream",
     "text": [
      "Created file 'C:\\Users\\barry\\Documents\\Academics\\Quantecon-Notes\\Dynare_model\\fiscal_policy_growth\\permanent_increase_g.mod'.\n"
     ]
    }
   ],
   "source": [
    "%%file Dynare_model\\fiscal_policy_growth\\permanent_increase_g.mod\n",
    "\n",
    "\n",
    "var c k;\n",
    "varexo taui tauc tauk g;\n",
    "parameters bet gam del alpha A;\n",
    "bet=.95; \n",
    "gam=2; \n",
    "del=.2; \n",
    "alpha=.33; \n",
    "A=1; \n",
    "\n",
    "\n",
    "model;\n",
    "k=A*k(-1)^alpha+(1-del)*k(-1)-c-g;\n",
    "c^(-gam)=bet*(c(+1)^(-gam))*((1+tauc(-1))/(1+tauc))*((1-taui)*(1-del)/(1-taui(-1))+((1-tauk)/(1-taui(-1)))*alpha*A*k(-1)^(alpha-1));\n",
    "end;\n",
    "\n",
    "initval; \n",
    "k=1.5; \n",
    "c=0.6; \n",
    "g = 0.2; \n",
    "tauc = 0; \n",
    "taui = 0; \n",
    "tauk = 0; \n",
    "end;\n",
    "steady; \n",
    "\n",
    "endval;\n",
    "k=1.5;\n",
    "c=0.4; \n",
    "g =0.4; \n",
    "tauc =0; \n",
    "taui =0; \n",
    "tauk =0; end;\n",
    "steady;\n",
    "\n",
    "shocks;\n",
    "var g; \n",
    "periods 1:9; \n",
    "values 0.2; \n",
    "end;\n",
    "\n",
    "simul(periods=100);\n",
    "\n",
    "co=ys0_(1);\n",
    "ko = ys0_(2);\n",
    "go = ex0_(1,1);\n",
    "\n",
    "rbig0=1/bet;\n",
    "rbig=c(2:101).^(-gam)./(bet*c(3:102).^(-gam));\n",
    "rq0=alpha*A*ko^(alpha-1);\n",
    "rq=alpha*A*k(1:100).^(alpha-1);\n",
    "wq0=A*ko^alpha-ko*alpha*A*ko^(alpha-1);\n",
    "wq=A*k(1:100).^alpha-k(1:100).*alpha*A.*k(1:100).^(alpha-1);\n",
    "//sq0=(1-ex_(1,4))*A*alpha*ko^(alpha-1)+(1-del);\n",
    "//sq=(1-ex_(1:100,4)')*A*alpha.*k(1:100).^(alpha-1)+(1-del);\n",
    "\n",
    "figure\n",
    "subplot(2,3,1)\n",
    "plot([ko*ones(100,1)  k(1:100) ])\n",
    "title('k')\n",
    "subplot(2,3,2)\n",
    "plot([co*ones(100,1)  c(2:101) ])\n",
    "title('c')\n",
    "subplot(2,3,3)\n",
    "plot([rbig0*ones(100,1) rbig ])\n",
    "title('R')\n",
    "subplot(2,3,4)\n",
    "plot([wq0*ones(100,1) wq ])\n",
    "title('w/q')\n",
    "//subplot(2,3,5)\n",
    "//plot([sq0*ones(100,1) sq ])\n",
    "//title('s/q')\n",
    "subplot(2,3,5)\n",
    "plot([rq0*ones(100,1) rq ])\n",
    "title('r/q')"
   ]
  },
  {
   "cell_type": "code",
   "execution_count": 24,
   "metadata": {
    "ExecuteTime": {
     "end_time": "2019-09-28T00:40:57.367382Z",
     "start_time": "2019-09-28T00:40:57.256653Z"
    }
   },
   "outputs": [
    {
     "name": "stdout",
     "output_type": "stream",
     "text": [
      "\n"
     ]
    }
   ],
   "source": [
    "cd 'C:\\Users\\barry\\Documents\\Academics\\Quantecon-Notes'\n",
    "cd 'Dynare_model'\n",
    "cd 'fiscal_policy_growth'"
   ]
  },
  {
   "cell_type": "code",
   "execution_count": 25,
   "metadata": {
    "ExecuteTime": {
     "end_time": "2019-09-28T00:41:01.391825Z",
     "start_time": "2019-09-28T00:40:59.029895Z"
    }
   },
   "outputs": [
    {
     "name": "stdout",
     "output_type": "stream",
     "text": [
      "\n",
      "Configuring Dynare ...\n",
      "[mex] Generalized QZ.\n",
      "[mex] Sylvester equation solution.\n",
      "[mex] Kronecker products.\n",
      "[mex] Sparse kronecker products.\n",
      "[mex] Local state space iteration (second order).\n",
      "[mex] Bytecode evaluation.\n",
      "[mex] k-order perturbation solver.\n",
      "[mex] k-order solution simulation.\n",
      "[mex] Quasi Monte-Carlo sequence (Sobol).\n",
      "[mex] Markov Switching SBVAR.\n",
      "\n",
      "Using 64-bit preprocessor\n",
      "Starting Dynare (version 4.5.7).\n",
      "Starting preprocessing of the model file ...\n",
      "Found 2 equation(s).\n",
      "Evaluating expressions...done\n",
      "Computing static model derivatives:\n",
      " - order 1\n",
      "Computing dynamic model derivatives:\n",
      " - order 1\n",
      "Processing outputs ...\n",
      "done\n",
      "Preprocessing completed.\n",
      "\n",
      "\n",
      "STEADY-STATE RESULTS:\n",
      "\n",
      "c \t\t 0.642645\n",
      "k \t\t 1.48996\n",
      "\n",
      "STEADY-STATE RESULTS:\n",
      "\n",
      "c \t\t 0.442645\n",
      "k \t\t 1.48995\n",
      "\n",
      "--------------------------------------------------------\n",
      "MODEL SIMULATION:\n",
      "\n",
      "Iter: 1,\t err. = 0.2, \t time = 0.017\n",
      "Iter: 2,\t err. = 0.016713, \t time = 0.006\n",
      "Iter: 3,\t err. = 0.00038444, \t time = 0.001\n",
      "Iter: 4,\t err. = 1.3226e-07, \t time = 0.002\n",
      "\n",
      "Total time of simulation: 0.037\n",
      "--------------------------------------------------------\n",
      "\n",
      "Perfect foresight solution found.\n",
      "\n",
      "Total computing time : 0h00m00s\n",
      "\n"
     ]
    },
    {
     "data": {
      "image/png": "[encoded data removed]",
      "text/plain": [
       "<IPython.core.display.Image object>"
      ]
     },
     "metadata": {},
     "output_type": "display_data"
    }
   ],
   "source": [
    "dynare permanent_increase_g.mod"
   ]
  },
  {
   "cell_type": "markdown",
   "metadata": {},
   "source": [
    "A permanent increase in $\\tau_c$"
   ]
  },
  {
   "cell_type": "code",
   "execution_count": 28,
   "metadata": {
    "ExecuteTime": {
     "end_time": "2019-09-28T00:44:33.100485Z",
     "start_time": "2019-09-28T00:44:33.087375Z"
    }
   },
   "outputs": [
    {
     "name": "stdout",
     "output_type": "stream",
     "text": [
      "Created file 'C:\\Users\\barry\\Documents\\Academics\\Quantecon-Notes\\Dynare_model\\fiscal_policy_growth\\permanent_increase_tau_c.mod'.\n"
     ]
    }
   ],
   "source": [
    "%%file Dynare_model\\fiscal_policy_growth\\permanent_increase_tau_c.mod\n",
    "\n",
    "var c k;\n",
    "varexo taui tauc tauk g;\n",
    "parameters bet gam del alpha A;\n",
    "bet=.95; \n",
    "gam=2; \n",
    "del=.2; \n",
    "alpha=.33; \n",
    "A=1; \n",
    "\n",
    "\n",
    "model;\n",
    "k=A*k(-1)^alpha+(1-del)*k(-1)-c-g;\n",
    "c^(-gam)=bet*(c(+1)^(-gam))*((1+tauc(-1))/(1+tauc))*((1-taui)*(1-del)/(1-taui(-1))+((1-tauk)/(1-taui(-1)))*alpha*A*k(-1)^(alpha-1));\n",
    "end;\n",
    "\n",
    "initval; \n",
    "k=1.5; \n",
    "c=0.6; \n",
    "g = 0.2; \n",
    "tauc = 0; \n",
    "taui = 0; \n",
    "tauk = 0; \n",
    "end;\n",
    "steady; \n",
    "\n",
    "endval;\n",
    "k=1.5;\n",
    "c=0.4; \n",
    "g =0.2; \n",
    "tauc =0.2; \n",
    "taui =0; \n",
    "tauk =0; end;\n",
    "steady;\n",
    "\n",
    "shocks;\n",
    "var tauc; \n",
    "periods 1:9; \n",
    "values 0; \n",
    "end;\n",
    "\n",
    "simul(periods=100);\n",
    "\n",
    "co=ys0_(1);\n",
    "ko = ys0_(2);\n",
    "go = ex0_(1,1);\n",
    "\n",
    "rbig0=1/bet;\n",
    "rbig=c(2:101).^(-gam)./(bet*c(3:102).^(-gam));\n",
    "rq0=alpha*A*ko^(alpha-1);\n",
    "rq=alpha*A*k(1:100).^(alpha-1);\n",
    "wq0=A*ko^alpha-ko*alpha*A*ko^(alpha-1);\n",
    "wq=A*k(1:100).^alpha-k(1:100).*alpha*A.*k(1:100).^(alpha-1);\n",
    "//sq0=(1-ex_(1,4))*A*alpha*ko^(alpha-1)+(1-del);\n",
    "//sq=(1-ex_(1:100,4)')*A*alpha.*k(1:100).^(alpha-1)+(1-del);\n",
    "\n",
    "figure\n",
    "subplot(2,3,1)\n",
    "plot([ko*ones(100,1)  k(1:100) ])\n",
    "title('k')\n",
    "subplot(2,3,2)\n",
    "plot([co*ones(100,1)  c(2:101) ])\n",
    "title('c')\n",
    "subplot(2,3,3)\n",
    "plot([rbig0*ones(100,1) rbig ])\n",
    "title('R')\n",
    "subplot(2,3,4)\n",
    "plot([wq0*ones(100,1) wq ])\n",
    "title('w/q')\n",
    "//subplot(2,3,5)\n",
    "//plot([sq0*ones(100,1) sq ])\n",
    "//title('s/q')\n",
    "subplot(2,3,5)\n",
    "plot([rq0*ones(100,1) rq ])\n",
    "title('r/q')"
   ]
  },
  {
   "cell_type": "code",
   "execution_count": 29,
   "metadata": {
    "ExecuteTime": {
     "end_time": "2019-09-28T00:44:36.084158Z",
     "start_time": "2019-09-28T00:44:34.245962Z"
    }
   },
   "outputs": [
    {
     "name": "stdout",
     "output_type": "stream",
     "text": [
      "\n",
      "Configuring Dynare ...\n",
      "[mex] Generalized QZ.\n",
      "[mex] Sylvester equation solution.\n",
      "[mex] Kronecker products.\n",
      "[mex] Sparse kronecker products.\n",
      "[mex] Local state space iteration (second order).\n",
      "[mex] Bytecode evaluation.\n",
      "[mex] k-order perturbation solver.\n",
      "[mex] k-order solution simulation.\n",
      "[mex] Quasi Monte-Carlo sequence (Sobol).\n",
      "[mex] Markov Switching SBVAR.\n",
      "\n",
      "Using 64-bit preprocessor\n",
      "Starting Dynare (version 4.5.7).\n",
      "Starting preprocessing of the model file ...\n",
      "Found 2 equation(s).\n",
      "Evaluating expressions...done\n",
      "Computing static model derivatives:\n",
      " - order 1\n",
      "Computing dynamic model derivatives:\n",
      " - order 1\n",
      "Processing outputs ...\n",
      "done\n",
      "Preprocessing completed.\n",
      "\n",
      "\n",
      "STEADY-STATE RESULTS:\n",
      "\n",
      "c \t\t 0.642645\n",
      "k \t\t 1.48996\n",
      "\n",
      "STEADY-STATE RESULTS:\n",
      "\n",
      "c \t\t 0.642645\n",
      "k \t\t 1.48996\n",
      "\n",
      "--------------------------------------------------------\n",
      "MODEL SIMULATION:\n",
      "\n",
      "Iter: 1,\t err. = 0.40356, \t time = 0.01\n",
      "Iter: 2,\t err. = 0.014566, \t time = 0.002\n",
      "Iter: 3,\t err. = 1.5284e-05, \t time = 0.003\n",
      "Iter: 4,\t err. = 9.3122e-11, \t time = 0.002\n",
      "\n",
      "Total time of simulation: 0.019\n",
      "--------------------------------------------------------\n",
      "\n",
      "Perfect foresight solution found.\n",
      "\n",
      "Total computing time : 0h00m00s\n",
      "\n"
     ]
    },
    {
     "data": {
      "image/png": "[encoded data removed]",
      "text/plain": [
       "<IPython.core.display.Image object>"
      ]
     },
     "metadata": {},
     "output_type": "display_data"
    }
   ],
   "source": [
    "dynare permanent_increase_tau_c.mod"
   ]
  },
  {
   "cell_type": "markdown",
   "metadata": {},
   "source": [
    "One time increase in g"
   ]
  },
  {
   "cell_type": "code",
   "execution_count": 30,
   "metadata": {
    "ExecuteTime": {
     "end_time": "2019-09-28T00:46:07.964695Z",
     "start_time": "2019-09-28T00:46:07.951760Z"
    }
   },
   "outputs": [
    {
     "name": "stdout",
     "output_type": "stream",
     "text": [
      "Created file 'C:\\Users\\barry\\Documents\\Academics\\Quantecon-Notes\\Dynare_model\\fiscal_policy_growth\\transit_increase_g.mod'.\n"
     ]
    }
   ],
   "source": [
    "%%file Dynare_model\\fiscal_policy_growth\\transit_increase_g.mod\n",
    "\n",
    "\n",
    "var c k;\n",
    "varexo taui tauc tauk g;\n",
    "parameters bet gam del alpha A;\n",
    "bet=.95; \n",
    "gam=2; \n",
    "del=.2; \n",
    "alpha=.33; \n",
    "A=1; \n",
    "\n",
    "\n",
    "model;\n",
    "k=A*k(-1)^alpha+(1-del)*k(-1)-c-g;\n",
    "c^(-gam)=bet*(c(+1)^(-gam))*((1+tauc(-1))/(1+tauc))*((1-taui)*(1-del)/(1-taui(-1))+((1-tauk)/(1-taui(-1)))*alpha*A*k(-1)^(alpha-1));\n",
    "end;\n",
    "\n",
    "initval; \n",
    "k=1.5; \n",
    "c=0.6; \n",
    "g = 0.2; \n",
    "tauc = 0; \n",
    "taui = 0; \n",
    "tauk = 0; \n",
    "end;\n",
    "steady; \n",
    "\n",
    "endval;\n",
    "k=1.5;\n",
    "c=0.6; \n",
    "g =0.4; \n",
    "tauc =0; \n",
    "taui =0; \n",
    "tauk =0; end;\n",
    "steady;\n",
    "\n",
    "shocks;\n",
    "var g; \n",
    "periods 10; \n",
    "values 0.2; \n",
    "end;\n",
    "\n",
    "simul(periods=100);\n",
    "\n",
    "co=ys0_(1);\n",
    "ko = ys0_(2);\n",
    "go = ex0_(1,1);\n",
    "\n",
    "rbig0=1/bet;\n",
    "rbig=c(2:101).^(-gam)./(bet*c(3:102).^(-gam));\n",
    "rq0=alpha*A*ko^(alpha-1);\n",
    "rq=alpha*A*k(1:100).^(alpha-1);\n",
    "wq0=A*ko^alpha-ko*alpha*A*ko^(alpha-1);\n",
    "wq=A*k(1:100).^alpha-k(1:100).*alpha*A.*k(1:100).^(alpha-1);\n",
    "//sq0=(1-ex_(1,4))*A*alpha*ko^(alpha-1)+(1-del);\n",
    "//sq=(1-ex_(1:100,4)')*A*alpha.*k(1:100).^(alpha-1)+(1-del);\n",
    "\n",
    "figure\n",
    "subplot(2,3,1)\n",
    "plot([ko*ones(100,1)  k(1:100) ])\n",
    "title('k')\n",
    "subplot(2,3,2)\n",
    "plot([co*ones(100,1)  c(2:101) ])\n",
    "title('c')\n",
    "subplot(2,3,3)\n",
    "plot([rbig0*ones(100,1) rbig ])\n",
    "title('R')\n",
    "subplot(2,3,4)\n",
    "plot([wq0*ones(100,1) wq ])\n",
    "title('w/q')\n",
    "//subplot(2,3,5)\n",
    "//plot([sq0*ones(100,1) sq ])\n",
    "//title('s/q')\n",
    "subplot(2,3,5)\n",
    "plot([rq0*ones(100,1) rq ])\n",
    "title('r/q')"
   ]
  },
  {
   "cell_type": "code",
   "execution_count": 31,
   "metadata": {
    "ExecuteTime": {
     "end_time": "2019-09-28T00:46:25.839908Z",
     "start_time": "2019-09-28T00:46:23.902800Z"
    }
   },
   "outputs": [
    {
     "name": "stdout",
     "output_type": "stream",
     "text": [
      "\n",
      "Configuring Dynare ...\n",
      "[mex] Generalized QZ.\n",
      "[mex] Sylvester equation solution.\n",
      "[mex] Kronecker products.\n",
      "[mex] Sparse kronecker products.\n",
      "[mex] Local state space iteration (second order).\n",
      "[mex] Bytecode evaluation.\n",
      "[mex] k-order perturbation solver.\n",
      "[mex] k-order solution simulation.\n",
      "[mex] Quasi Monte-Carlo sequence (Sobol).\n",
      "[mex] Markov Switching SBVAR.\n",
      "\n",
      "Using 64-bit preprocessor\n",
      "Starting Dynare (version 4.5.7).\n",
      "Starting preprocessing of the model file ...\n",
      "Found 2 equation(s).\n",
      "Evaluating expressions...done\n",
      "Computing static model derivatives:\n",
      " - order 1\n",
      "Computing dynamic model derivatives:\n",
      " - order 1\n",
      "Processing outputs ...\n",
      "done\n",
      "Preprocessing completed.\n",
      "\n",
      "\n",
      "STEADY-STATE RESULTS:\n",
      "\n",
      "c \t\t 0.642645\n",
      "k \t\t 1.48996\n",
      "\n",
      "STEADY-STATE RESULTS:\n",
      "\n",
      "c \t\t 0.442645\n",
      "k \t\t 1.48996\n",
      "\n",
      "--------------------------------------------------------\n",
      "MODEL SIMULATION:\n",
      "\n",
      "Iter: 1,\t err. = 0.2, \t time = 0.008\n",
      "Iter: 2,\t err. = 0.0039476, \t time = 0.002\n",
      "Iter: 3,\t err. = 1.1244e-06, \t time = 0.002\n",
      "\n",
      "Total time of simulation: 0.015\n",
      "--------------------------------------------------------\n",
      "\n",
      "Perfect foresight solution found.\n",
      "\n",
      "Total computing time : 0h00m00s\n",
      "\n"
     ]
    },
    {
     "data": {
      "image/png": "[encoded data removed]",
      "text/plain": [
       "<IPython.core.display.Image object>"
      ]
     },
     "metadata": {},
     "output_type": "display_data"
    }
   ],
   "source": [
    "dynare transit_increase_g.mod"
   ]
  },
  {
   "cell_type": "code",
   "execution_count": null,
   "metadata": {},
   "outputs": [],
   "source": []
  }
 ],
 "metadata": {
  "kernelspec": {
   "display_name": "Matlab",
   "language": "matlab",
   "name": "matlab"
  },
  "language_info": {
   "codemirror_mode": "octave",
   "file_extension": ".m",
   "help_links": [
    {
     "text": "MetaKernel Magics",
     "url": "https://metakernel.readthedocs.io/en/latest/source/README.html"
    }
   ],
   "mimetype": "text/x-octave",
   "name": "matlab",
   "version": "0.16.7"
  },
  "latex_envs": {
   "LaTeX_envs_menu_present": true,
   "autoclose": false,
   "autocomplete": true,
   "bibliofile": "biblio.bib",
   "cite_by": "apalike",
   "current_citInitial": 1,
   "eqLabelWithNumbers": true,
   "eqNumInitial": 1,
   "hotkeys": {
    "equation": "Ctrl-E",
    "itemize": "Ctrl-I"
   },
   "labels_anchors": false,
   "latex_user_defs": false,
   "report_style_numbering": false,
   "user_envs_cfg": false
  },
  "varInspector": {
   "cols": {
    "lenName": 16,
    "lenType": 16,
    "lenVar": 40
   },
   "kernels_config": {
    "python": {
     "delete_cmd_postfix": "",
     "delete_cmd_prefix": "del ",
     "library": "var_list.py",
     "varRefreshCmd": "print(var_dic_list())"
    },
    "r": {
     "delete_cmd_postfix": ") ",
     "delete_cmd_prefix": "rm(",
     "library": "var_list.r",
     "varRefreshCmd": "cat(var_dic_list()) "
    }
   },
   "types_to_exclude": [
    "module",
    "function",
    "builtin_function_or_method",
    "instance",
    "_Feature"
   ],
   "window_display": false
  }
 },
 "nbformat": 4,
 "nbformat_minor": 2
}
